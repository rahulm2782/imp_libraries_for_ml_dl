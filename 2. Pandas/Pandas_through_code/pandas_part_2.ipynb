{
 "cells": [
  {
   "cell_type": "markdown",
   "id": "47b3cda5",
   "metadata": {},
   "source": [
    "## Pandas time series"
   ]
  },
  {
   "cell_type": "code",
   "execution_count": 1,
   "id": "ce235759",
   "metadata": {},
   "outputs": [],
   "source": [
    "# We can find out the data within a certain range of date and time by using pandas module named Time series."
   ]
  },
  {
   "cell_type": "code",
   "execution_count": 2,
   "id": "0cb40a69",
   "metadata": {},
   "outputs": [],
   "source": [
    "# - Equivalent to date time python package.\n",
    "# - Used to deal with date time.\n",
    "# Complex operation on date time can be done."
   ]
  },
  {
   "cell_type": "markdown",
   "id": "b4c5d2ab",
   "metadata": {},
   "source": [
    "#### cconverting to timestamp"
   ]
  },
  {
   "cell_type": "code",
   "execution_count": 1,
   "id": "b0ad71b6",
   "metadata": {},
   "outputs": [],
   "source": [
    "strdata = '15-january-2022'"
   ]
  },
  {
   "cell_type": "code",
   "execution_count": 2,
   "id": "152a1b12",
   "metadata": {},
   "outputs": [
    {
     "data": {
      "text/plain": [
       "str"
      ]
     },
     "execution_count": 2,
     "metadata": {},
     "output_type": "execute_result"
    }
   ],
   "source": [
    "type(strdata)"
   ]
  },
  {
   "cell_type": "code",
   "execution_count": 3,
   "id": "4691e47e",
   "metadata": {},
   "outputs": [],
   "source": [
    "import pandas as pd "
   ]
  },
  {
   "cell_type": "code",
   "execution_count": 4,
   "id": "f6b74b41",
   "metadata": {},
   "outputs": [],
   "source": [
    "dateformat=pd.to_datetime(strdata,format='%d-%B-%Y')"
   ]
  },
  {
   "cell_type": "code",
   "execution_count": 5,
   "id": "56f06046",
   "metadata": {},
   "outputs": [
    {
     "data": {
      "text/plain": [
       "Timestamp('2022-01-15 00:00:00')"
      ]
     },
     "execution_count": 5,
     "metadata": {},
     "output_type": "execute_result"
    }
   ],
   "source": [
    "dateformat"
   ]
  },
  {
   "cell_type": "code",
   "execution_count": 15,
   "id": "54e325d5",
   "metadata": {},
   "outputs": [
    {
     "data": {
      "text/plain": [
       "pandas._libs.tslibs.timestamps.Timestamp"
      ]
     },
     "execution_count": 15,
     "metadata": {},
     "output_type": "execute_result"
    }
   ],
   "source": [
    "type(dateformat)"
   ]
  },
  {
   "cell_type": "code",
   "execution_count": 11,
   "id": "442b713c",
   "metadata": {},
   "outputs": [],
   "source": [
    "#%a Weekday as locale's abbreviated name Sun, Mon\n",
    "#%A Weekday as locale's full name. Sunday, Monday\n",
    "#%w Weekday as a decimal number monday:0,Sunday: 6"
   ]
  },
  {
   "cell_type": "code",
   "execution_count": 12,
   "id": "d32d64e1",
   "metadata": {},
   "outputs": [],
   "source": [
    "# %a Weekday as locale's abbreviated name Sun, Mon\n",
    "# %d Day of the month as a zero-padded decimal number. 01, 02"
   ]
  },
  {
   "cell_type": "code",
   "execution_count": 13,
   "id": "177bb50f",
   "metadata": {},
   "outputs": [],
   "source": [
    "# Month as locale's abbreviated name. Jan, Feb Dec\n",
    "# %B Month as locale's full name. January\n",
    "# %m Month as a zero-padded decimal number. 01, e2"
   ]
  },
  {
   "cell_type": "code",
   "execution_count": 14,
   "id": "16ca584d",
   "metadata": {},
   "outputs": [],
   "source": [
    " #we can do it wiyhout format"
   ]
  },
  {
   "cell_type": "code",
   "execution_count": 16,
   "id": "e7ad5985",
   "metadata": {},
   "outputs": [],
   "source": [
    "dates = ['2020-11-25 2:30:00 PM', 'Jan 5, 2020 18:45:00', \n",
    "         '01/11/2020', '2020.01.11', '2020/01/11', '20201105']"
   ]
  },
  {
   "cell_type": "code",
   "execution_count": 18,
   "id": "05aa5853",
   "metadata": {},
   "outputs": [],
   "source": [
    "b=pd.to_datetime(dates)"
   ]
  },
  {
   "cell_type": "code",
   "execution_count": 19,
   "id": "db3d55ba",
   "metadata": {},
   "outputs": [
    {
     "data": {
      "text/plain": [
       "pandas.core.indexes.datetimes.DatetimeIndex"
      ]
     },
     "execution_count": 19,
     "metadata": {},
     "output_type": "execute_result"
    }
   ],
   "source": [
    "type(b)"
   ]
  },
  {
   "cell_type": "code",
   "execution_count": 20,
   "id": "0918810d",
   "metadata": {},
   "outputs": [
    {
     "data": {
      "text/plain": [
       "DatetimeIndex(['2020-11-25 14:30:00', '2020-01-05 18:45:00',\n",
       "               '2020-01-11 00:00:00', '2020-01-11 00:00:00',\n",
       "               '2020-01-11 00:00:00', '2020-11-05 00:00:00'],\n",
       "              dtype='datetime64[ns]', freq=None)"
      ]
     },
     "execution_count": 20,
     "metadata": {},
     "output_type": "execute_result"
    }
   ],
   "source": [
    "b"
   ]
  },
  {
   "cell_type": "code",
   "execution_count": 21,
   "id": "2aa9f4f5",
   "metadata": {},
   "outputs": [],
   "source": [
    "strdata = '21-10-2022'"
   ]
  },
  {
   "cell_type": "code",
   "execution_count": 26,
   "id": "5b2a01a4",
   "metadata": {},
   "outputs": [
    {
     "name": "stderr",
     "output_type": "stream",
     "text": [
      "C:\\Users\\Admin\\AppData\\Local\\Temp\\ipykernel_7128\\596326967.py:1: UserWarning: Parsing '21-10-2022' in DD/MM/YYYY format. Provide format or specify infer_datetime_format=True for consistent parsing.\n",
      "  b = pd.to_datetime(strdata)\n"
     ]
    }
   ],
   "source": [
    "b = pd.to_datetime(strdata)"
   ]
  },
  {
   "cell_type": "code",
   "execution_count": 27,
   "id": "eccb2299",
   "metadata": {},
   "outputs": [
    {
     "data": {
      "text/plain": [
       "Timestamp('2022-10-21 00:00:00')"
      ]
     },
     "execution_count": 27,
     "metadata": {},
     "output_type": "execute_result"
    }
   ],
   "source": [
    "b"
   ]
  },
  {
   "cell_type": "markdown",
   "id": "f6a88339",
   "metadata": {},
   "source": [
    "#### Available Attributes\n",
    "day     \n",
    "dayofweek     \n",
    "dayofyear     \n",
    "days_in_month     \n",
    "daysinmonth     \n",
    "hour     \n",
    "is_leap_year     \n",
    "is_month_end     \n",
    "is_month_start     \n",
    "is_quarter_end     \n",
    "is_quarter_start     \n",
    "is_year_end     \n",
    "is_year_start     \n",
    "minute     \n",
    "month     \n",
    "second     \n",
    "value     \n",
    "week     \n",
    "weekofyear     \n",
    "year"
   ]
  },
  {
   "cell_type": "code",
   "execution_count": 29,
   "id": "699bf2d3",
   "metadata": {},
   "outputs": [
    {
     "data": {
      "text/plain": [
       "21"
      ]
     },
     "execution_count": 29,
     "metadata": {},
     "output_type": "execute_result"
    }
   ],
   "source": [
    "b.day"
   ]
  },
  {
   "cell_type": "code",
   "execution_count": 31,
   "id": "90151f9a",
   "metadata": {},
   "outputs": [
    {
     "data": {
      "text/plain": [
       "'Friday'"
      ]
     },
     "execution_count": 31,
     "metadata": {},
     "output_type": "execute_result"
    }
   ],
   "source": [
    "b.day_name()"
   ]
  },
  {
   "cell_type": "code",
   "execution_count": 32,
   "id": "18f85f97",
   "metadata": {},
   "outputs": [
    {
     "data": {
      "text/plain": [
       "294"
      ]
     },
     "execution_count": 32,
     "metadata": {},
     "output_type": "execute_result"
    }
   ],
   "source": [
    "b.day_of_year"
   ]
  },
  {
   "cell_type": "code",
   "execution_count": 36,
   "id": "2f4be17b",
   "metadata": {},
   "outputs": [
    {
     "data": {
      "text/plain": [
       "4"
      ]
     },
     "execution_count": 36,
     "metadata": {},
     "output_type": "execute_result"
    }
   ],
   "source": [
    "b.day_of_week"
   ]
  },
  {
   "cell_type": "code",
   "execution_count": 37,
   "id": "8307dc96",
   "metadata": {},
   "outputs": [
    {
     "data": {
      "text/plain": [
       "0"
      ]
     },
     "execution_count": 37,
     "metadata": {},
     "output_type": "execute_result"
    }
   ],
   "source": [
    "b.hour"
   ]
  },
  {
   "cell_type": "code",
   "execution_count": 38,
   "id": "d3309f55",
   "metadata": {},
   "outputs": [
    {
     "data": {
      "text/plain": [
       "0"
      ]
     },
     "execution_count": 38,
     "metadata": {},
     "output_type": "execute_result"
    }
   ],
   "source": [
    "b.minute\n"
   ]
  },
  {
   "cell_type": "code",
   "execution_count": 40,
   "id": "928bbc85",
   "metadata": {},
   "outputs": [
    {
     "data": {
      "text/plain": [
       "'October'"
      ]
     },
     "execution_count": 40,
     "metadata": {},
     "output_type": "execute_result"
    }
   ],
   "source": [
    "b.month_name()"
   ]
  },
  {
   "cell_type": "code",
   "execution_count": 41,
   "id": "84907e10",
   "metadata": {},
   "outputs": [
    {
     "data": {
      "text/plain": [
       "False"
      ]
     },
     "execution_count": 41,
     "metadata": {},
     "output_type": "execute_result"
    }
   ],
   "source": [
    "b.is_leap_year"
   ]
  },
  {
   "cell_type": "code",
   "execution_count": 42,
   "id": "f4bc9992",
   "metadata": {},
   "outputs": [
    {
     "data": {
      "text/plain": [
       "False"
      ]
     },
     "execution_count": 42,
     "metadata": {},
     "output_type": "execute_result"
    }
   ],
   "source": [
    "b.is_month_end"
   ]
  },
  {
   "cell_type": "code",
   "execution_count": 43,
   "id": "70d1f344",
   "metadata": {},
   "outputs": [
    {
     "data": {
      "text/plain": [
       "False"
      ]
     },
     "execution_count": 43,
     "metadata": {},
     "output_type": "execute_result"
    }
   ],
   "source": [
    "b.is_month_start"
   ]
  },
  {
   "cell_type": "code",
   "execution_count": 44,
   "id": "78f11247",
   "metadata": {},
   "outputs": [
    {
     "data": {
      "text/plain": [
       "False"
      ]
     },
     "execution_count": 44,
     "metadata": {},
     "output_type": "execute_result"
    }
   ],
   "source": [
    "b.is_quarter_end"
   ]
  },
  {
   "cell_type": "code",
   "execution_count": 45,
   "id": "b3ca754e",
   "metadata": {},
   "outputs": [
    {
     "data": {
      "text/plain": [
       "False"
      ]
     },
     "execution_count": 45,
     "metadata": {},
     "output_type": "execute_result"
    }
   ],
   "source": [
    "b.is_quarter_start"
   ]
  },
  {
   "cell_type": "code",
   "execution_count": 46,
   "id": "d495d843",
   "metadata": {},
   "outputs": [
    {
     "data": {
      "text/plain": [
       "False"
      ]
     },
     "execution_count": 46,
     "metadata": {},
     "output_type": "execute_result"
    }
   ],
   "source": [
    "b.is_year_end"
   ]
  },
  {
   "cell_type": "code",
   "execution_count": 1,
   "id": "d5e8b44a",
   "metadata": {},
   "outputs": [],
   "source": [
    "###"
   ]
  },
  {
   "cell_type": "code",
   "execution_count": 16,
   "id": "276335f5",
   "metadata": {},
   "outputs": [],
   "source": [
    "import pandas as pd\n",
    "import numpy as np"
   ]
  },
  {
   "cell_type": "code",
   "execution_count": 20,
   "id": "73223a74",
   "metadata": {},
   "outputs": [],
   "source": [
    "str = 'april 30,2022 14:45:00:00'"
   ]
  },
  {
   "cell_type": "code",
   "execution_count": 17,
   "id": "84e2edfc",
   "metadata": {},
   "outputs": [],
   "source": [
    "strr = '17-01-2023'"
   ]
  },
  {
   "cell_type": "code",
   "execution_count": 21,
   "id": "f76f4207-32ec-478f-bade-620ec7abff2f",
   "metadata": {},
   "outputs": [
    {
     "name": "stdout",
     "output_type": "stream",
     "text": [
      "17\n",
      "False\n"
     ]
    },
    {
     "name": "stderr",
     "output_type": "stream",
     "text": [
      "/tmp/ipykernel_9068/649494631.py:1: UserWarning: Parsing dates in DD/MM/YYYY format when dayfirst=False (the default) was specified. This may lead to inconsistently parsed dates! Specify a format to ensure consistent parsing.\n",
      "  str_date = pd.to_datetime(strr)\n"
     ]
    }
   ],
   "source": [
    "str_date = pd.to_datetime(strr)\n",
    "\n",
    "print(str_date.day)\n",
    "print(str_date.is_leap_year)"
   ]
  },
  {
   "cell_type": "markdown",
   "id": "b3209a0d",
   "metadata": {},
   "source": [
    "### pandas time series"
   ]
  },
  {
   "cell_type": "code",
   "execution_count": 22,
   "id": "c3be33c6",
   "metadata": {},
   "outputs": [],
   "source": [
    "df = pd.read_csv('shirpurGoldRefinery.csv')"
   ]
  },
  {
   "cell_type": "code",
   "execution_count": 24,
   "id": "f7c4c795",
   "metadata": {},
   "outputs": [
    {
     "data": {
      "text/html": [
       "<div>\n",
       "<style scoped>\n",
       "    .dataframe tbody tr th:only-of-type {\n",
       "        vertical-align: middle;\n",
       "    }\n",
       "\n",
       "    .dataframe tbody tr th {\n",
       "        vertical-align: top;\n",
       "    }\n",
       "\n",
       "    .dataframe thead th {\n",
       "        text-align: right;\n",
       "    }\n",
       "</style>\n",
       "<table border=\"1\" class=\"dataframe\">\n",
       "  <thead>\n",
       "    <tr style=\"text-align: right;\">\n",
       "      <th></th>\n",
       "      <th>Date</th>\n",
       "      <th>Open Price</th>\n",
       "      <th>High Price</th>\n",
       "      <th>Low Price</th>\n",
       "      <th>Close Price</th>\n",
       "      <th>WAP</th>\n",
       "      <th>No.of Shares</th>\n",
       "      <th>No. of Trades</th>\n",
       "      <th>Total Turnover (Rs.)</th>\n",
       "      <th>Deliverable Quantity</th>\n",
       "      <th>% Deli. Qty to Traded Qty</th>\n",
       "      <th>Spread High-Low</th>\n",
       "      <th>Spread Close-Open</th>\n",
       "    </tr>\n",
       "  </thead>\n",
       "  <tbody>\n",
       "    <tr>\n",
       "      <th>0</th>\n",
       "      <td>29-December-2017</td>\n",
       "      <td>203.55</td>\n",
       "      <td>206.5</td>\n",
       "      <td>201.00</td>\n",
       "      <td>201.85</td>\n",
       "      <td>202.760380</td>\n",
       "      <td>3372</td>\n",
       "      <td>68</td>\n",
       "      <td>683708.0</td>\n",
       "      <td>2202</td>\n",
       "      <td>65.30</td>\n",
       "      <td>5.50</td>\n",
       "      <td>-1.7</td>\n",
       "    </tr>\n",
       "    <tr>\n",
       "      <th>1</th>\n",
       "      <td>28-December-2017</td>\n",
       "      <td>202.00</td>\n",
       "      <td>207.6</td>\n",
       "      <td>199.55</td>\n",
       "      <td>202.80</td>\n",
       "      <td>203.118439</td>\n",
       "      <td>8612</td>\n",
       "      <td>196</td>\n",
       "      <td>1749256.0</td>\n",
       "      <td>5063</td>\n",
       "      <td>58.79</td>\n",
       "      <td>8.05</td>\n",
       "      <td>0.8</td>\n",
       "    </tr>\n",
       "    <tr>\n",
       "      <th>2</th>\n",
       "      <td>27-December-2017</td>\n",
       "      <td>209.10</td>\n",
       "      <td>213.6</td>\n",
       "      <td>195.20</td>\n",
       "      <td>197.80</td>\n",
       "      <td>202.801825</td>\n",
       "      <td>24983</td>\n",
       "      <td>426</td>\n",
       "      <td>5066598.0</td>\n",
       "      <td>14168</td>\n",
       "      <td>56.71</td>\n",
       "      <td>18.40</td>\n",
       "      <td>-11.3</td>\n",
       "    </tr>\n",
       "    <tr>\n",
       "      <th>3</th>\n",
       "      <td>26-December-2017</td>\n",
       "      <td>216.50</td>\n",
       "      <td>219.9</td>\n",
       "      <td>207.20</td>\n",
       "      <td>209.70</td>\n",
       "      <td>213.418007</td>\n",
       "      <td>17782</td>\n",
       "      <td>363</td>\n",
       "      <td>3794999.0</td>\n",
       "      <td>7540</td>\n",
       "      <td>42.40</td>\n",
       "      <td>12.70</td>\n",
       "      <td>-6.8</td>\n",
       "    </tr>\n",
       "    <tr>\n",
       "      <th>4</th>\n",
       "      <td>22-December-2017</td>\n",
       "      <td>218.95</td>\n",
       "      <td>233.6</td>\n",
       "      <td>212.40</td>\n",
       "      <td>218.15</td>\n",
       "      <td>223.089049</td>\n",
       "      <td>165976</td>\n",
       "      <td>2710</td>\n",
       "      <td>37027428.0</td>\n",
       "      <td>60121</td>\n",
       "      <td>36.22</td>\n",
       "      <td>21.20</td>\n",
       "      <td>-0.8</td>\n",
       "    </tr>\n",
       "  </tbody>\n",
       "</table>\n",
       "</div>"
      ],
      "text/plain": [
       "               Date  Open Price  High Price  Low Price  Close Price  \\\n",
       "0  29-December-2017      203.55       206.5     201.00       201.85   \n",
       "1  28-December-2017      202.00       207.6     199.55       202.80   \n",
       "2  27-December-2017      209.10       213.6     195.20       197.80   \n",
       "3  26-December-2017      216.50       219.9     207.20       209.70   \n",
       "4  22-December-2017      218.95       233.6     212.40       218.15   \n",
       "\n",
       "          WAP  No.of Shares  No. of Trades  Total Turnover (Rs.)  \\\n",
       "0  202.760380          3372             68              683708.0   \n",
       "1  203.118439          8612            196             1749256.0   \n",
       "2  202.801825         24983            426             5066598.0   \n",
       "3  213.418007         17782            363             3794999.0   \n",
       "4  223.089049        165976           2710            37027428.0   \n",
       "\n",
       "   Deliverable Quantity  % Deli. Qty to Traded Qty  Spread High-Low  \\\n",
       "0                  2202                      65.30             5.50   \n",
       "1                  5063                      58.79             8.05   \n",
       "2                 14168                      56.71            18.40   \n",
       "3                  7540                      42.40            12.70   \n",
       "4                 60121                      36.22            21.20   \n",
       "\n",
       "   Spread Close-Open  \n",
       "0               -1.7  \n",
       "1                0.8  \n",
       "2              -11.3  \n",
       "3               -6.8  \n",
       "4               -0.8  "
      ]
     },
     "execution_count": 24,
     "metadata": {},
     "output_type": "execute_result"
    }
   ],
   "source": [
    "df.head()"
   ]
  },
  {
   "cell_type": "code",
   "execution_count": 31,
   "id": "47c7431b",
   "metadata": {},
   "outputs": [
    {
     "data": {
      "text/plain": [
       "(248, 13)"
      ]
     },
     "execution_count": 31,
     "metadata": {},
     "output_type": "execute_result"
    }
   ],
   "source": [
    "df.shape"
   ]
  },
  {
   "cell_type": "code",
   "execution_count": 26,
   "id": "a642d2ae",
   "metadata": {},
   "outputs": [
    {
     "data": {
      "text/plain": [
       "dtype('O')"
      ]
     },
     "execution_count": 26,
     "metadata": {},
     "output_type": "execute_result"
    }
   ],
   "source": [
    "df['Date'].dtype"
   ]
  },
  {
   "cell_type": "code",
   "execution_count": 30,
   "id": "51c7ac9a",
   "metadata": {},
   "outputs": [
    {
     "data": {
      "text/plain": [
       "dtype('float64')"
      ]
     },
     "execution_count": 30,
     "metadata": {},
     "output_type": "execute_result"
    }
   ],
   "source": [
    "df.WAP.dtype"
   ]
  },
  {
   "cell_type": "code",
   "execution_count": 28,
   "id": "f2c93557",
   "metadata": {},
   "outputs": [
    {
     "name": "stdout",
     "output_type": "stream",
     "text": [
      "<class 'pandas.core.frame.DataFrame'>\n",
      "RangeIndex: 248 entries, 0 to 247\n",
      "Data columns (total 13 columns):\n",
      " #   Column                     Non-Null Count  Dtype  \n",
      "---  ------                     --------------  -----  \n",
      " 0   Date                       248 non-null    object \n",
      " 1   Open Price                 248 non-null    float64\n",
      " 2   High Price                 248 non-null    float64\n",
      " 3   Low Price                  248 non-null    float64\n",
      " 4   Close Price                248 non-null    float64\n",
      " 5   WAP                        248 non-null    float64\n",
      " 6   No.of Shares               248 non-null    int64  \n",
      " 7   No. of Trades              248 non-null    int64  \n",
      " 8   Total Turnover (Rs.)       248 non-null    float64\n",
      " 9   Deliverable Quantity       248 non-null    int64  \n",
      " 10  % Deli. Qty to Traded Qty  248 non-null    float64\n",
      " 11  Spread High-Low            248 non-null    float64\n",
      " 12  Spread Close-Open          248 non-null    float64\n",
      "dtypes: float64(9), int64(3), object(1)\n",
      "memory usage: 25.3+ KB\n"
     ]
    }
   ],
   "source": [
    "df.info()"
   ]
  },
  {
   "cell_type": "code",
   "execution_count": 32,
   "id": "0d7d88af",
   "metadata": {},
   "outputs": [
    {
     "data": {
      "text/plain": [
       "0      29-December-2017\n",
       "1      28-December-2017\n",
       "2      27-December-2017\n",
       "3      26-December-2017\n",
       "4      22-December-2017\n",
       "             ...       \n",
       "243      6-January-2017\n",
       "244      5-January-2017\n",
       "245      4-January-2017\n",
       "246      3-January-2017\n",
       "247      2-January-2017\n",
       "Name: Date, Length: 248, dtype: object"
      ]
     },
     "execution_count": 32,
     "metadata": {},
     "output_type": "execute_result"
    }
   ],
   "source": [
    "df['Date']"
   ]
  },
  {
   "cell_type": "code",
   "execution_count": 37,
   "id": "e6f92385",
   "metadata": {},
   "outputs": [
    {
     "data": {
      "text/plain": [
       "'29-December-2017'"
      ]
     },
     "execution_count": 37,
     "metadata": {},
     "output_type": "execute_result"
    }
   ],
   "source": [
    "df.iat[0,0]"
   ]
  },
  {
   "cell_type": "code",
   "execution_count": 39,
   "id": "d88e168b",
   "metadata": {},
   "outputs": [],
   "source": [
    "b = df.at[0,'Date']"
   ]
  },
  {
   "cell_type": "code",
   "execution_count": 40,
   "id": "2c46513f",
   "metadata": {},
   "outputs": [
    {
     "data": {
      "text/plain": [
       "str"
      ]
     },
     "execution_count": 40,
     "metadata": {},
     "output_type": "execute_result"
    }
   ],
   "source": [
    "type(b)"
   ]
  },
  {
   "cell_type": "code",
   "execution_count": 41,
   "id": "7494cd9e",
   "metadata": {},
   "outputs": [],
   "source": [
    "df['Timestamp']=pd.to_datetime(df.Date)"
   ]
  },
  {
   "cell_type": "code",
   "execution_count": 43,
   "id": "47311495",
   "metadata": {},
   "outputs": [
    {
     "data": {
      "text/html": [
       "<div>\n",
       "<style scoped>\n",
       "    .dataframe tbody tr th:only-of-type {\n",
       "        vertical-align: middle;\n",
       "    }\n",
       "\n",
       "    .dataframe tbody tr th {\n",
       "        vertical-align: top;\n",
       "    }\n",
       "\n",
       "    .dataframe thead th {\n",
       "        text-align: right;\n",
       "    }\n",
       "</style>\n",
       "<table border=\"1\" class=\"dataframe\">\n",
       "  <thead>\n",
       "    <tr style=\"text-align: right;\">\n",
       "      <th></th>\n",
       "      <th>Date</th>\n",
       "      <th>Open Price</th>\n",
       "      <th>High Price</th>\n",
       "      <th>Low Price</th>\n",
       "      <th>Close Price</th>\n",
       "      <th>WAP</th>\n",
       "      <th>No.of Shares</th>\n",
       "      <th>No. of Trades</th>\n",
       "      <th>Total Turnover (Rs.)</th>\n",
       "      <th>Deliverable Quantity</th>\n",
       "      <th>% Deli. Qty to Traded Qty</th>\n",
       "      <th>Spread High-Low</th>\n",
       "      <th>Spread Close-Open</th>\n",
       "      <th>Timestamp</th>\n",
       "    </tr>\n",
       "  </thead>\n",
       "  <tbody>\n",
       "    <tr>\n",
       "      <th>0</th>\n",
       "      <td>29-December-2017</td>\n",
       "      <td>203.55</td>\n",
       "      <td>206.5</td>\n",
       "      <td>201.00</td>\n",
       "      <td>201.85</td>\n",
       "      <td>202.760380</td>\n",
       "      <td>3372</td>\n",
       "      <td>68</td>\n",
       "      <td>683708.0</td>\n",
       "      <td>2202</td>\n",
       "      <td>65.30</td>\n",
       "      <td>5.50</td>\n",
       "      <td>-1.7</td>\n",
       "      <td>2017-12-29</td>\n",
       "    </tr>\n",
       "    <tr>\n",
       "      <th>1</th>\n",
       "      <td>28-December-2017</td>\n",
       "      <td>202.00</td>\n",
       "      <td>207.6</td>\n",
       "      <td>199.55</td>\n",
       "      <td>202.80</td>\n",
       "      <td>203.118439</td>\n",
       "      <td>8612</td>\n",
       "      <td>196</td>\n",
       "      <td>1749256.0</td>\n",
       "      <td>5063</td>\n",
       "      <td>58.79</td>\n",
       "      <td>8.05</td>\n",
       "      <td>0.8</td>\n",
       "      <td>2017-12-28</td>\n",
       "    </tr>\n",
       "    <tr>\n",
       "      <th>2</th>\n",
       "      <td>27-December-2017</td>\n",
       "      <td>209.10</td>\n",
       "      <td>213.6</td>\n",
       "      <td>195.20</td>\n",
       "      <td>197.80</td>\n",
       "      <td>202.801825</td>\n",
       "      <td>24983</td>\n",
       "      <td>426</td>\n",
       "      <td>5066598.0</td>\n",
       "      <td>14168</td>\n",
       "      <td>56.71</td>\n",
       "      <td>18.40</td>\n",
       "      <td>-11.3</td>\n",
       "      <td>2017-12-27</td>\n",
       "    </tr>\n",
       "    <tr>\n",
       "      <th>3</th>\n",
       "      <td>26-December-2017</td>\n",
       "      <td>216.50</td>\n",
       "      <td>219.9</td>\n",
       "      <td>207.20</td>\n",
       "      <td>209.70</td>\n",
       "      <td>213.418007</td>\n",
       "      <td>17782</td>\n",
       "      <td>363</td>\n",
       "      <td>3794999.0</td>\n",
       "      <td>7540</td>\n",
       "      <td>42.40</td>\n",
       "      <td>12.70</td>\n",
       "      <td>-6.8</td>\n",
       "      <td>2017-12-26</td>\n",
       "    </tr>\n",
       "    <tr>\n",
       "      <th>4</th>\n",
       "      <td>22-December-2017</td>\n",
       "      <td>218.95</td>\n",
       "      <td>233.6</td>\n",
       "      <td>212.40</td>\n",
       "      <td>218.15</td>\n",
       "      <td>223.089049</td>\n",
       "      <td>165976</td>\n",
       "      <td>2710</td>\n",
       "      <td>37027428.0</td>\n",
       "      <td>60121</td>\n",
       "      <td>36.22</td>\n",
       "      <td>21.20</td>\n",
       "      <td>-0.8</td>\n",
       "      <td>2017-12-22</td>\n",
       "    </tr>\n",
       "  </tbody>\n",
       "</table>\n",
       "</div>"
      ],
      "text/plain": [
       "               Date  Open Price  High Price  Low Price  Close Price  \\\n",
       "0  29-December-2017      203.55       206.5     201.00       201.85   \n",
       "1  28-December-2017      202.00       207.6     199.55       202.80   \n",
       "2  27-December-2017      209.10       213.6     195.20       197.80   \n",
       "3  26-December-2017      216.50       219.9     207.20       209.70   \n",
       "4  22-December-2017      218.95       233.6     212.40       218.15   \n",
       "\n",
       "          WAP  No.of Shares  No. of Trades  Total Turnover (Rs.)  \\\n",
       "0  202.760380          3372             68              683708.0   \n",
       "1  203.118439          8612            196             1749256.0   \n",
       "2  202.801825         24983            426             5066598.0   \n",
       "3  213.418007         17782            363             3794999.0   \n",
       "4  223.089049        165976           2710            37027428.0   \n",
       "\n",
       "   Deliverable Quantity  % Deli. Qty to Traded Qty  Spread High-Low  \\\n",
       "0                  2202                      65.30             5.50   \n",
       "1                  5063                      58.79             8.05   \n",
       "2                 14168                      56.71            18.40   \n",
       "3                  7540                      42.40            12.70   \n",
       "4                 60121                      36.22            21.20   \n",
       "\n",
       "   Spread Close-Open  Timestamp  \n",
       "0               -1.7 2017-12-29  \n",
       "1                0.8 2017-12-28  \n",
       "2              -11.3 2017-12-27  \n",
       "3               -6.8 2017-12-26  \n",
       "4               -0.8 2017-12-22  "
      ]
     },
     "execution_count": 43,
     "metadata": {},
     "output_type": "execute_result"
    }
   ],
   "source": [
    "df.head()"
   ]
  },
  {
   "cell_type": "code",
   "execution_count": 44,
   "id": "137010f7",
   "metadata": {},
   "outputs": [
    {
     "data": {
      "text/plain": [
       "0     2017-12-29\n",
       "1     2017-12-28\n",
       "2     2017-12-27\n",
       "3     2017-12-26\n",
       "4     2017-12-22\n",
       "         ...    \n",
       "243   2017-01-06\n",
       "244   2017-01-05\n",
       "245   2017-01-04\n",
       "246   2017-01-03\n",
       "247   2017-01-02\n",
       "Name: Timestamp, Length: 248, dtype: datetime64[ns]"
      ]
     },
     "execution_count": 44,
     "metadata": {},
     "output_type": "execute_result"
    }
   ],
   "source": [
    "df.Timestamp"
   ]
  },
  {
   "cell_type": "code",
   "execution_count": 46,
   "id": "e0c4c4cf",
   "metadata": {},
   "outputs": [
    {
     "data": {
      "text/plain": [
       "dtype('O')"
      ]
     },
     "execution_count": 46,
     "metadata": {},
     "output_type": "execute_result"
    }
   ],
   "source": [
    "df.Date.dtype"
   ]
  },
  {
   "cell_type": "code",
   "execution_count": 47,
   "id": "67ee05d3",
   "metadata": {},
   "outputs": [
    {
     "data": {
      "text/plain": [
       "dtype('<M8[ns]')"
      ]
     },
     "execution_count": 47,
     "metadata": {},
     "output_type": "execute_result"
    }
   ],
   "source": [
    "df.Timestamp.dtype"
   ]
  },
  {
   "cell_type": "code",
   "execution_count": 48,
   "id": "14e08f25",
   "metadata": {},
   "outputs": [
    {
     "name": "stdout",
     "output_type": "stream",
     "text": [
      "<class 'pandas.core.frame.DataFrame'>\n",
      "RangeIndex: 248 entries, 0 to 247\n",
      "Data columns (total 14 columns):\n",
      " #   Column                     Non-Null Count  Dtype         \n",
      "---  ------                     --------------  -----         \n",
      " 0   Date                       248 non-null    object        \n",
      " 1   Open Price                 248 non-null    float64       \n",
      " 2   High Price                 248 non-null    float64       \n",
      " 3   Low Price                  248 non-null    float64       \n",
      " 4   Close Price                248 non-null    float64       \n",
      " 5   WAP                        248 non-null    float64       \n",
      " 6   No.of Shares               248 non-null    int64         \n",
      " 7   No. of Trades              248 non-null    int64         \n",
      " 8   Total Turnover (Rs.)       248 non-null    float64       \n",
      " 9   Deliverable Quantity       248 non-null    int64         \n",
      " 10  % Deli. Qty to Traded Qty  248 non-null    float64       \n",
      " 11  Spread High-Low            248 non-null    float64       \n",
      " 12  Spread Close-Open          248 non-null    float64       \n",
      " 13  Timestamp                  248 non-null    datetime64[ns]\n",
      "dtypes: datetime64[ns](1), float64(9), int64(3), object(1)\n",
      "memory usage: 27.2+ KB\n"
     ]
    }
   ],
   "source": [
    "df.info()"
   ]
  },
  {
   "cell_type": "code",
   "execution_count": 52,
   "id": "ff6859cf",
   "metadata": {},
   "outputs": [
    {
     "data": {
      "text/plain": [
       "pandas._libs.tslibs.timestamps.Timestamp"
      ]
     },
     "execution_count": 52,
     "metadata": {},
     "output_type": "execute_result"
    }
   ],
   "source": [
    "type(df.at[0,'Timestamp'])"
   ]
  },
  {
   "cell_type": "code",
   "execution_count": 53,
   "id": "f68f4caa",
   "metadata": {},
   "outputs": [],
   "source": [
    "##"
   ]
  },
  {
   "cell_type": "code",
   "execution_count": 54,
   "id": "4f168a02",
   "metadata": {},
   "outputs": [],
   "source": [
    "df['Date']=pd.to_datetime(df.Date)"
   ]
  },
  {
   "cell_type": "code",
   "execution_count": 55,
   "id": "a72f997d",
   "metadata": {},
   "outputs": [
    {
     "name": "stdout",
     "output_type": "stream",
     "text": [
      "<class 'pandas.core.frame.DataFrame'>\n",
      "RangeIndex: 248 entries, 0 to 247\n",
      "Data columns (total 14 columns):\n",
      " #   Column                     Non-Null Count  Dtype         \n",
      "---  ------                     --------------  -----         \n",
      " 0   Date                       248 non-null    datetime64[ns]\n",
      " 1   Open Price                 248 non-null    float64       \n",
      " 2   High Price                 248 non-null    float64       \n",
      " 3   Low Price                  248 non-null    float64       \n",
      " 4   Close Price                248 non-null    float64       \n",
      " 5   WAP                        248 non-null    float64       \n",
      " 6   No.of Shares               248 non-null    int64         \n",
      " 7   No. of Trades              248 non-null    int64         \n",
      " 8   Total Turnover (Rs.)       248 non-null    float64       \n",
      " 9   Deliverable Quantity       248 non-null    int64         \n",
      " 10  % Deli. Qty to Traded Qty  248 non-null    float64       \n",
      " 11  Spread High-Low            248 non-null    float64       \n",
      " 12  Spread Close-Open          248 non-null    float64       \n",
      " 13  Timestamp                  248 non-null    datetime64[ns]\n",
      "dtypes: datetime64[ns](2), float64(9), int64(3)\n",
      "memory usage: 27.2 KB\n"
     ]
    }
   ],
   "source": [
    "df.info()"
   ]
  },
  {
   "cell_type": "code",
   "execution_count": 57,
   "id": "103e8b5d",
   "metadata": {},
   "outputs": [
    {
     "data": {
      "text/plain": [
       "pandas._libs.tslibs.timestamps.Timestamp"
      ]
     },
     "execution_count": 57,
     "metadata": {},
     "output_type": "execute_result"
    }
   ],
   "source": [
    "type(df.at[0,'Date'])"
   ]
  },
  {
   "cell_type": "code",
   "execution_count": 58,
   "id": "7ebe8d8b",
   "metadata": {},
   "outputs": [
    {
     "data": {
      "text/plain": [
       "Timestamp('2017-12-29 00:00:00')"
      ]
     },
     "execution_count": 58,
     "metadata": {},
     "output_type": "execute_result"
    }
   ],
   "source": [
    "df.Date.max()"
   ]
  },
  {
   "cell_type": "code",
   "execution_count": 59,
   "id": "977a5abd",
   "metadata": {},
   "outputs": [
    {
     "data": {
      "text/html": [
       "<div>\n",
       "<style scoped>\n",
       "    .dataframe tbody tr th:only-of-type {\n",
       "        vertical-align: middle;\n",
       "    }\n",
       "\n",
       "    .dataframe tbody tr th {\n",
       "        vertical-align: top;\n",
       "    }\n",
       "\n",
       "    .dataframe thead th {\n",
       "        text-align: right;\n",
       "    }\n",
       "</style>\n",
       "<table border=\"1\" class=\"dataframe\">\n",
       "  <thead>\n",
       "    <tr style=\"text-align: right;\">\n",
       "      <th></th>\n",
       "      <th>Date</th>\n",
       "      <th>Open Price</th>\n",
       "      <th>High Price</th>\n",
       "      <th>Low Price</th>\n",
       "      <th>Close Price</th>\n",
       "      <th>WAP</th>\n",
       "      <th>No.of Shares</th>\n",
       "      <th>No. of Trades</th>\n",
       "      <th>Total Turnover (Rs.)</th>\n",
       "      <th>Deliverable Quantity</th>\n",
       "      <th>% Deli. Qty to Traded Qty</th>\n",
       "      <th>Spread High-Low</th>\n",
       "      <th>Spread Close-Open</th>\n",
       "      <th>Timestamp</th>\n",
       "    </tr>\n",
       "  </thead>\n",
       "  <tbody>\n",
       "    <tr>\n",
       "      <th>0</th>\n",
       "      <td>2017-12-29</td>\n",
       "      <td>203.55</td>\n",
       "      <td>206.5</td>\n",
       "      <td>201.00</td>\n",
       "      <td>201.85</td>\n",
       "      <td>202.760380</td>\n",
       "      <td>3372</td>\n",
       "      <td>68</td>\n",
       "      <td>683708.0</td>\n",
       "      <td>2202</td>\n",
       "      <td>65.30</td>\n",
       "      <td>5.50</td>\n",
       "      <td>-1.70</td>\n",
       "      <td>2017-12-29</td>\n",
       "    </tr>\n",
       "    <tr>\n",
       "      <th>1</th>\n",
       "      <td>2017-12-28</td>\n",
       "      <td>202.00</td>\n",
       "      <td>207.6</td>\n",
       "      <td>199.55</td>\n",
       "      <td>202.80</td>\n",
       "      <td>203.118439</td>\n",
       "      <td>8612</td>\n",
       "      <td>196</td>\n",
       "      <td>1749256.0</td>\n",
       "      <td>5063</td>\n",
       "      <td>58.79</td>\n",
       "      <td>8.05</td>\n",
       "      <td>0.80</td>\n",
       "      <td>2017-12-28</td>\n",
       "    </tr>\n",
       "    <tr>\n",
       "      <th>2</th>\n",
       "      <td>2017-12-27</td>\n",
       "      <td>209.10</td>\n",
       "      <td>213.6</td>\n",
       "      <td>195.20</td>\n",
       "      <td>197.80</td>\n",
       "      <td>202.801825</td>\n",
       "      <td>24983</td>\n",
       "      <td>426</td>\n",
       "      <td>5066598.0</td>\n",
       "      <td>14168</td>\n",
       "      <td>56.71</td>\n",
       "      <td>18.40</td>\n",
       "      <td>-11.30</td>\n",
       "      <td>2017-12-27</td>\n",
       "    </tr>\n",
       "    <tr>\n",
       "      <th>3</th>\n",
       "      <td>2017-12-26</td>\n",
       "      <td>216.50</td>\n",
       "      <td>219.9</td>\n",
       "      <td>207.20</td>\n",
       "      <td>209.70</td>\n",
       "      <td>213.418007</td>\n",
       "      <td>17782</td>\n",
       "      <td>363</td>\n",
       "      <td>3794999.0</td>\n",
       "      <td>7540</td>\n",
       "      <td>42.40</td>\n",
       "      <td>12.70</td>\n",
       "      <td>-6.80</td>\n",
       "      <td>2017-12-26</td>\n",
       "    </tr>\n",
       "    <tr>\n",
       "      <th>4</th>\n",
       "      <td>2017-12-22</td>\n",
       "      <td>218.95</td>\n",
       "      <td>233.6</td>\n",
       "      <td>212.40</td>\n",
       "      <td>218.15</td>\n",
       "      <td>223.089049</td>\n",
       "      <td>165976</td>\n",
       "      <td>2710</td>\n",
       "      <td>37027428.0</td>\n",
       "      <td>60121</td>\n",
       "      <td>36.22</td>\n",
       "      <td>21.20</td>\n",
       "      <td>-0.80</td>\n",
       "      <td>2017-12-22</td>\n",
       "    </tr>\n",
       "    <tr>\n",
       "      <th>...</th>\n",
       "      <td>...</td>\n",
       "      <td>...</td>\n",
       "      <td>...</td>\n",
       "      <td>...</td>\n",
       "      <td>...</td>\n",
       "      <td>...</td>\n",
       "      <td>...</td>\n",
       "      <td>...</td>\n",
       "      <td>...</td>\n",
       "      <td>...</td>\n",
       "      <td>...</td>\n",
       "      <td>...</td>\n",
       "      <td>...</td>\n",
       "      <td>...</td>\n",
       "    </tr>\n",
       "    <tr>\n",
       "      <th>243</th>\n",
       "      <td>2017-01-06</td>\n",
       "      <td>110.10</td>\n",
       "      <td>110.1</td>\n",
       "      <td>107.80</td>\n",
       "      <td>110.10</td>\n",
       "      <td>110.048719</td>\n",
       "      <td>2771</td>\n",
       "      <td>34</td>\n",
       "      <td>304945.0</td>\n",
       "      <td>2045</td>\n",
       "      <td>73.80</td>\n",
       "      <td>2.30</td>\n",
       "      <td>0.00</td>\n",
       "      <td>2017-01-06</td>\n",
       "    </tr>\n",
       "    <tr>\n",
       "      <th>244</th>\n",
       "      <td>2017-01-05</td>\n",
       "      <td>101.00</td>\n",
       "      <td>104.9</td>\n",
       "      <td>100.00</td>\n",
       "      <td>104.90</td>\n",
       "      <td>103.352347</td>\n",
       "      <td>9993</td>\n",
       "      <td>147</td>\n",
       "      <td>1032800.0</td>\n",
       "      <td>5969</td>\n",
       "      <td>59.73</td>\n",
       "      <td>4.90</td>\n",
       "      <td>3.90</td>\n",
       "      <td>2017-01-05</td>\n",
       "    </tr>\n",
       "    <tr>\n",
       "      <th>245</th>\n",
       "      <td>2017-01-04</td>\n",
       "      <td>99.50</td>\n",
       "      <td>102.0</td>\n",
       "      <td>99.50</td>\n",
       "      <td>99.95</td>\n",
       "      <td>100.293226</td>\n",
       "      <td>4488</td>\n",
       "      <td>101</td>\n",
       "      <td>450116.0</td>\n",
       "      <td>3422</td>\n",
       "      <td>76.25</td>\n",
       "      <td>2.50</td>\n",
       "      <td>0.45</td>\n",
       "      <td>2017-01-04</td>\n",
       "    </tr>\n",
       "    <tr>\n",
       "      <th>246</th>\n",
       "      <td>2017-01-03</td>\n",
       "      <td>102.00</td>\n",
       "      <td>102.0</td>\n",
       "      <td>100.05</td>\n",
       "      <td>100.65</td>\n",
       "      <td>100.784909</td>\n",
       "      <td>6295</td>\n",
       "      <td>101</td>\n",
       "      <td>634441.0</td>\n",
       "      <td>4205</td>\n",
       "      <td>66.80</td>\n",
       "      <td>1.95</td>\n",
       "      <td>-1.35</td>\n",
       "      <td>2017-01-03</td>\n",
       "    </tr>\n",
       "    <tr>\n",
       "      <th>247</th>\n",
       "      <td>2017-01-02</td>\n",
       "      <td>104.00</td>\n",
       "      <td>104.0</td>\n",
       "      <td>99.00</td>\n",
       "      <td>101.65</td>\n",
       "      <td>101.302024</td>\n",
       "      <td>5483</td>\n",
       "      <td>182</td>\n",
       "      <td>555439.0</td>\n",
       "      <td>5062</td>\n",
       "      <td>92.32</td>\n",
       "      <td>5.00</td>\n",
       "      <td>-2.35</td>\n",
       "      <td>2017-01-02</td>\n",
       "    </tr>\n",
       "  </tbody>\n",
       "</table>\n",
       "<p>248 rows × 14 columns</p>\n",
       "</div>"
      ],
      "text/plain": [
       "          Date  Open Price  High Price  Low Price  Close Price         WAP  \\\n",
       "0   2017-12-29      203.55       206.5     201.00       201.85  202.760380   \n",
       "1   2017-12-28      202.00       207.6     199.55       202.80  203.118439   \n",
       "2   2017-12-27      209.10       213.6     195.20       197.80  202.801825   \n",
       "3   2017-12-26      216.50       219.9     207.20       209.70  213.418007   \n",
       "4   2017-12-22      218.95       233.6     212.40       218.15  223.089049   \n",
       "..         ...         ...         ...        ...          ...         ...   \n",
       "243 2017-01-06      110.10       110.1     107.80       110.10  110.048719   \n",
       "244 2017-01-05      101.00       104.9     100.00       104.90  103.352347   \n",
       "245 2017-01-04       99.50       102.0      99.50        99.95  100.293226   \n",
       "246 2017-01-03      102.00       102.0     100.05       100.65  100.784909   \n",
       "247 2017-01-02      104.00       104.0      99.00       101.65  101.302024   \n",
       "\n",
       "     No.of Shares  No. of Trades  Total Turnover (Rs.)  Deliverable Quantity  \\\n",
       "0            3372             68              683708.0                  2202   \n",
       "1            8612            196             1749256.0                  5063   \n",
       "2           24983            426             5066598.0                 14168   \n",
       "3           17782            363             3794999.0                  7540   \n",
       "4          165976           2710            37027428.0                 60121   \n",
       "..            ...            ...                   ...                   ...   \n",
       "243          2771             34              304945.0                  2045   \n",
       "244          9993            147             1032800.0                  5969   \n",
       "245          4488            101              450116.0                  3422   \n",
       "246          6295            101              634441.0                  4205   \n",
       "247          5483            182              555439.0                  5062   \n",
       "\n",
       "     % Deli. Qty to Traded Qty  Spread High-Low  Spread Close-Open  Timestamp  \n",
       "0                        65.30             5.50              -1.70 2017-12-29  \n",
       "1                        58.79             8.05               0.80 2017-12-28  \n",
       "2                        56.71            18.40             -11.30 2017-12-27  \n",
       "3                        42.40            12.70              -6.80 2017-12-26  \n",
       "4                        36.22            21.20              -0.80 2017-12-22  \n",
       "..                         ...              ...                ...        ...  \n",
       "243                      73.80             2.30               0.00 2017-01-06  \n",
       "244                      59.73             4.90               3.90 2017-01-05  \n",
       "245                      76.25             2.50               0.45 2017-01-04  \n",
       "246                      66.80             1.95              -1.35 2017-01-03  \n",
       "247                      92.32             5.00              -2.35 2017-01-02  \n",
       "\n",
       "[248 rows x 14 columns]"
      ]
     },
     "execution_count": 59,
     "metadata": {},
     "output_type": "execute_result"
    }
   ],
   "source": [
    "df"
   ]
  },
  {
   "cell_type": "code",
   "execution_count": 60,
   "id": "4c6cdc04",
   "metadata": {},
   "outputs": [],
   "source": [
    "df = pd.read_csv('shirpurGoldRefinery.csv')"
   ]
  },
  {
   "cell_type": "code",
   "execution_count": 61,
   "id": "5f529149",
   "metadata": {},
   "outputs": [
    {
     "data": {
      "text/html": [
       "<div>\n",
       "<style scoped>\n",
       "    .dataframe tbody tr th:only-of-type {\n",
       "        vertical-align: middle;\n",
       "    }\n",
       "\n",
       "    .dataframe tbody tr th {\n",
       "        vertical-align: top;\n",
       "    }\n",
       "\n",
       "    .dataframe thead th {\n",
       "        text-align: right;\n",
       "    }\n",
       "</style>\n",
       "<table border=\"1\" class=\"dataframe\">\n",
       "  <thead>\n",
       "    <tr style=\"text-align: right;\">\n",
       "      <th></th>\n",
       "      <th>Date</th>\n",
       "      <th>Open Price</th>\n",
       "      <th>High Price</th>\n",
       "      <th>Low Price</th>\n",
       "      <th>Close Price</th>\n",
       "      <th>WAP</th>\n",
       "      <th>No.of Shares</th>\n",
       "      <th>No. of Trades</th>\n",
       "      <th>Total Turnover (Rs.)</th>\n",
       "      <th>Deliverable Quantity</th>\n",
       "      <th>% Deli. Qty to Traded Qty</th>\n",
       "      <th>Spread High-Low</th>\n",
       "      <th>Spread Close-Open</th>\n",
       "    </tr>\n",
       "  </thead>\n",
       "  <tbody>\n",
       "    <tr>\n",
       "      <th>0</th>\n",
       "      <td>29-December-2017</td>\n",
       "      <td>203.55</td>\n",
       "      <td>206.5</td>\n",
       "      <td>201.00</td>\n",
       "      <td>201.85</td>\n",
       "      <td>202.760380</td>\n",
       "      <td>3372</td>\n",
       "      <td>68</td>\n",
       "      <td>683708.0</td>\n",
       "      <td>2202</td>\n",
       "      <td>65.30</td>\n",
       "      <td>5.50</td>\n",
       "      <td>-1.7</td>\n",
       "    </tr>\n",
       "    <tr>\n",
       "      <th>1</th>\n",
       "      <td>28-December-2017</td>\n",
       "      <td>202.00</td>\n",
       "      <td>207.6</td>\n",
       "      <td>199.55</td>\n",
       "      <td>202.80</td>\n",
       "      <td>203.118439</td>\n",
       "      <td>8612</td>\n",
       "      <td>196</td>\n",
       "      <td>1749256.0</td>\n",
       "      <td>5063</td>\n",
       "      <td>58.79</td>\n",
       "      <td>8.05</td>\n",
       "      <td>0.8</td>\n",
       "    </tr>\n",
       "    <tr>\n",
       "      <th>2</th>\n",
       "      <td>27-December-2017</td>\n",
       "      <td>209.10</td>\n",
       "      <td>213.6</td>\n",
       "      <td>195.20</td>\n",
       "      <td>197.80</td>\n",
       "      <td>202.801825</td>\n",
       "      <td>24983</td>\n",
       "      <td>426</td>\n",
       "      <td>5066598.0</td>\n",
       "      <td>14168</td>\n",
       "      <td>56.71</td>\n",
       "      <td>18.40</td>\n",
       "      <td>-11.3</td>\n",
       "    </tr>\n",
       "    <tr>\n",
       "      <th>3</th>\n",
       "      <td>26-December-2017</td>\n",
       "      <td>216.50</td>\n",
       "      <td>219.9</td>\n",
       "      <td>207.20</td>\n",
       "      <td>209.70</td>\n",
       "      <td>213.418007</td>\n",
       "      <td>17782</td>\n",
       "      <td>363</td>\n",
       "      <td>3794999.0</td>\n",
       "      <td>7540</td>\n",
       "      <td>42.40</td>\n",
       "      <td>12.70</td>\n",
       "      <td>-6.8</td>\n",
       "    </tr>\n",
       "    <tr>\n",
       "      <th>4</th>\n",
       "      <td>22-December-2017</td>\n",
       "      <td>218.95</td>\n",
       "      <td>233.6</td>\n",
       "      <td>212.40</td>\n",
       "      <td>218.15</td>\n",
       "      <td>223.089049</td>\n",
       "      <td>165976</td>\n",
       "      <td>2710</td>\n",
       "      <td>37027428.0</td>\n",
       "      <td>60121</td>\n",
       "      <td>36.22</td>\n",
       "      <td>21.20</td>\n",
       "      <td>-0.8</td>\n",
       "    </tr>\n",
       "  </tbody>\n",
       "</table>\n",
       "</div>"
      ],
      "text/plain": [
       "               Date  Open Price  High Price  Low Price  Close Price  \\\n",
       "0  29-December-2017      203.55       206.5     201.00       201.85   \n",
       "1  28-December-2017      202.00       207.6     199.55       202.80   \n",
       "2  27-December-2017      209.10       213.6     195.20       197.80   \n",
       "3  26-December-2017      216.50       219.9     207.20       209.70   \n",
       "4  22-December-2017      218.95       233.6     212.40       218.15   \n",
       "\n",
       "          WAP  No.of Shares  No. of Trades  Total Turnover (Rs.)  \\\n",
       "0  202.760380          3372             68              683708.0   \n",
       "1  203.118439          8612            196             1749256.0   \n",
       "2  202.801825         24983            426             5066598.0   \n",
       "3  213.418007         17782            363             3794999.0   \n",
       "4  223.089049        165976           2710            37027428.0   \n",
       "\n",
       "   Deliverable Quantity  % Deli. Qty to Traded Qty  Spread High-Low  \\\n",
       "0                  2202                      65.30             5.50   \n",
       "1                  5063                      58.79             8.05   \n",
       "2                 14168                      56.71            18.40   \n",
       "3                  7540                      42.40            12.70   \n",
       "4                 60121                      36.22            21.20   \n",
       "\n",
       "   Spread Close-Open  \n",
       "0               -1.7  \n",
       "1                0.8  \n",
       "2              -11.3  \n",
       "3               -6.8  \n",
       "4               -0.8  "
      ]
     },
     "execution_count": 61,
     "metadata": {},
     "output_type": "execute_result"
    }
   ],
   "source": [
    "df.head()"
   ]
  },
  {
   "cell_type": "code",
   "execution_count": 62,
   "id": "ecad5e5c",
   "metadata": {},
   "outputs": [],
   "source": [
    "df['Timestamp']=pd.to_datetime(df.Date)"
   ]
  },
  {
   "cell_type": "code",
   "execution_count": 63,
   "id": "d22a6438",
   "metadata": {},
   "outputs": [
    {
     "data": {
      "text/html": [
       "<div>\n",
       "<style scoped>\n",
       "    .dataframe tbody tr th:only-of-type {\n",
       "        vertical-align: middle;\n",
       "    }\n",
       "\n",
       "    .dataframe tbody tr th {\n",
       "        vertical-align: top;\n",
       "    }\n",
       "\n",
       "    .dataframe thead th {\n",
       "        text-align: right;\n",
       "    }\n",
       "</style>\n",
       "<table border=\"1\" class=\"dataframe\">\n",
       "  <thead>\n",
       "    <tr style=\"text-align: right;\">\n",
       "      <th></th>\n",
       "      <th>Date</th>\n",
       "      <th>Open Price</th>\n",
       "      <th>High Price</th>\n",
       "      <th>Low Price</th>\n",
       "      <th>Close Price</th>\n",
       "      <th>WAP</th>\n",
       "      <th>No.of Shares</th>\n",
       "      <th>No. of Trades</th>\n",
       "      <th>Total Turnover (Rs.)</th>\n",
       "      <th>Deliverable Quantity</th>\n",
       "      <th>% Deli. Qty to Traded Qty</th>\n",
       "      <th>Spread High-Low</th>\n",
       "      <th>Spread Close-Open</th>\n",
       "      <th>Timestamp</th>\n",
       "    </tr>\n",
       "  </thead>\n",
       "  <tbody>\n",
       "    <tr>\n",
       "      <th>0</th>\n",
       "      <td>29-December-2017</td>\n",
       "      <td>203.55</td>\n",
       "      <td>206.5</td>\n",
       "      <td>201.00</td>\n",
       "      <td>201.85</td>\n",
       "      <td>202.760380</td>\n",
       "      <td>3372</td>\n",
       "      <td>68</td>\n",
       "      <td>683708.0</td>\n",
       "      <td>2202</td>\n",
       "      <td>65.30</td>\n",
       "      <td>5.50</td>\n",
       "      <td>-1.7</td>\n",
       "      <td>2017-12-29</td>\n",
       "    </tr>\n",
       "    <tr>\n",
       "      <th>1</th>\n",
       "      <td>28-December-2017</td>\n",
       "      <td>202.00</td>\n",
       "      <td>207.6</td>\n",
       "      <td>199.55</td>\n",
       "      <td>202.80</td>\n",
       "      <td>203.118439</td>\n",
       "      <td>8612</td>\n",
       "      <td>196</td>\n",
       "      <td>1749256.0</td>\n",
       "      <td>5063</td>\n",
       "      <td>58.79</td>\n",
       "      <td>8.05</td>\n",
       "      <td>0.8</td>\n",
       "      <td>2017-12-28</td>\n",
       "    </tr>\n",
       "    <tr>\n",
       "      <th>2</th>\n",
       "      <td>27-December-2017</td>\n",
       "      <td>209.10</td>\n",
       "      <td>213.6</td>\n",
       "      <td>195.20</td>\n",
       "      <td>197.80</td>\n",
       "      <td>202.801825</td>\n",
       "      <td>24983</td>\n",
       "      <td>426</td>\n",
       "      <td>5066598.0</td>\n",
       "      <td>14168</td>\n",
       "      <td>56.71</td>\n",
       "      <td>18.40</td>\n",
       "      <td>-11.3</td>\n",
       "      <td>2017-12-27</td>\n",
       "    </tr>\n",
       "    <tr>\n",
       "      <th>3</th>\n",
       "      <td>26-December-2017</td>\n",
       "      <td>216.50</td>\n",
       "      <td>219.9</td>\n",
       "      <td>207.20</td>\n",
       "      <td>209.70</td>\n",
       "      <td>213.418007</td>\n",
       "      <td>17782</td>\n",
       "      <td>363</td>\n",
       "      <td>3794999.0</td>\n",
       "      <td>7540</td>\n",
       "      <td>42.40</td>\n",
       "      <td>12.70</td>\n",
       "      <td>-6.8</td>\n",
       "      <td>2017-12-26</td>\n",
       "    </tr>\n",
       "    <tr>\n",
       "      <th>4</th>\n",
       "      <td>22-December-2017</td>\n",
       "      <td>218.95</td>\n",
       "      <td>233.6</td>\n",
       "      <td>212.40</td>\n",
       "      <td>218.15</td>\n",
       "      <td>223.089049</td>\n",
       "      <td>165976</td>\n",
       "      <td>2710</td>\n",
       "      <td>37027428.0</td>\n",
       "      <td>60121</td>\n",
       "      <td>36.22</td>\n",
       "      <td>21.20</td>\n",
       "      <td>-0.8</td>\n",
       "      <td>2017-12-22</td>\n",
       "    </tr>\n",
       "  </tbody>\n",
       "</table>\n",
       "</div>"
      ],
      "text/plain": [
       "               Date  Open Price  High Price  Low Price  Close Price  \\\n",
       "0  29-December-2017      203.55       206.5     201.00       201.85   \n",
       "1  28-December-2017      202.00       207.6     199.55       202.80   \n",
       "2  27-December-2017      209.10       213.6     195.20       197.80   \n",
       "3  26-December-2017      216.50       219.9     207.20       209.70   \n",
       "4  22-December-2017      218.95       233.6     212.40       218.15   \n",
       "\n",
       "          WAP  No.of Shares  No. of Trades  Total Turnover (Rs.)  \\\n",
       "0  202.760380          3372             68              683708.0   \n",
       "1  203.118439          8612            196             1749256.0   \n",
       "2  202.801825         24983            426             5066598.0   \n",
       "3  213.418007         17782            363             3794999.0   \n",
       "4  223.089049        165976           2710            37027428.0   \n",
       "\n",
       "   Deliverable Quantity  % Deli. Qty to Traded Qty  Spread High-Low  \\\n",
       "0                  2202                      65.30             5.50   \n",
       "1                  5063                      58.79             8.05   \n",
       "2                 14168                      56.71            18.40   \n",
       "3                  7540                      42.40            12.70   \n",
       "4                 60121                      36.22            21.20   \n",
       "\n",
       "   Spread Close-Open  Timestamp  \n",
       "0               -1.7 2017-12-29  \n",
       "1                0.8 2017-12-28  \n",
       "2              -11.3 2017-12-27  \n",
       "3               -6.8 2017-12-26  \n",
       "4               -0.8 2017-12-22  "
      ]
     },
     "execution_count": 63,
     "metadata": {},
     "output_type": "execute_result"
    }
   ],
   "source": [
    "df.head()"
   ]
  },
  {
   "cell_type": "code",
   "execution_count": null,
   "id": "dc074f60",
   "metadata": {},
   "outputs": [],
   "source": [
    "#comparing the max"
   ]
  },
  {
   "cell_type": "code",
   "execution_count": 64,
   "id": "4ecb2e84",
   "metadata": {},
   "outputs": [
    {
     "data": {
      "text/plain": [
       "'9-October-2017'"
      ]
     },
     "execution_count": 64,
     "metadata": {},
     "output_type": "execute_result"
    }
   ],
   "source": [
    "df.Date.max()"
   ]
  },
  {
   "cell_type": "code",
   "execution_count": 65,
   "id": "90adb763",
   "metadata": {},
   "outputs": [
    {
     "data": {
      "text/plain": [
       "Timestamp('2017-12-29 00:00:00')"
      ]
     },
     "execution_count": 65,
     "metadata": {},
     "output_type": "execute_result"
    }
   ],
   "source": [
    "df.Timestamp.max()"
   ]
  },
  {
   "cell_type": "code",
   "execution_count": 66,
   "id": "8d0f7ec6",
   "metadata": {},
   "outputs": [],
   "source": [
    "#to split date on the vasis of day,month year"
   ]
  },
  {
   "cell_type": "code",
   "execution_count": 67,
   "id": "736e20e5",
   "metadata": {},
   "outputs": [],
   "source": [
    "df = pd.read_csv('shirpurGoldRefinery.csv')"
   ]
  },
  {
   "cell_type": "code",
   "execution_count": 68,
   "id": "7ee4bc23",
   "metadata": {},
   "outputs": [
    {
     "data": {
      "text/html": [
       "<div>\n",
       "<style scoped>\n",
       "    .dataframe tbody tr th:only-of-type {\n",
       "        vertical-align: middle;\n",
       "    }\n",
       "\n",
       "    .dataframe tbody tr th {\n",
       "        vertical-align: top;\n",
       "    }\n",
       "\n",
       "    .dataframe thead th {\n",
       "        text-align: right;\n",
       "    }\n",
       "</style>\n",
       "<table border=\"1\" class=\"dataframe\">\n",
       "  <thead>\n",
       "    <tr style=\"text-align: right;\">\n",
       "      <th></th>\n",
       "      <th>Date</th>\n",
       "      <th>Open Price</th>\n",
       "      <th>High Price</th>\n",
       "      <th>Low Price</th>\n",
       "      <th>Close Price</th>\n",
       "      <th>WAP</th>\n",
       "      <th>No.of Shares</th>\n",
       "      <th>No. of Trades</th>\n",
       "      <th>Total Turnover (Rs.)</th>\n",
       "      <th>Deliverable Quantity</th>\n",
       "      <th>% Deli. Qty to Traded Qty</th>\n",
       "      <th>Spread High-Low</th>\n",
       "      <th>Spread Close-Open</th>\n",
       "    </tr>\n",
       "  </thead>\n",
       "  <tbody>\n",
       "    <tr>\n",
       "      <th>0</th>\n",
       "      <td>29-December-2017</td>\n",
       "      <td>203.55</td>\n",
       "      <td>206.5</td>\n",
       "      <td>201.00</td>\n",
       "      <td>201.85</td>\n",
       "      <td>202.760380</td>\n",
       "      <td>3372</td>\n",
       "      <td>68</td>\n",
       "      <td>683708.0</td>\n",
       "      <td>2202</td>\n",
       "      <td>65.30</td>\n",
       "      <td>5.50</td>\n",
       "      <td>-1.7</td>\n",
       "    </tr>\n",
       "    <tr>\n",
       "      <th>1</th>\n",
       "      <td>28-December-2017</td>\n",
       "      <td>202.00</td>\n",
       "      <td>207.6</td>\n",
       "      <td>199.55</td>\n",
       "      <td>202.80</td>\n",
       "      <td>203.118439</td>\n",
       "      <td>8612</td>\n",
       "      <td>196</td>\n",
       "      <td>1749256.0</td>\n",
       "      <td>5063</td>\n",
       "      <td>58.79</td>\n",
       "      <td>8.05</td>\n",
       "      <td>0.8</td>\n",
       "    </tr>\n",
       "    <tr>\n",
       "      <th>2</th>\n",
       "      <td>27-December-2017</td>\n",
       "      <td>209.10</td>\n",
       "      <td>213.6</td>\n",
       "      <td>195.20</td>\n",
       "      <td>197.80</td>\n",
       "      <td>202.801825</td>\n",
       "      <td>24983</td>\n",
       "      <td>426</td>\n",
       "      <td>5066598.0</td>\n",
       "      <td>14168</td>\n",
       "      <td>56.71</td>\n",
       "      <td>18.40</td>\n",
       "      <td>-11.3</td>\n",
       "    </tr>\n",
       "    <tr>\n",
       "      <th>3</th>\n",
       "      <td>26-December-2017</td>\n",
       "      <td>216.50</td>\n",
       "      <td>219.9</td>\n",
       "      <td>207.20</td>\n",
       "      <td>209.70</td>\n",
       "      <td>213.418007</td>\n",
       "      <td>17782</td>\n",
       "      <td>363</td>\n",
       "      <td>3794999.0</td>\n",
       "      <td>7540</td>\n",
       "      <td>42.40</td>\n",
       "      <td>12.70</td>\n",
       "      <td>-6.8</td>\n",
       "    </tr>\n",
       "    <tr>\n",
       "      <th>4</th>\n",
       "      <td>22-December-2017</td>\n",
       "      <td>218.95</td>\n",
       "      <td>233.6</td>\n",
       "      <td>212.40</td>\n",
       "      <td>218.15</td>\n",
       "      <td>223.089049</td>\n",
       "      <td>165976</td>\n",
       "      <td>2710</td>\n",
       "      <td>37027428.0</td>\n",
       "      <td>60121</td>\n",
       "      <td>36.22</td>\n",
       "      <td>21.20</td>\n",
       "      <td>-0.8</td>\n",
       "    </tr>\n",
       "  </tbody>\n",
       "</table>\n",
       "</div>"
      ],
      "text/plain": [
       "               Date  Open Price  High Price  Low Price  Close Price  \\\n",
       "0  29-December-2017      203.55       206.5     201.00       201.85   \n",
       "1  28-December-2017      202.00       207.6     199.55       202.80   \n",
       "2  27-December-2017      209.10       213.6     195.20       197.80   \n",
       "3  26-December-2017      216.50       219.9     207.20       209.70   \n",
       "4  22-December-2017      218.95       233.6     212.40       218.15   \n",
       "\n",
       "          WAP  No.of Shares  No. of Trades  Total Turnover (Rs.)  \\\n",
       "0  202.760380          3372             68              683708.0   \n",
       "1  203.118439          8612            196             1749256.0   \n",
       "2  202.801825         24983            426             5066598.0   \n",
       "3  213.418007         17782            363             3794999.0   \n",
       "4  223.089049        165976           2710            37027428.0   \n",
       "\n",
       "   Deliverable Quantity  % Deli. Qty to Traded Qty  Spread High-Low  \\\n",
       "0                  2202                      65.30             5.50   \n",
       "1                  5063                      58.79             8.05   \n",
       "2                 14168                      56.71            18.40   \n",
       "3                  7540                      42.40            12.70   \n",
       "4                 60121                      36.22            21.20   \n",
       "\n",
       "   Spread Close-Open  \n",
       "0               -1.7  \n",
       "1                0.8  \n",
       "2              -11.3  \n",
       "3               -6.8  \n",
       "4               -0.8  "
      ]
     },
     "execution_count": 68,
     "metadata": {},
     "output_type": "execute_result"
    }
   ],
   "source": [
    "df.head()"
   ]
  },
  {
   "cell_type": "code",
   "execution_count": 71,
   "id": "0b7d12f5",
   "metadata": {},
   "outputs": [],
   "source": [
    "df['Date']=pd.to_datetime(df.Date)"
   ]
  },
  {
   "cell_type": "code",
   "execution_count": 72,
   "id": "00878373",
   "metadata": {},
   "outputs": [
    {
     "data": {
      "text/html": [
       "<div>\n",
       "<style scoped>\n",
       "    .dataframe tbody tr th:only-of-type {\n",
       "        vertical-align: middle;\n",
       "    }\n",
       "\n",
       "    .dataframe tbody tr th {\n",
       "        vertical-align: top;\n",
       "    }\n",
       "\n",
       "    .dataframe thead th {\n",
       "        text-align: right;\n",
       "    }\n",
       "</style>\n",
       "<table border=\"1\" class=\"dataframe\">\n",
       "  <thead>\n",
       "    <tr style=\"text-align: right;\">\n",
       "      <th></th>\n",
       "      <th>Date</th>\n",
       "      <th>Open Price</th>\n",
       "      <th>High Price</th>\n",
       "      <th>Low Price</th>\n",
       "      <th>Close Price</th>\n",
       "      <th>WAP</th>\n",
       "      <th>No.of Shares</th>\n",
       "      <th>No. of Trades</th>\n",
       "      <th>Total Turnover (Rs.)</th>\n",
       "      <th>Deliverable Quantity</th>\n",
       "      <th>% Deli. Qty to Traded Qty</th>\n",
       "      <th>Spread High-Low</th>\n",
       "      <th>Spread Close-Open</th>\n",
       "    </tr>\n",
       "  </thead>\n",
       "  <tbody>\n",
       "    <tr>\n",
       "      <th>0</th>\n",
       "      <td>2017-12-29</td>\n",
       "      <td>203.55</td>\n",
       "      <td>206.5</td>\n",
       "      <td>201.00</td>\n",
       "      <td>201.85</td>\n",
       "      <td>202.760380</td>\n",
       "      <td>3372</td>\n",
       "      <td>68</td>\n",
       "      <td>683708.0</td>\n",
       "      <td>2202</td>\n",
       "      <td>65.30</td>\n",
       "      <td>5.50</td>\n",
       "      <td>-1.7</td>\n",
       "    </tr>\n",
       "    <tr>\n",
       "      <th>1</th>\n",
       "      <td>2017-12-28</td>\n",
       "      <td>202.00</td>\n",
       "      <td>207.6</td>\n",
       "      <td>199.55</td>\n",
       "      <td>202.80</td>\n",
       "      <td>203.118439</td>\n",
       "      <td>8612</td>\n",
       "      <td>196</td>\n",
       "      <td>1749256.0</td>\n",
       "      <td>5063</td>\n",
       "      <td>58.79</td>\n",
       "      <td>8.05</td>\n",
       "      <td>0.8</td>\n",
       "    </tr>\n",
       "    <tr>\n",
       "      <th>2</th>\n",
       "      <td>2017-12-27</td>\n",
       "      <td>209.10</td>\n",
       "      <td>213.6</td>\n",
       "      <td>195.20</td>\n",
       "      <td>197.80</td>\n",
       "      <td>202.801825</td>\n",
       "      <td>24983</td>\n",
       "      <td>426</td>\n",
       "      <td>5066598.0</td>\n",
       "      <td>14168</td>\n",
       "      <td>56.71</td>\n",
       "      <td>18.40</td>\n",
       "      <td>-11.3</td>\n",
       "    </tr>\n",
       "    <tr>\n",
       "      <th>3</th>\n",
       "      <td>2017-12-26</td>\n",
       "      <td>216.50</td>\n",
       "      <td>219.9</td>\n",
       "      <td>207.20</td>\n",
       "      <td>209.70</td>\n",
       "      <td>213.418007</td>\n",
       "      <td>17782</td>\n",
       "      <td>363</td>\n",
       "      <td>3794999.0</td>\n",
       "      <td>7540</td>\n",
       "      <td>42.40</td>\n",
       "      <td>12.70</td>\n",
       "      <td>-6.8</td>\n",
       "    </tr>\n",
       "    <tr>\n",
       "      <th>4</th>\n",
       "      <td>2017-12-22</td>\n",
       "      <td>218.95</td>\n",
       "      <td>233.6</td>\n",
       "      <td>212.40</td>\n",
       "      <td>218.15</td>\n",
       "      <td>223.089049</td>\n",
       "      <td>165976</td>\n",
       "      <td>2710</td>\n",
       "      <td>37027428.0</td>\n",
       "      <td>60121</td>\n",
       "      <td>36.22</td>\n",
       "      <td>21.20</td>\n",
       "      <td>-0.8</td>\n",
       "    </tr>\n",
       "  </tbody>\n",
       "</table>\n",
       "</div>"
      ],
      "text/plain": [
       "        Date  Open Price  High Price  Low Price  Close Price         WAP  \\\n",
       "0 2017-12-29      203.55       206.5     201.00       201.85  202.760380   \n",
       "1 2017-12-28      202.00       207.6     199.55       202.80  203.118439   \n",
       "2 2017-12-27      209.10       213.6     195.20       197.80  202.801825   \n",
       "3 2017-12-26      216.50       219.9     207.20       209.70  213.418007   \n",
       "4 2017-12-22      218.95       233.6     212.40       218.15  223.089049   \n",
       "\n",
       "   No.of Shares  No. of Trades  Total Turnover (Rs.)  Deliverable Quantity  \\\n",
       "0          3372             68              683708.0                  2202   \n",
       "1          8612            196             1749256.0                  5063   \n",
       "2         24983            426             5066598.0                 14168   \n",
       "3         17782            363             3794999.0                  7540   \n",
       "4        165976           2710            37027428.0                 60121   \n",
       "\n",
       "   % Deli. Qty to Traded Qty  Spread High-Low  Spread Close-Open  \n",
       "0                      65.30             5.50               -1.7  \n",
       "1                      58.79             8.05                0.8  \n",
       "2                      56.71            18.40              -11.3  \n",
       "3                      42.40            12.70               -6.8  \n",
       "4                      36.22            21.20               -0.8  "
      ]
     },
     "execution_count": 72,
     "metadata": {},
     "output_type": "execute_result"
    }
   ],
   "source": [
    "df.head()"
   ]
  },
  {
   "cell_type": "code",
   "execution_count": 74,
   "id": "89399550",
   "metadata": {},
   "outputs": [],
   "source": [
    "df['Day']=pd.DatetimeIndex(df.Date).day"
   ]
  },
  {
   "cell_type": "code",
   "execution_count": 75,
   "id": "4db91a83",
   "metadata": {},
   "outputs": [],
   "source": [
    "df['Month']=pd.DatetimeIndex(df.Date).month"
   ]
  },
  {
   "cell_type": "code",
   "execution_count": 76,
   "id": "47d99cd2",
   "metadata": {},
   "outputs": [],
   "source": [
    "df['Year']=pd.DatetimeIndex(df.Date).year"
   ]
  },
  {
   "cell_type": "code",
   "execution_count": 77,
   "id": "c67624cc",
   "metadata": {},
   "outputs": [
    {
     "data": {
      "text/html": [
       "<div>\n",
       "<style scoped>\n",
       "    .dataframe tbody tr th:only-of-type {\n",
       "        vertical-align: middle;\n",
       "    }\n",
       "\n",
       "    .dataframe tbody tr th {\n",
       "        vertical-align: top;\n",
       "    }\n",
       "\n",
       "    .dataframe thead th {\n",
       "        text-align: right;\n",
       "    }\n",
       "</style>\n",
       "<table border=\"1\" class=\"dataframe\">\n",
       "  <thead>\n",
       "    <tr style=\"text-align: right;\">\n",
       "      <th></th>\n",
       "      <th>Date</th>\n",
       "      <th>Open Price</th>\n",
       "      <th>High Price</th>\n",
       "      <th>Low Price</th>\n",
       "      <th>Close Price</th>\n",
       "      <th>WAP</th>\n",
       "      <th>No.of Shares</th>\n",
       "      <th>No. of Trades</th>\n",
       "      <th>Total Turnover (Rs.)</th>\n",
       "      <th>Deliverable Quantity</th>\n",
       "      <th>% Deli. Qty to Traded Qty</th>\n",
       "      <th>Spread High-Low</th>\n",
       "      <th>Spread Close-Open</th>\n",
       "      <th>Day</th>\n",
       "      <th>Month</th>\n",
       "      <th>Year</th>\n",
       "    </tr>\n",
       "  </thead>\n",
       "  <tbody>\n",
       "    <tr>\n",
       "      <th>0</th>\n",
       "      <td>2017-12-29</td>\n",
       "      <td>203.55</td>\n",
       "      <td>206.5</td>\n",
       "      <td>201.00</td>\n",
       "      <td>201.85</td>\n",
       "      <td>202.760380</td>\n",
       "      <td>3372</td>\n",
       "      <td>68</td>\n",
       "      <td>683708.0</td>\n",
       "      <td>2202</td>\n",
       "      <td>65.30</td>\n",
       "      <td>5.50</td>\n",
       "      <td>-1.7</td>\n",
       "      <td>29</td>\n",
       "      <td>12</td>\n",
       "      <td>2017</td>\n",
       "    </tr>\n",
       "    <tr>\n",
       "      <th>1</th>\n",
       "      <td>2017-12-28</td>\n",
       "      <td>202.00</td>\n",
       "      <td>207.6</td>\n",
       "      <td>199.55</td>\n",
       "      <td>202.80</td>\n",
       "      <td>203.118439</td>\n",
       "      <td>8612</td>\n",
       "      <td>196</td>\n",
       "      <td>1749256.0</td>\n",
       "      <td>5063</td>\n",
       "      <td>58.79</td>\n",
       "      <td>8.05</td>\n",
       "      <td>0.8</td>\n",
       "      <td>28</td>\n",
       "      <td>12</td>\n",
       "      <td>2017</td>\n",
       "    </tr>\n",
       "    <tr>\n",
       "      <th>2</th>\n",
       "      <td>2017-12-27</td>\n",
       "      <td>209.10</td>\n",
       "      <td>213.6</td>\n",
       "      <td>195.20</td>\n",
       "      <td>197.80</td>\n",
       "      <td>202.801825</td>\n",
       "      <td>24983</td>\n",
       "      <td>426</td>\n",
       "      <td>5066598.0</td>\n",
       "      <td>14168</td>\n",
       "      <td>56.71</td>\n",
       "      <td>18.40</td>\n",
       "      <td>-11.3</td>\n",
       "      <td>27</td>\n",
       "      <td>12</td>\n",
       "      <td>2017</td>\n",
       "    </tr>\n",
       "    <tr>\n",
       "      <th>3</th>\n",
       "      <td>2017-12-26</td>\n",
       "      <td>216.50</td>\n",
       "      <td>219.9</td>\n",
       "      <td>207.20</td>\n",
       "      <td>209.70</td>\n",
       "      <td>213.418007</td>\n",
       "      <td>17782</td>\n",
       "      <td>363</td>\n",
       "      <td>3794999.0</td>\n",
       "      <td>7540</td>\n",
       "      <td>42.40</td>\n",
       "      <td>12.70</td>\n",
       "      <td>-6.8</td>\n",
       "      <td>26</td>\n",
       "      <td>12</td>\n",
       "      <td>2017</td>\n",
       "    </tr>\n",
       "    <tr>\n",
       "      <th>4</th>\n",
       "      <td>2017-12-22</td>\n",
       "      <td>218.95</td>\n",
       "      <td>233.6</td>\n",
       "      <td>212.40</td>\n",
       "      <td>218.15</td>\n",
       "      <td>223.089049</td>\n",
       "      <td>165976</td>\n",
       "      <td>2710</td>\n",
       "      <td>37027428.0</td>\n",
       "      <td>60121</td>\n",
       "      <td>36.22</td>\n",
       "      <td>21.20</td>\n",
       "      <td>-0.8</td>\n",
       "      <td>22</td>\n",
       "      <td>12</td>\n",
       "      <td>2017</td>\n",
       "    </tr>\n",
       "  </tbody>\n",
       "</table>\n",
       "</div>"
      ],
      "text/plain": [
       "        Date  Open Price  High Price  Low Price  Close Price         WAP  \\\n",
       "0 2017-12-29      203.55       206.5     201.00       201.85  202.760380   \n",
       "1 2017-12-28      202.00       207.6     199.55       202.80  203.118439   \n",
       "2 2017-12-27      209.10       213.6     195.20       197.80  202.801825   \n",
       "3 2017-12-26      216.50       219.9     207.20       209.70  213.418007   \n",
       "4 2017-12-22      218.95       233.6     212.40       218.15  223.089049   \n",
       "\n",
       "   No.of Shares  No. of Trades  Total Turnover (Rs.)  Deliverable Quantity  \\\n",
       "0          3372             68              683708.0                  2202   \n",
       "1          8612            196             1749256.0                  5063   \n",
       "2         24983            426             5066598.0                 14168   \n",
       "3         17782            363             3794999.0                  7540   \n",
       "4        165976           2710            37027428.0                 60121   \n",
       "\n",
       "   % Deli. Qty to Traded Qty  Spread High-Low  Spread Close-Open  Day  Month  \\\n",
       "0                      65.30             5.50               -1.7   29     12   \n",
       "1                      58.79             8.05                0.8   28     12   \n",
       "2                      56.71            18.40              -11.3   27     12   \n",
       "3                      42.40            12.70               -6.8   26     12   \n",
       "4                      36.22            21.20               -0.8   22     12   \n",
       "\n",
       "   Year  \n",
       "0  2017  \n",
       "1  2017  \n",
       "2  2017  \n",
       "3  2017  \n",
       "4  2017  "
      ]
     },
     "execution_count": 77,
     "metadata": {},
     "output_type": "execute_result"
    }
   ],
   "source": [
    "df.head()"
   ]
  },
  {
   "cell_type": "code",
   "execution_count": 78,
   "id": "3e310f9d",
   "metadata": {
    "scrolled": true
   },
   "outputs": [
    {
     "data": {
      "text/html": [
       "<div>\n",
       "<style scoped>\n",
       "    .dataframe tbody tr th:only-of-type {\n",
       "        vertical-align: middle;\n",
       "    }\n",
       "\n",
       "    .dataframe tbody tr th {\n",
       "        vertical-align: top;\n",
       "    }\n",
       "\n",
       "    .dataframe thead th {\n",
       "        text-align: right;\n",
       "    }\n",
       "</style>\n",
       "<table border=\"1\" class=\"dataframe\">\n",
       "  <thead>\n",
       "    <tr style=\"text-align: right;\">\n",
       "      <th></th>\n",
       "      <th>Open Price</th>\n",
       "      <th>High Price</th>\n",
       "      <th>Low Price</th>\n",
       "      <th>Close Price</th>\n",
       "      <th>WAP</th>\n",
       "      <th>No.of Shares</th>\n",
       "      <th>No. of Trades</th>\n",
       "      <th>Total Turnover (Rs.)</th>\n",
       "      <th>Deliverable Quantity</th>\n",
       "      <th>% Deli. Qty to Traded Qty</th>\n",
       "      <th>Spread High-Low</th>\n",
       "      <th>Spread Close-Open</th>\n",
       "      <th>Day</th>\n",
       "      <th>Month</th>\n",
       "      <th>Year</th>\n",
       "    </tr>\n",
       "  </thead>\n",
       "  <tbody>\n",
       "    <tr>\n",
       "      <th>0</th>\n",
       "      <td>203.55</td>\n",
       "      <td>206.5</td>\n",
       "      <td>201.00</td>\n",
       "      <td>201.85</td>\n",
       "      <td>202.760380</td>\n",
       "      <td>3372</td>\n",
       "      <td>68</td>\n",
       "      <td>683708.0</td>\n",
       "      <td>2202</td>\n",
       "      <td>65.30</td>\n",
       "      <td>5.50</td>\n",
       "      <td>-1.70</td>\n",
       "      <td>29</td>\n",
       "      <td>12</td>\n",
       "      <td>2017</td>\n",
       "    </tr>\n",
       "    <tr>\n",
       "      <th>1</th>\n",
       "      <td>202.00</td>\n",
       "      <td>207.6</td>\n",
       "      <td>199.55</td>\n",
       "      <td>202.80</td>\n",
       "      <td>203.118439</td>\n",
       "      <td>8612</td>\n",
       "      <td>196</td>\n",
       "      <td>1749256.0</td>\n",
       "      <td>5063</td>\n",
       "      <td>58.79</td>\n",
       "      <td>8.05</td>\n",
       "      <td>0.80</td>\n",
       "      <td>28</td>\n",
       "      <td>12</td>\n",
       "      <td>2017</td>\n",
       "    </tr>\n",
       "    <tr>\n",
       "      <th>2</th>\n",
       "      <td>209.10</td>\n",
       "      <td>213.6</td>\n",
       "      <td>195.20</td>\n",
       "      <td>197.80</td>\n",
       "      <td>202.801825</td>\n",
       "      <td>24983</td>\n",
       "      <td>426</td>\n",
       "      <td>5066598.0</td>\n",
       "      <td>14168</td>\n",
       "      <td>56.71</td>\n",
       "      <td>18.40</td>\n",
       "      <td>-11.30</td>\n",
       "      <td>27</td>\n",
       "      <td>12</td>\n",
       "      <td>2017</td>\n",
       "    </tr>\n",
       "    <tr>\n",
       "      <th>3</th>\n",
       "      <td>216.50</td>\n",
       "      <td>219.9</td>\n",
       "      <td>207.20</td>\n",
       "      <td>209.70</td>\n",
       "      <td>213.418007</td>\n",
       "      <td>17782</td>\n",
       "      <td>363</td>\n",
       "      <td>3794999.0</td>\n",
       "      <td>7540</td>\n",
       "      <td>42.40</td>\n",
       "      <td>12.70</td>\n",
       "      <td>-6.80</td>\n",
       "      <td>26</td>\n",
       "      <td>12</td>\n",
       "      <td>2017</td>\n",
       "    </tr>\n",
       "    <tr>\n",
       "      <th>4</th>\n",
       "      <td>218.95</td>\n",
       "      <td>233.6</td>\n",
       "      <td>212.40</td>\n",
       "      <td>218.15</td>\n",
       "      <td>223.089049</td>\n",
       "      <td>165976</td>\n",
       "      <td>2710</td>\n",
       "      <td>37027428.0</td>\n",
       "      <td>60121</td>\n",
       "      <td>36.22</td>\n",
       "      <td>21.20</td>\n",
       "      <td>-0.80</td>\n",
       "      <td>22</td>\n",
       "      <td>12</td>\n",
       "      <td>2017</td>\n",
       "    </tr>\n",
       "    <tr>\n",
       "      <th>...</th>\n",
       "      <td>...</td>\n",
       "      <td>...</td>\n",
       "      <td>...</td>\n",
       "      <td>...</td>\n",
       "      <td>...</td>\n",
       "      <td>...</td>\n",
       "      <td>...</td>\n",
       "      <td>...</td>\n",
       "      <td>...</td>\n",
       "      <td>...</td>\n",
       "      <td>...</td>\n",
       "      <td>...</td>\n",
       "      <td>...</td>\n",
       "      <td>...</td>\n",
       "      <td>...</td>\n",
       "    </tr>\n",
       "    <tr>\n",
       "      <th>243</th>\n",
       "      <td>110.10</td>\n",
       "      <td>110.1</td>\n",
       "      <td>107.80</td>\n",
       "      <td>110.10</td>\n",
       "      <td>110.048719</td>\n",
       "      <td>2771</td>\n",
       "      <td>34</td>\n",
       "      <td>304945.0</td>\n",
       "      <td>2045</td>\n",
       "      <td>73.80</td>\n",
       "      <td>2.30</td>\n",
       "      <td>0.00</td>\n",
       "      <td>6</td>\n",
       "      <td>1</td>\n",
       "      <td>2017</td>\n",
       "    </tr>\n",
       "    <tr>\n",
       "      <th>244</th>\n",
       "      <td>101.00</td>\n",
       "      <td>104.9</td>\n",
       "      <td>100.00</td>\n",
       "      <td>104.90</td>\n",
       "      <td>103.352347</td>\n",
       "      <td>9993</td>\n",
       "      <td>147</td>\n",
       "      <td>1032800.0</td>\n",
       "      <td>5969</td>\n",
       "      <td>59.73</td>\n",
       "      <td>4.90</td>\n",
       "      <td>3.90</td>\n",
       "      <td>5</td>\n",
       "      <td>1</td>\n",
       "      <td>2017</td>\n",
       "    </tr>\n",
       "    <tr>\n",
       "      <th>245</th>\n",
       "      <td>99.50</td>\n",
       "      <td>102.0</td>\n",
       "      <td>99.50</td>\n",
       "      <td>99.95</td>\n",
       "      <td>100.293226</td>\n",
       "      <td>4488</td>\n",
       "      <td>101</td>\n",
       "      <td>450116.0</td>\n",
       "      <td>3422</td>\n",
       "      <td>76.25</td>\n",
       "      <td>2.50</td>\n",
       "      <td>0.45</td>\n",
       "      <td>4</td>\n",
       "      <td>1</td>\n",
       "      <td>2017</td>\n",
       "    </tr>\n",
       "    <tr>\n",
       "      <th>246</th>\n",
       "      <td>102.00</td>\n",
       "      <td>102.0</td>\n",
       "      <td>100.05</td>\n",
       "      <td>100.65</td>\n",
       "      <td>100.784909</td>\n",
       "      <td>6295</td>\n",
       "      <td>101</td>\n",
       "      <td>634441.0</td>\n",
       "      <td>4205</td>\n",
       "      <td>66.80</td>\n",
       "      <td>1.95</td>\n",
       "      <td>-1.35</td>\n",
       "      <td>3</td>\n",
       "      <td>1</td>\n",
       "      <td>2017</td>\n",
       "    </tr>\n",
       "    <tr>\n",
       "      <th>247</th>\n",
       "      <td>104.00</td>\n",
       "      <td>104.0</td>\n",
       "      <td>99.00</td>\n",
       "      <td>101.65</td>\n",
       "      <td>101.302024</td>\n",
       "      <td>5483</td>\n",
       "      <td>182</td>\n",
       "      <td>555439.0</td>\n",
       "      <td>5062</td>\n",
       "      <td>92.32</td>\n",
       "      <td>5.00</td>\n",
       "      <td>-2.35</td>\n",
       "      <td>2</td>\n",
       "      <td>1</td>\n",
       "      <td>2017</td>\n",
       "    </tr>\n",
       "  </tbody>\n",
       "</table>\n",
       "<p>248 rows × 15 columns</p>\n",
       "</div>"
      ],
      "text/plain": [
       "     Open Price  High Price  Low Price  Close Price         WAP  No.of Shares  \\\n",
       "0        203.55       206.5     201.00       201.85  202.760380          3372   \n",
       "1        202.00       207.6     199.55       202.80  203.118439          8612   \n",
       "2        209.10       213.6     195.20       197.80  202.801825         24983   \n",
       "3        216.50       219.9     207.20       209.70  213.418007         17782   \n",
       "4        218.95       233.6     212.40       218.15  223.089049        165976   \n",
       "..          ...         ...        ...          ...         ...           ...   \n",
       "243      110.10       110.1     107.80       110.10  110.048719          2771   \n",
       "244      101.00       104.9     100.00       104.90  103.352347          9993   \n",
       "245       99.50       102.0      99.50        99.95  100.293226          4488   \n",
       "246      102.00       102.0     100.05       100.65  100.784909          6295   \n",
       "247      104.00       104.0      99.00       101.65  101.302024          5483   \n",
       "\n",
       "     No. of Trades  Total Turnover (Rs.)  Deliverable Quantity  \\\n",
       "0               68              683708.0                  2202   \n",
       "1              196             1749256.0                  5063   \n",
       "2              426             5066598.0                 14168   \n",
       "3              363             3794999.0                  7540   \n",
       "4             2710            37027428.0                 60121   \n",
       "..             ...                   ...                   ...   \n",
       "243             34              304945.0                  2045   \n",
       "244            147             1032800.0                  5969   \n",
       "245            101              450116.0                  3422   \n",
       "246            101              634441.0                  4205   \n",
       "247            182              555439.0                  5062   \n",
       "\n",
       "     % Deli. Qty to Traded Qty  Spread High-Low  Spread Close-Open  Day  \\\n",
       "0                        65.30             5.50              -1.70   29   \n",
       "1                        58.79             8.05               0.80   28   \n",
       "2                        56.71            18.40             -11.30   27   \n",
       "3                        42.40            12.70              -6.80   26   \n",
       "4                        36.22            21.20              -0.80   22   \n",
       "..                         ...              ...                ...  ...   \n",
       "243                      73.80             2.30               0.00    6   \n",
       "244                      59.73             4.90               3.90    5   \n",
       "245                      76.25             2.50               0.45    4   \n",
       "246                      66.80             1.95              -1.35    3   \n",
       "247                      92.32             5.00              -2.35    2   \n",
       "\n",
       "     Month  Year  \n",
       "0       12  2017  \n",
       "1       12  2017  \n",
       "2       12  2017  \n",
       "3       12  2017  \n",
       "4       12  2017  \n",
       "..     ...   ...  \n",
       "243      1  2017  \n",
       "244      1  2017  \n",
       "245      1  2017  \n",
       "246      1  2017  \n",
       "247      1  2017  \n",
       "\n",
       "[248 rows x 15 columns]"
      ]
     },
     "execution_count": 78,
     "metadata": {},
     "output_type": "execute_result"
    }
   ],
   "source": [
    "df.drop('Date',axis=1)"
   ]
  },
  {
   "cell_type": "code",
   "execution_count": null,
   "id": "25720794",
   "metadata": {},
   "outputs": [],
   "source": []
  }
 ],
 "metadata": {
  "kernelspec": {
   "display_name": "Python 3 (ipykernel)",
   "language": "python",
   "name": "python3"
  },
  "language_info": {
   "codemirror_mode": {
    "name": "ipython",
    "version": 3
   },
   "file_extension": ".py",
   "mimetype": "text/x-python",
   "name": "python",
   "nbconvert_exporter": "python",
   "pygments_lexer": "ipython3",
   "version": "3.10.6"
  },
  "toc": {
   "base_numbering": 1,
   "nav_menu": {},
   "number_sections": true,
   "sideBar": true,
   "skip_h1_title": false,
   "title_cell": "Table of Contents",
   "title_sidebar": "Contents",
   "toc_cell": false,
   "toc_position": {},
   "toc_section_display": true,
   "toc_window_display": false
  }
 },
 "nbformat": 4,
 "nbformat_minor": 5
}

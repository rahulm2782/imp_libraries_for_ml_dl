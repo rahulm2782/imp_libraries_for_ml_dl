{
 "cells": [
  {
   "cell_type": "markdown",
   "id": "f33bcc94",
   "metadata": {
    "id": "f33bcc94"
   },
   "source": [
    "# creating an random array with random lib"
   ]
  },
  {
   "cell_type": "markdown",
   "id": "ddae8996",
   "metadata": {},
   "source": [
    "<span class=\"mark\">x = np.random.randint(10,size=8)</span>"
   ]
  },
  {
   "cell_type": "code",
   "execution_count": null,
   "id": "0ff51825",
   "metadata": {
    "id": "0ff51825",
    "outputId": "f9704bb4-da78-48e3-cf27-ef4b76d15ff7"
   },
   "outputs": [
    {
     "data": {
      "text/plain": [
       "array([2, 3, 0, 7, 3, 3, 0, 2])"
      ]
     },
     "execution_count": 49,
     "metadata": {},
     "output_type": "execute_result"
    }
   ],
   "source": [
    "#imp\n",
    "x = np.random.randint(10,size=8)\n",
    "x"
   ]
  },
  {
   "cell_type": "markdown",
   "id": "dff2a066",
   "metadata": {
    "id": "02b2c6ea"
   },
   "source": [
    "this will create a one dimension array wth size 8, we can modify the array with reshape"
   ]
  },
  {
   "cell_type": "markdown",
   "id": "54618400",
   "metadata": {},
   "source": [
    " reshape"
   ]
  },
  {
   "cell_type": "markdown",
   "id": "8061d95b",
   "metadata": {},
   "source": [
    "<span class=\"mark\">converting a one dimension array to 2d/3d with the equal elements</span>"
   ]
  },
  {
   "cell_type": "code",
   "execution_count": null,
   "id": "e6e49875",
   "metadata": {
    "id": "e6e49875"
   },
   "outputs": [],
   "source": [
    "b=x.reshape(2,4)\n",
    "b"
   ]
  },
  {
   "cell_type": "code",
   "execution_count": null,
   "id": "7e9a33f6",
   "metadata": {
    "id": "a3dd1c06"
   },
   "outputs": [],
   "source": [
    "##### cretaing 2d aray with random lib"
   ]
  },
  {
   "cell_type": "code",
   "execution_count": null,
   "id": "77be699c",
   "metadata": {
    "id": "77be699c",
    "outputId": "ee3f7d56-6eb3-4099-9259-db36844fd2f0"
   },
   "outputs": [
    {
     "data": {
      "text/plain": [
       "array([[3, 0, 2, 5],\n",
       "       [7, 7, 9, 9]])"
      ]
     },
     "execution_count": 54,
     "metadata": {},
     "output_type": "execute_result"
    }
   ],
   "source": [
    "x = np.random.randint(10,size=(2,4))\n",
    "x"
   ]
  },
  {
   "cell_type": "code",
   "execution_count": null,
   "id": "1ce4ef21",
   "metadata": {
    "id": "74684cd5"
   },
   "outputs": [],
   "source": [
    "#### creating a 3d array with random"
   ]
  },
  {
   "cell_type": "code",
   "execution_count": null,
   "id": "300e4e88",
   "metadata": {
    "id": "300e4e88",
    "outputId": "c9f0ba36-cdee-482e-e4ee-697e0f7de39a"
   },
   "outputs": [
    {
     "data": {
      "text/plain": [
       "array([[[3, 5, 6, 3],\n",
       "        [5, 8, 8, 5],\n",
       "        [4, 0, 6, 4]],\n",
       "\n",
       "       [[3, 8, 2, 0],\n",
       "        [5, 9, 0, 5],\n",
       "        [7, 9, 7, 0]]])"
      ]
     },
     "execution_count": 56,
     "metadata": {},
     "output_type": "execute_result"
    }
   ],
   "source": [
    "x = np.random.randint(10,size=(2,3,4))\n",
    "x"
   ]
  },
  {
   "cell_type": "code",
   "execution_count": null,
   "id": "aef5df73",
   "metadata": {
    "id": "aef5df73"
   },
   "outputs": [],
   "source": [
    "#creating a complex data type 3d array"
   ]
  },
  {
   "cell_type": "code",
   "execution_count": null,
   "id": "18fc8b3e",
   "metadata": {
    "id": "18fc8b3e"
   },
   "outputs": [],
   "source": [
    "x = np.array([[[1,2,3,4],[1,2,3,4]],[[1,2,3,4],[1,2,3,4]]],dtype=complex)"
   ]
  },
  {
   "cell_type": "code",
   "execution_count": null,
   "id": "123be52b",
   "metadata": {
    "id": "123be52b"
   },
   "outputs": [],
   "source": [
    "# x=np.random.randint(12,size=(3,2,2))\n",
    "# complex(x)\n",
    "# #dont know the method t convert to complex"
   ]
  },
  {
   "cell_type": "code",
   "execution_count": null,
   "id": "ffde62b9",
   "metadata": {
    "id": "ffde62b9",
    "outputId": "cf3963cc-c69d-44ef-e92f-ac1f723aa879"
   },
   "outputs": [
    {
     "data": {
      "text/plain": [
       "array([[[1.+0.j, 2.+0.j, 3.+0.j, 4.+0.j],\n",
       "        [1.+0.j, 2.+0.j, 3.+0.j, 4.+0.j]],\n",
       "\n",
       "       [[1.+0.j, 2.+0.j, 3.+0.j, 4.+0.j],\n",
       "        [1.+0.j, 2.+0.j, 3.+0.j, 4.+0.j]]])"
      ]
     },
     "execution_count": 61,
     "metadata": {},
     "output_type": "execute_result"
    }
   ],
   "source": [
    "x"
   ]
  },
  {
   "cell_type": "code",
   "execution_count": null,
   "id": "50593152",
   "metadata": {},
   "outputs": [],
   "source": [
    "# creating a 2x2 array of x and y"
   ]
  },
  {
   "cell_type": "code",
   "execution_count": 17,
   "id": "627bd4f8",
   "metadata": {
    "id": "627bd4f8"
   },
   "outputs": [
    {
     "name": "stdout",
     "output_type": "stream",
     "text": [
      "x [[1 2]\n",
      " [2 5]]\n",
      "----------\n",
      "y [[3 7]\n",
      " [7 5]]\n"
     ]
    }
   ],
   "source": [
    "x=np.array([[1,2],[2,5]])\n",
    "y=np.array([[3,7],[7,5]])\n",
    "print('x',x)\n",
    "print(10*'-')\n",
    "print('y',y)"
   ]
  },
  {
   "cell_type": "code",
   "execution_count": null,
   "id": "3c42a152",
   "metadata": {
    "id": "3c42a152"
   },
   "outputs": [],
   "source": [
    "#we can also create a 2x2 arra with this random method"
   ]
  },
  {
   "cell_type": "code",
   "execution_count": 7,
   "id": "6ae07894",
   "metadata": {
    "id": "6ae07894"
   },
   "outputs": [],
   "source": [
    "a = np.random.randint(4,size=(2,2))\n",
    "b = np.random.randint(4,size=(2,2))\n"
   ]
  },
  {
   "cell_type": "code",
   "execution_count": 15,
   "id": "c69cadcd",
   "metadata": {
    "id": "c69cadcd",
    "outputId": "1bb88cf0-da83-4be2-8f86-78bb93b3c663"
   },
   "outputs": [
    {
     "name": "stdout",
     "output_type": "stream",
     "text": [
      "a [[0 0]\n",
      " [3 3]]\n",
      "------------\n",
      "b [[1 0]\n",
      " [3 3]]\n"
     ]
    }
   ],
   "source": [
    "print('a',a)\n",
    "print('------------')\n",
    "print('b',b)"
   ]
  },
  {
   "cell_type": "markdown",
   "id": "ad7d61bc",
   "metadata": {
    "id": "ad7d61bc"
   },
   "source": [
    "# Addition of two or more arrays"
   ]
  },
  {
   "cell_type": "markdown",
   "id": "2aed4982",
   "metadata": {},
   "source": [
    "c = <span class=\"mark\">np.add</span>(x,y)"
   ]
  },
  {
   "cell_type": "code",
   "execution_count": 18,
   "id": "048bf772",
   "metadata": {},
   "outputs": [
    {
     "name": "stdout",
     "output_type": "stream",
     "text": [
      "x [[1 2]\n",
      " [2 5]]\n",
      "----------\n",
      "y [[3 7]\n",
      " [7 5]]\n"
     ]
    }
   ],
   "source": [
    "import numpy as np\n",
    "x=np.array([[1,2],[2,5]])\n",
    "y=np.array([[3,7],[7,5]])\n",
    "print('x',x)\n",
    "print(10*'-')\n",
    "print('y',y)"
   ]
  },
  {
   "cell_type": "code",
   "execution_count": 20,
   "id": "0dde02f3",
   "metadata": {
    "id": "0dde02f3"
   },
   "outputs": [
    {
     "data": {
      "text/plain": [
       "array([[ 4,  9],\n",
       "       [ 9, 10]])"
      ]
     },
     "execution_count": 20,
     "metadata": {},
     "output_type": "execute_result"
    }
   ],
   "source": [
    "c = np.add(x,y)\n",
    "c"
   ]
  },
  {
   "cell_type": "markdown",
   "id": "a4142028",
   "metadata": {
    "id": "a4142028"
   },
   "source": [
    "# division of 2 arrays"
   ]
  },
  {
   "cell_type": "markdown",
   "id": "d0e9a962",
   "metadata": {},
   "source": [
    "b = <span class=\"mark\">np.divide</span>(x,y)"
   ]
  },
  {
   "cell_type": "code",
   "execution_count": 21,
   "id": "2455650f",
   "metadata": {},
   "outputs": [
    {
     "name": "stdout",
     "output_type": "stream",
     "text": [
      "x [[1 2]\n",
      " [2 5]]\n",
      "----------\n",
      "y [[3 7]\n",
      " [7 5]]\n"
     ]
    }
   ],
   "source": [
    "import numpy as np\n",
    "x=np.array([[1,2],[2,5]])\n",
    "y=np.array([[3,7],[7,5]])\n",
    "print('x',x)\n",
    "print(10*'-')\n",
    "print('y',y)"
   ]
  },
  {
   "cell_type": "code",
   "execution_count": 22,
   "id": "9a3f7a96",
   "metadata": {
    "id": "9a3f7a96",
    "outputId": "63fc6c33-92aa-4e9a-cc96-bfefc54b9154"
   },
   "outputs": [
    {
     "data": {
      "text/plain": [
       "array([[0.33333333, 0.28571429],\n",
       "       [0.28571429, 1.        ]])"
      ]
     },
     "execution_count": 22,
     "metadata": {},
     "output_type": "execute_result"
    }
   ],
   "source": [
    "np.divide(x,y)"
   ]
  },
  {
   "attachments": {},
   "cell_type": "markdown",
   "id": "4534f653",
   "metadata": {
    "id": "4534f653"
   },
   "source": [
    "# multiplication"
   ]
  },
  {
   "cell_type": "code",
   "execution_count": null,
   "id": "5c0c010d",
   "metadata": {},
   "outputs": [],
   "source": [
    "import numpy as np\n",
    "x=np.array([[1,2],[2,5]])\n",
    "y=np.array([[3,7],[7,5]])\n",
    "print('x',x)\n",
    "print(10*'-')\n",
    "print('y',y)"
   ]
  },
  {
   "cell_type": "code",
   "execution_count": null,
   "id": "c95ce506",
   "metadata": {
    "id": "c95ce506",
    "outputId": "335b9f4f-85b7-4fe3-d780-ed3470d818c9"
   },
   "outputs": [
    {
     "data": {
      "text/plain": [
       "array([[ 3, 14],\n",
       "       [14, 25]])"
      ]
     },
     "execution_count": 71,
     "metadata": {},
     "output_type": "execute_result"
    }
   ],
   "source": [
    "np.multiply(x,y)"
   ]
  },
  {
   "cell_type": "markdown",
   "id": "d20b602d",
   "metadata": {
    "id": "d20b602d"
   },
   "source": [
    "# subtraction of two arrays"
   ]
  },
  {
   "cell_type": "code",
   "execution_count": null,
   "id": "d3c414c4",
   "metadata": {},
   "outputs": [],
   "source": [
    "import numpy as np\n",
    "x=np.array([[1,2],[2,5]])\n",
    "y=np.array([[3,7],[7,5]])\n",
    "print('x',x)\n",
    "print(10*'-')\n",
    "print('y',y)"
   ]
  },
  {
   "cell_type": "code",
   "execution_count": null,
   "id": "d0f938f1",
   "metadata": {
    "id": "d0f938f1",
    "outputId": "199ae41e-6ad2-463d-de87-bfdcc5a6acb4"
   },
   "outputs": [
    {
     "data": {
      "text/plain": [
       "array([[-2, -5],\n",
       "       [-5,  0]])"
      ]
     },
     "execution_count": 73,
     "metadata": {},
     "output_type": "execute_result"
    }
   ],
   "source": [
    "np.subtract(x,y)"
   ]
  },
  {
   "cell_type": "markdown",
   "id": "19d10466",
   "metadata": {
    "id": "19d10466"
   },
   "source": [
    "# square of an array"
   ]
  },
  {
   "cell_type": "code",
   "execution_count": null,
   "id": "88dc4c8a",
   "metadata": {},
   "outputs": [],
   "source": [
    "import numpy as np\n",
    "x=np.array([[1,2],[2,5]])\n",
    "y=np.array([[3,7],[7,5]])\n",
    "print('x',x)\n",
    "print(10*'-')\n",
    "print('y',y)"
   ]
  },
  {
   "cell_type": "code",
   "execution_count": null,
   "id": "f90a6697",
   "metadata": {
    "id": "f90a6697",
    "outputId": "140fe4d5-104d-4a2b-ab0a-88bd62836959"
   },
   "outputs": [
    {
     "data": {
      "text/plain": [
       "array([[ 1,  4],\n",
       "       [ 4, 25]], dtype=int32)"
      ]
     },
     "execution_count": 75,
     "metadata": {},
     "output_type": "execute_result"
    }
   ],
   "source": [
    "np.square(x)"
   ]
  },
  {
   "cell_type": "code",
   "execution_count": null,
   "id": "204d5e57",
   "metadata": {
    "id": "204d5e57",
    "outputId": "5dedd675-c52a-41be-c5bd-03db1f41db40"
   },
   "outputs": [
    {
     "data": {
      "text/plain": [
       "array([[ 9, 49],\n",
       "       [49, 25]], dtype=int32)"
      ]
     },
     "execution_count": 76,
     "metadata": {},
     "output_type": "execute_result"
    }
   ],
   "source": [
    "np.square(y)"
   ]
  },
  {
   "cell_type": "markdown",
   "id": "1bfd336d",
   "metadata": {
    "id": "1bfd336d"
   },
   "source": [
    "# array raised to power n"
   ]
  },
  {
   "cell_type": "code",
   "execution_count": null,
   "id": "e35a0eb8",
   "metadata": {},
   "outputs": [],
   "source": [
    "import numpy as np\n",
    "x=np.array([[1,2],[2,5]])\n",
    "y=np.array([[3,7],[7,5]])\n",
    "print('x',x)\n",
    "print(10*'-')\n",
    "print('y',y)"
   ]
  },
  {
   "cell_type": "code",
   "execution_count": null,
   "id": "39b0b708",
   "metadata": {
    "id": "39b0b708",
    "outputId": "9e140258-8819-4692-f7be-5dfdfd1d40dc"
   },
   "outputs": [
    {
     "data": {
      "text/plain": [
       "array([[  1,   8],\n",
       "       [  8, 125]], dtype=int32)"
      ]
     },
     "execution_count": 78,
     "metadata": {},
     "output_type": "execute_result"
    }
   ],
   "source": [
    "np.power(x,3)"
   ]
  },
  {
   "cell_type": "code",
   "execution_count": null,
   "id": "4c99c369",
   "metadata": {
    "id": "4c99c369",
    "outputId": "28eb2194-620e-49b7-edf7-a2002b58dd33"
   },
   "outputs": [
    {
     "data": {
      "text/plain": [
       "array([[  81, 2401],\n",
       "       [2401,  625]], dtype=int32)"
      ]
     },
     "execution_count": 79,
     "metadata": {},
     "output_type": "execute_result"
    }
   ],
   "source": [
    "np.power(y,4)"
   ]
  },
  {
   "cell_type": "markdown",
   "id": "4c417dd0",
   "metadata": {
    "id": "4c417dd0"
   },
   "source": [
    "# square root of an array"
   ]
  },
  {
   "cell_type": "code",
   "execution_count": null,
   "id": "f560ae5a",
   "metadata": {},
   "outputs": [],
   "source": [
    "import numpy as np\n",
    "x=np.array([[1,2],[2,5]])\n",
    "y=np.array([[3,7],[7,5]])\n",
    "print('x',x)\n",
    "print(10*'-')\n",
    "print('y',y)"
   ]
  },
  {
   "cell_type": "code",
   "execution_count": null,
   "id": "86eda0f9",
   "metadata": {
    "id": "86eda0f9",
    "outputId": "27a6db9f-6c20-4086-a19d-b4242c33850c"
   },
   "outputs": [
    {
     "data": {
      "text/plain": [
       "array([[1.        , 1.41421356],\n",
       "       [1.41421356, 2.23606798]])"
      ]
     },
     "execution_count": 81,
     "metadata": {},
     "output_type": "execute_result"
    }
   ],
   "source": [
    "np.sqrt(x)"
   ]
  },
  {
   "cell_type": "markdown",
   "id": "b267d7eb",
   "metadata": {
    "id": "b267d7eb"
   },
   "source": [
    "# resiprocal of an array"
   ]
  },
  {
   "cell_type": "markdown",
   "id": "56541e48",
   "metadata": {},
   "source": [
    "<span class=\"mark\">we first must convert the datatype to float</span>"
   ]
  },
  {
   "cell_type": "code",
   "execution_count": null,
   "id": "5d06a5ae",
   "metadata": {},
   "outputs": [],
   "source": [
    "import numpy as np\n",
    "x=np.array([[1,2],[2,5]])\n",
    "y=np.array([[3,7],[7,5]])\n",
    "print('x',x)\n",
    "print(10*'-')\n",
    "print('y',y)"
   ]
  },
  {
   "cell_type": "code",
   "execution_count": null,
   "id": "2a862ab5",
   "metadata": {
    "id": "2a862ab5",
    "outputId": "dffd3176-0812-4548-9017-e9f48c7324ef"
   },
   "outputs": [
    {
     "data": {
      "text/plain": [
       "array([[1, 0],\n",
       "       [0, 0]], dtype=int32)"
      ]
     },
     "execution_count": 85,
     "metadata": {},
     "output_type": "execute_result"
    }
   ],
   "source": [
    "np.reciprocal(x) #this will only display 1 and zero, so we have to change the datatype of x to float"
   ]
  },
  {
   "cell_type": "code",
   "execution_count": null,
   "id": "8e8b729f",
   "metadata": {
    "id": "8e8b729f",
    "outputId": "4ab1a319-0dd1-4f2b-b134-115f2faaff96"
   },
   "outputs": [
    {
     "data": {
      "text/plain": [
       "array([[1., 2.],\n",
       "       [3., 4.]])"
      ]
     },
     "execution_count": 90,
     "metadata": {},
     "output_type": "execute_result"
    }
   ],
   "source": [
    "x=np.array([[1,2],[3,4]],dtype=float)\n",
    "x"
   ]
  },
  {
   "cell_type": "code",
   "execution_count": null,
   "id": "0698eecf",
   "metadata": {
    "id": "0698eecf",
    "outputId": "d48988de-d6ce-4bcf-8e2a-de3a1151b625"
   },
   "outputs": [
    {
     "data": {
      "text/plain": [
       "array([[1.        , 0.5       ],\n",
       "       [0.33333333, 0.25      ]])"
      ]
     },
     "execution_count": 91,
     "metadata": {},
     "output_type": "execute_result"
    }
   ],
   "source": [
    "np.reciprocal(x)"
   ]
  },
  {
   "cell_type": "markdown",
   "id": "f75a3128",
   "metadata": {
    "id": "f75a3128"
   },
   "source": [
    "# sin #cos # tan"
   ]
  },
  {
   "cell_type": "code",
   "execution_count": null,
   "id": "12e3bbc8",
   "metadata": {},
   "outputs": [],
   "source": [
    "#creating a random 2x2 2d array"
   ]
  },
  {
   "cell_type": "code",
   "execution_count": null,
   "id": "c43aecf3",
   "metadata": {
    "id": "c43aecf3"
   },
   "outputs": [],
   "source": [
    "x=np.array([[1,2],[3,4]])\n"
   ]
  },
  {
   "cell_type": "code",
   "execution_count": null,
   "id": "568de32b",
   "metadata": {},
   "outputs": [],
   "source": [
    "#creating a random 3x2x5 array"
   ]
  },
  {
   "cell_type": "code",
   "execution_count": null,
   "id": "cc6f49ae",
   "metadata": {
    "id": "cc6f49ae"
   },
   "outputs": [],
   "source": [
    "y=np.random.randint(30,size=(3,2,5))"
   ]
  },
  {
   "cell_type": "code",
   "execution_count": null,
   "id": "ab379452",
   "metadata": {
    "id": "ab379452",
    "outputId": "a604665c-80c3-4b53-f925-c429ff1b9f59"
   },
   "outputs": [
    {
     "data": {
      "text/plain": [
       "array([[ 0.84147098,  0.90929743],\n",
       "       [ 0.14112001, -0.7568025 ]])"
      ]
     },
     "execution_count": 30,
     "metadata": {},
     "output_type": "execute_result"
    }
   ],
   "source": [
    "np.sin(x)"
   ]
  },
  {
   "cell_type": "code",
   "execution_count": null,
   "id": "d474b556",
   "metadata": {
    "id": "d474b556",
    "outputId": "f25d8009-c1d7-4bea-c2b6-2720ec497d1d"
   },
   "outputs": [
    {
     "data": {
      "text/plain": [
       "array([[[ 0.91294525,  0.76255845,  0.65028784,  0.90929743,\n",
       "         -0.53657292],\n",
       "        [ 0.65028784, -0.95892427, -0.95892427,  0.84147098,\n",
       "          0.99060736]],\n",
       "\n",
       "       [[-0.8462204 , -0.7568025 , -0.95892427, -0.28790332,\n",
       "         -0.90557836],\n",
       "        [ 0.14112001,  0.14987721, -0.54402111,  0.98935825,\n",
       "         -0.28790332]],\n",
       "\n",
       "       [[ 0.6569866 ,  0.84147098, -0.66363388, -0.2794155 ,\n",
       "         -0.54402111],\n",
       "        [ 0.91294525, -0.7568025 ,  0.98935825,  0.84147098,\n",
       "         -0.99999021]]])"
      ]
     },
     "execution_count": 31,
     "metadata": {},
     "output_type": "execute_result"
    }
   ],
   "source": [
    "np.sin(y)"
   ]
  },
  {
   "cell_type": "code",
   "execution_count": null,
   "id": "6222da22",
   "metadata": {
    "id": "6222da22",
    "outputId": "4feccb09-148c-4323-e4c4-24dda5a694c9"
   },
   "outputs": [
    {
     "data": {
      "text/plain": [
       "array([[ 0.54030231, -0.41614684],\n",
       "       [-0.9899925 , -0.65364362]])"
      ]
     },
     "execution_count": 32,
     "metadata": {},
     "output_type": "execute_result"
    }
   ],
   "source": [
    "np.cos(x)"
   ]
  },
  {
   "cell_type": "code",
   "execution_count": null,
   "id": "683f8576",
   "metadata": {
    "id": "683f8576",
    "outputId": "57616ef0-6e50-4c2c-fbd4-622fab5eafc5"
   },
   "outputs": [
    {
     "data": {
      "text/plain": [
       "array([[[ 0.40808206,  0.64691932, -0.75968791, -0.41614684,\n",
       "          0.84385396],\n",
       "        [-0.75968791,  0.28366219,  0.28366219,  0.54030231,\n",
       "          0.13673722]],\n",
       "\n",
       "       [[-0.53283302, -0.65364362,  0.28366219, -0.95765948,\n",
       "          0.42417901],\n",
       "        [-0.9899925 ,  0.98870462, -0.83907153, -0.14550003,\n",
       "         -0.95765948]],\n",
       "\n",
       "       [[ 0.75390225,  0.54030231, -0.74805753,  0.96017029,\n",
       "         -0.83907153],\n",
       "        [ 0.40808206, -0.65364362, -0.14550003,  0.54030231,\n",
       "          0.0044257 ]]])"
      ]
     },
     "execution_count": 33,
     "metadata": {},
     "output_type": "execute_result"
    }
   ],
   "source": [
    "np.cos(y)"
   ]
  },
  {
   "cell_type": "code",
   "execution_count": null,
   "id": "d06e9e06",
   "metadata": {
    "id": "d06e9e06",
    "outputId": "d606a4bd-5c2d-46b1-dd58-f9ef0a26f8bd"
   },
   "outputs": [
    {
     "data": {
      "text/plain": [
       "array([[ 1.55740772, -2.18503986],\n",
       "       [-0.14254654,  1.15782128]])"
      ]
     },
     "execution_count": 34,
     "metadata": {},
     "output_type": "execute_result"
    }
   ],
   "source": [
    "np.tan(x)"
   ]
  },
  {
   "cell_type": "code",
   "execution_count": null,
   "id": "4b8034b8",
   "metadata": {
    "id": "4b8034b8",
    "outputId": "b1c13809-77a5-46b8-83c4-a6fda4f28975"
   },
   "outputs": [
    {
     "data": {
      "text/plain": [
       "array([[[ 2.23716094e+00,  1.17875355e+00, -8.55993401e-01,\n",
       "         -2.18503986e+00, -6.35859929e-01],\n",
       "        [-8.55993401e-01, -3.38051501e+00, -3.38051501e+00,\n",
       "          1.55740772e+00,  7.24460662e+00]],\n",
       "\n",
       "       [[ 1.58815308e+00,  1.15782128e+00, -3.38051501e+00,\n",
       "          3.00632242e-01, -2.13489670e+00],\n",
       "        [-1.42546543e-01,  1.51589471e-01,  6.48360827e-01,\n",
       "         -6.79971146e+00,  3.00632242e-01]],\n",
       "\n",
       "       [[ 8.71447983e-01,  1.55740772e+00,  8.87142844e-01,\n",
       "         -2.91006191e-01,  6.48360827e-01],\n",
       "        [ 2.23716094e+00,  1.15782128e+00, -6.79971146e+00,\n",
       "          1.55740772e+00, -2.25950846e+02]]])"
      ]
     },
     "execution_count": 35,
     "metadata": {},
     "output_type": "execute_result"
    }
   ],
   "source": [
    "np.tan(y)"
   ]
  },
  {
   "cell_type": "markdown",
   "id": "c7e4dc04",
   "metadata": {
    "id": "d5af7fe2"
   },
   "source": [
    "<span class=\"mark\">#np.cot(x)  #cot,#cosec</span> function does not exist in numpy, so we take the <span class=\"mark\">reciprocal</span> of <span class=\"mark\">sin,cos,tan</span> to obtain their values"
   ]
  },
  {
   "cell_type": "markdown",
   "id": "2b30227f",
   "metadata": {
    "id": "2b30227f"
   },
   "source": [
    "# floor division of arrays\n"
   ]
  },
  {
   "cell_type": "markdown",
   "id": "a4c825c3",
   "metadata": {
    "id": "e9818964"
   },
   "source": [
    "#floor division rounds the value to the nearest lower integer"
   ]
  },
  {
   "cell_type": "code",
   "execution_count": 23,
   "id": "575d79d2",
   "metadata": {},
   "outputs": [],
   "source": [
    "#creating a 4x4 2d array"
   ]
  },
  {
   "cell_type": "code",
   "execution_count": null,
   "id": "8801109b",
   "metadata": {
    "id": "8801109b",
    "outputId": "5765224d-d7f0-4769-a29a-89f62fb97847"
   },
   "outputs": [
    {
     "data": {
      "text/plain": [
       "array([[1.2, 0.5, 2.6, 7.9],\n",
       "       [1.7, 4.8, 3.6, 9.3],\n",
       "       [1.6, 2.5, 3.8, 9.6],\n",
       "       [3.6, 2.5, 7.4, 4.6]])"
      ]
     },
     "execution_count": 106,
     "metadata": {},
     "output_type": "execute_result"
    }
   ],
   "source": [
    "x=np.array([[1.2,.5,2.6,7.9],[1.7,4.8,3.6,9.3],[1.6,2.5,3.8,9.6],[3.6,2.5,7.4,4.6]])\n",
    "x"
   ]
  },
  {
   "cell_type": "code",
   "execution_count": null,
   "id": "798edc63",
   "metadata": {
    "id": "798edc63",
    "outputId": "0edb9a93-444f-48cb-994e-20650b14a7dd"
   },
   "outputs": [
    {
     "data": {
      "text/plain": [
       "array([[1., 0., 2., 7.],\n",
       "       [1., 4., 3., 9.],\n",
       "       [1., 2., 3., 9.],\n",
       "       [3., 2., 7., 4.]])"
      ]
     },
     "execution_count": 107,
     "metadata": {},
     "output_type": "execute_result"
    }
   ],
   "source": [
    "np.floor(x)"
   ]
  },
  {
   "cell_type": "markdown",
   "id": "13ec7732",
   "metadata": {
    "id": "13ec7732"
   },
   "source": [
    "# ceil division\n",
    "#ceil will round the array to the nearest highest value"
   ]
  },
  {
   "cell_type": "code",
   "execution_count": null,
   "id": "99c16a64",
   "metadata": {
    "id": "99c16a64",
    "outputId": "a3d008f4-2324-4725-89db-d68a3d2cd646"
   },
   "outputs": [
    {
     "data": {
      "text/plain": [
       "array([[ 2.,  1.,  3.,  8.],\n",
       "       [ 2.,  5.,  4., 10.],\n",
       "       [ 2.,  3.,  4., 10.],\n",
       "       [ 4.,  3.,  8.,  5.]])"
      ]
     },
     "execution_count": 109,
     "metadata": {},
     "output_type": "execute_result"
    }
   ],
   "source": [
    "np.ceil(x)"
   ]
  },
  {
   "cell_type": "markdown",
   "id": "efbf4237",
   "metadata": {
    "id": "efbf4237"
   },
   "source": [
    "# round"
   ]
  },
  {
   "cell_type": "markdown",
   "id": "df923e52",
   "metadata": {
    "id": "7a26dd92"
   },
   "source": [
    "#if values less the.5 will give lower int else will give higher int"
   ]
  },
  {
   "cell_type": "code",
   "execution_count": null,
   "id": "bd177916",
   "metadata": {
    "id": "bd177916",
    "outputId": "e89e88aa-bbfa-4d69-bb7b-b24fb422afd2"
   },
   "outputs": [
    {
     "data": {
      "text/plain": [
       "array([[ 1.,  0.,  3.,  8.],\n",
       "       [ 2.,  5.,  4.,  9.],\n",
       "       [ 2.,  2.,  4., 10.],\n",
       "       [ 4.,  2.,  7.,  5.]])"
      ]
     },
     "execution_count": 112,
     "metadata": {},
     "output_type": "execute_result"
    }
   ],
   "source": [
    "np.round(x)"
   ]
  },
  {
   "cell_type": "code",
   "execution_count": null,
   "id": "90498809",
   "metadata": {
    "id": "90498809"
   },
   "outputs": [],
   "source": [
    "import numpy as np"
   ]
  },
  {
   "cell_type": "code",
   "execution_count": 24,
   "id": "acee329d",
   "metadata": {
    "id": "acee329d"
   },
   "outputs": [
    {
     "name": "stdout",
     "output_type": "stream",
     "text": [
      "x [6 7 4 0 6 7 2 2]\n",
      "--------------------\n",
      "y [[7 6 9 6 9]\n",
      " [7 6 9 3 9]]\n",
      "--------------------\n",
      "z [[[ 6  6]\n",
      "  [ 7  8]\n",
      "  [ 9 11]]\n",
      "\n",
      " [[ 3 11]\n",
      "  [ 3  0]\n",
      "  [10  0]]]\n"
     ]
    }
   ],
   "source": [
    "x = np.random.randint(8,size=8) #creating a one dimension array with length 8\n",
    "y = np.random.randint(10,size=(2,5)) #creating a 2 dimension array\n",
    "z=np.random.randint(12,size=(2,3,2)) #creating a 3d array\n",
    "print('x',x)\n",
    "print(10*'--')\n",
    "print('y',y)\n",
    "print(10*'--')\n",
    "print('z',z)"
   ]
  },
  {
   "cell_type": "code",
   "execution_count": 32,
   "id": "70bd2845",
   "metadata": {
    "id": "70bd2845",
    "outputId": "6d9331b5-8995-4763-9c57-7e4af4644d36"
   },
   "outputs": [
    {
     "name": "stdout",
     "output_type": "stream",
     "text": [
      "x.shape: (8,)\n",
      "x.ndim: 1\n",
      "x.dtype: int32\n",
      "--------------------\n",
      "y.shape: (2, 5)\n",
      "y.ndim: 2\n",
      "y.dtype: int32\n",
      "--------------------\n",
      "z.shape: (2, 3, 2)\n",
      "z.ndim: 3\n",
      "z.dtype: int32\n"
     ]
    }
   ],
   "source": [
    "print('x.shape:',x.shape)    #finding the shape of array\n",
    "print('x.ndim:',x.ndim)      #dimension of an array\n",
    "print('x.dtype:',x.dtype)#datatype of the array\n",
    "print(10*'--')\n",
    "print('y.shape:',y.shape)\n",
    "print('y.ndim:',y.ndim)\n",
    "print('y.dtype:',y.dtype)\n",
    "print(10*'--')\n",
    "print('z.shape:',z.shape)\n",
    "print('z.ndim:',z.ndim)\n",
    "print('z.dtype:',z.dtype)"
   ]
  },
  {
   "cell_type": "markdown",
   "id": "e1529d7f",
   "metadata": {
    "id": "e1529d7f"
   },
   "source": [
    "# astype:"
   ]
  },
  {
   "cell_type": "markdown",
   "id": "a1e9ed3e",
   "metadata": {
    "id": "693811c6"
   },
   "source": [
    "#used to <span class=\"mark\">convert/change datatype</span> of an array\n",
    "\n",
    "c=b<span class=\"mark\">.astype(complex)</span>\n",
    "c"
   ]
  },
  {
   "cell_type": "code",
   "execution_count": null,
   "id": "eaf9f029",
   "metadata": {},
   "outputs": [],
   "source": [
    "# creating a 5x2 2d array"
   ]
  },
  {
   "cell_type": "code",
   "execution_count": null,
   "id": "dfcc0615",
   "metadata": {
    "id": "dfcc0615",
    "outputId": "42107b37-cc37-42fe-d1f2-7e825e1c3db2"
   },
   "outputs": [
    {
     "data": {
      "text/plain": [
       "array([[ 1,  2],\n",
       "       [ 3,  4],\n",
       "       [ 5,  6],\n",
       "       [ 7,  8],\n",
       "       [ 9, 10]])"
      ]
     },
     "execution_count": 21,
     "metadata": {},
     "output_type": "execute_result"
    }
   ],
   "source": [
    "b = np.arange(1,11).reshape(5,2)\n",
    "b"
   ]
  },
  {
   "cell_type": "code",
   "execution_count": null,
   "id": "68beea65",
   "metadata": {},
   "outputs": [],
   "source": [
    "#coverting the create array to complex type"
   ]
  },
  {
   "cell_type": "code",
   "execution_count": null,
   "id": "49b8953e",
   "metadata": {
    "id": "49b8953e",
    "outputId": "130c0127-2755-47f5-fb60-86b9c114b86d"
   },
   "outputs": [
    {
     "data": {
      "text/plain": [
       "array([[ 1.+0.j,  2.+0.j],\n",
       "       [ 3.+0.j,  4.+0.j],\n",
       "       [ 5.+0.j,  6.+0.j],\n",
       "       [ 7.+0.j,  8.+0.j],\n",
       "       [ 9.+0.j, 10.+0.j]])"
      ]
     },
     "execution_count": 23,
     "metadata": {},
     "output_type": "execute_result"
    }
   ],
   "source": [
    "c=b.astype(complex)\n",
    "c"
   ]
  },
  {
   "cell_type": "code",
   "execution_count": null,
   "id": "7c95e309",
   "metadata": {
    "id": "7c95e309"
   },
   "outputs": [],
   "source": [
    "a = x.astype(complex) #cnversionelements inside array of int to complex"
   ]
  },
  {
   "cell_type": "code",
   "execution_count": null,
   "id": "02c93b11",
   "metadata": {
    "id": "02c93b11",
    "outputId": "a7bf6a9a-6c6a-4e84-d225-c2477b64bf18"
   },
   "outputs": [
    {
     "data": {
      "text/plain": [
       "array([1.+0.j, 6.+0.j, 4.+0.j, 7.+0.j, 7.+0.j, 5.+0.j, 3.+0.j, 5.+0.j])"
      ]
     },
     "execution_count": 25,
     "metadata": {},
     "output_type": "execute_result"
    }
   ],
   "source": [
    "a"
   ]
  },
  {
   "cell_type": "code",
   "execution_count": null,
   "id": "73c7e082",
   "metadata": {
    "id": "73c7e082",
    "outputId": "ca0e6603-8183-4fff-f9a7-b04cc30f36f1"
   },
   "outputs": [
    {
     "data": {
      "text/plain": [
       "array([[0., 4., 5., 1., 4.],\n",
       "       [0., 2., 9., 3., 8.]])"
      ]
     },
     "execution_count": 26,
     "metadata": {},
     "output_type": "execute_result"
    }
   ],
   "source": [
    "b = y.astype(float)\n",
    "b"
   ]
  },
  {
   "cell_type": "code",
   "execution_count": null,
   "id": "69d2e4e3",
   "metadata": {
    "id": "69d2e4e3"
   },
   "outputs": [],
   "source": [
    "c = z.astype(str)"
   ]
  },
  {
   "cell_type": "code",
   "execution_count": null,
   "id": "27370c3b",
   "metadata": {
    "id": "27370c3b",
    "outputId": "4f6e737e-d631-4d24-fd80-c94eacdce934"
   },
   "outputs": [
    {
     "data": {
      "text/plain": [
       "array([[['4', '3'],\n",
       "        ['2', '7'],\n",
       "        ['5', '8']],\n",
       "\n",
       "       [['1', '2'],\n",
       "        ['4', '1'],\n",
       "        ['4', '3']]], dtype='<U11')"
      ]
     },
     "execution_count": 28,
     "metadata": {},
     "output_type": "execute_result"
    }
   ],
   "source": [
    "c"
   ]
  },
  {
   "cell_type": "code",
   "execution_count": null,
   "id": "bb0c2f56",
   "metadata": {
    "id": "bb0c2f56",
    "outputId": "f4d6d8ec-ea72-4f2f-df6a-5dd2f0132cd8"
   },
   "outputs": [
    {
     "data": {
      "text/plain": [
       "dtype('complex128')"
      ]
     },
     "execution_count": 30,
     "metadata": {},
     "output_type": "execute_result"
    }
   ],
   "source": [
    "a.dtype"
   ]
  },
  {
   "cell_type": "markdown",
   "id": "b6094de2",
   "metadata": {
    "id": "b6094de2"
   },
   "source": [
    "# array indexing"
   ]
  },
  {
   "cell_type": "code",
   "execution_count": 34,
   "id": "bc722bb7",
   "metadata": {
    "id": "bc722bb7"
   },
   "outputs": [
    {
     "data": {
      "text/plain": [
       "array([ 1,  2,  3,  4,  5,  6,  7,  8,  9, 10])"
      ]
     },
     "execution_count": 34,
     "metadata": {},
     "output_type": "execute_result"
    }
   ],
   "source": [
    "x = np.arange(1,11).reshape(10)\n",
    "x"
   ]
  },
  {
   "cell_type": "code",
   "execution_count": 36,
   "id": "a9906ddb",
   "metadata": {
    "id": "a9906ddb",
    "outputId": "ee79bf01-9875-4843-c718-74dc1aecc1b1"
   },
   "outputs": [
    {
     "name": "stdout",
     "output_type": "stream",
     "text": [
      "4\n",
      "10\n"
     ]
    }
   ],
   "source": [
    "print(x[3]) #we pick out the element at the third index position\n",
    "print(x[-1])"
   ]
  },
  {
   "cell_type": "code",
   "execution_count": null,
   "id": "7eef0bbe",
   "metadata": {},
   "outputs": [],
   "source": [
    "#creating an random matrix of 2x3 order"
   ]
  },
  {
   "cell_type": "code",
   "execution_count": 37,
   "id": "381a0744",
   "metadata": {
    "id": "381a0744"
   },
   "outputs": [
    {
     "data": {
      "text/plain": [
       "array([[6, 9, 3],\n",
       "       [6, 4, 1]])"
      ]
     },
     "execution_count": 37,
     "metadata": {},
     "output_type": "execute_result"
    }
   ],
   "source": [
    "y = np.random.randint(10,size=(2,3)) \n",
    "y"
   ]
  },
  {
   "cell_type": "code",
   "execution_count": null,
   "id": "62200690",
   "metadata": {
    "id": "62200690"
   },
   "outputs": [],
   "source": [
    "#array_name[second_row,second_element]"
   ]
  },
  {
   "cell_type": "code",
   "execution_count": null,
   "id": "6e74f67f",
   "metadata": {
    "id": "6e74f67f",
    "outputId": "9414a56e-a2a2-4439-e148-7904b272c640"
   },
   "outputs": [
    {
     "data": {
      "text/plain": [
       "2"
      ]
     },
     "execution_count": 46,
     "metadata": {},
     "output_type": "execute_result"
    }
   ],
   "source": [
    "y[1,1]  "
   ]
  },
  {
   "cell_type": "code",
   "execution_count": null,
   "id": "b1a9f3f7",
   "metadata": {},
   "outputs": [],
   "source": [
    "# creating a 3x2x3 array"
   ]
  },
  {
   "cell_type": "code",
   "execution_count": 38,
   "id": "c3c9dd05",
   "metadata": {
    "id": "c3c9dd05"
   },
   "outputs": [
    {
     "data": {
      "text/plain": [
       "array([[[3, 7, 4],\n",
       "        [9, 4, 2]],\n",
       "\n",
       "       [[6, 5, 1],\n",
       "        [9, 1, 1]],\n",
       "\n",
       "       [[3, 7, 6],\n",
       "        [2, 7, 1]]])"
      ]
     },
     "execution_count": 38,
     "metadata": {},
     "output_type": "execute_result"
    }
   ],
   "source": [
    "y = np.random.randint(10,size=(3,2,3))\n",
    "y"
   ]
  },
  {
   "cell_type": "code",
   "execution_count": null,
   "id": "7e4527d9",
   "metadata": {
    "id": "7e4527d9"
   },
   "outputs": [],
   "source": [
    "#array_mname[third_layer,first_row,Third_element]"
   ]
  },
  {
   "cell_type": "code",
   "execution_count": 39,
   "id": "994d567f",
   "metadata": {
    "id": "994d567f",
    "outputId": "9e6a1baa-c99e-4d12-d38c-2f3ba7cde560"
   },
   "outputs": [
    {
     "data": {
      "text/plain": [
       "6"
      ]
     },
     "execution_count": 39,
     "metadata": {},
     "output_type": "execute_result"
    }
   ],
   "source": [
    "y[2,0,2]"
   ]
  },
  {
   "cell_type": "code",
   "execution_count": 40,
   "id": "abeafd5b",
   "metadata": {},
   "outputs": [],
   "source": [
    "# creating a 4x3 array"
   ]
  },
  {
   "cell_type": "code",
   "execution_count": null,
   "id": "1a33a354",
   "metadata": {
    "id": "1a33a354",
    "outputId": "2446f993-6427-49a7-f2c0-31c148a9d079"
   },
   "outputs": [
    {
     "data": {
      "text/plain": [
       "array([[6, 8, 8],\n",
       "       [5, 0, 1],\n",
       "       [6, 2, 2],\n",
       "       [5, 5, 1]])"
      ]
     },
     "execution_count": 26,
     "metadata": {},
     "output_type": "execute_result"
    }
   ],
   "source": [
    "x = np.random.randint(10,size=(4,3))\n",
    "x"
   ]
  },
  {
   "cell_type": "code",
   "execution_count": null,
   "id": "f0143057",
   "metadata": {
    "id": "f0143057"
   },
   "outputs": [],
   "source": [
    "#array_name[Third_row,third_element]"
   ]
  },
  {
   "cell_type": "code",
   "execution_count": null,
   "id": "905d9ec3",
   "metadata": {
    "id": "905d9ec3",
    "outputId": "22ce930e-015b-46e1-bbbd-b62d0422da8a"
   },
   "outputs": [
    {
     "data": {
      "text/plain": [
       "2"
      ]
     },
     "execution_count": 28,
     "metadata": {},
     "output_type": "execute_result"
    }
   ],
   "source": [
    "x[2,2] #nums written inside are index numbers"
   ]
  },
  {
   "cell_type": "code",
   "execution_count": null,
   "id": "4d28325d",
   "metadata": {
    "id": "4d28325d"
   },
   "outputs": [],
   "source": [
    "#arrayname[Third_row,second element]"
   ]
  },
  {
   "cell_type": "code",
   "execution_count": null,
   "id": "213d80c2",
   "metadata": {
    "id": "213d80c2",
    "outputId": "fe4ca690-3a54-4e16-e4a1-4bf152815de3"
   },
   "outputs": [
    {
     "data": {
      "text/plain": [
       "2"
      ]
     },
     "execution_count": 30,
     "metadata": {},
     "output_type": "execute_result"
    }
   ],
   "source": [
    "x[2,1]"
   ]
  },
  {
   "cell_type": "code",
   "execution_count": null,
   "id": "bf284863",
   "metadata": {
    "id": "bf284863"
   },
   "outputs": [],
   "source": [
    "#arrayname[fourth_row,last_element]"
   ]
  },
  {
   "cell_type": "code",
   "execution_count": null,
   "id": "a06f17ac",
   "metadata": {
    "id": "a06f17ac",
    "outputId": "b6c5ea64-a75f-4937-9cde-57d3795b7236"
   },
   "outputs": [
    {
     "data": {
      "text/plain": [
       "1"
      ]
     },
     "execution_count": 31,
     "metadata": {},
     "output_type": "execute_result"
    }
   ],
   "source": [
    "x[3,-1]"
   ]
  },
  {
   "cell_type": "code",
   "execution_count": null,
   "id": "5adba6cb",
   "metadata": {
    "id": "5adba6cb"
   },
   "outputs": [],
   "source": [
    "#displaying third row completely\n",
    "#array_name[indexnum_Thirdrow]"
   ]
  },
  {
   "cell_type": "code",
   "execution_count": null,
   "id": "70db78b5",
   "metadata": {
    "id": "70db78b5",
    "outputId": "00fb71ac-a3ff-44e5-c219-b3b702e57ce2"
   },
   "outputs": [
    {
     "data": {
      "text/plain": [
       "array([5, 5, 6])"
      ]
     },
     "execution_count": 54,
     "metadata": {},
     "output_type": "execute_result"
    }
   ],
   "source": [
    "x[2]"
   ]
  },
  {
   "cell_type": "markdown",
   "id": "cd2c1353",
   "metadata": {
    "id": "cd2c1353"
   },
   "source": [
    "# slicing"
   ]
  },
  {
   "cell_type": "markdown",
   "id": "3b9e4423",
   "metadata": {
    "id": "3b9e4423"
   },
   "source": [
    " [1:10] in this or any slicing operation the 10th index position is not included\n",
    "The list will slice from 0,1,2,3,4,5,6,7,8,9"
   ]
  },
  {
   "cell_type": "code",
   "execution_count": null,
   "id": "19e2b9f9",
   "metadata": {
    "id": "19e2b9f9"
   },
   "outputs": [],
   "source": [
    "#creating a one dimension array"
   ]
  },
  {
   "cell_type": "code",
   "execution_count": 41,
   "id": "55596fa6",
   "metadata": {
    "id": "55596fa6",
    "outputId": "9e841690-dac7-4ec3-c251-a90d0b4f8bed"
   },
   "outputs": [
    {
     "data": {
      "text/plain": [
       "array([0, 9, 1, 6, 8, 2, 6])"
      ]
     },
     "execution_count": 41,
     "metadata": {},
     "output_type": "execute_result"
    }
   ],
   "source": [
    "x = np.random.randint(10,size=7)\n",
    "x"
   ]
  },
  {
   "cell_type": "code",
   "execution_count": 42,
   "id": "d0edc105",
   "metadata": {
    "id": "d0edc105"
   },
   "outputs": [
    {
     "data": {
      "text/plain": [
       "array([1, 6, 8, 2])"
      ]
     },
     "execution_count": 42,
     "metadata": {},
     "output_type": "execute_result"
    }
   ],
   "source": [
    "#arrayname[Third_element,last_element]\n",
    "x[2:-1]   #last index will not be selected"
   ]
  },
  {
   "cell_type": "code",
   "execution_count": 43,
   "id": "af6ac4a4",
   "metadata": {
    "id": "af6ac4a4"
   },
   "outputs": [
    {
     "data": {
      "text/plain": [
       "array([6, 8, 2, 6])"
      ]
     },
     "execution_count": 43,
     "metadata": {},
     "output_type": "execute_result"
    }
   ],
   "source": [
    "#array[fourth_element:last_element]\n",
    "x[3:]"
   ]
  },
  {
   "cell_type": "code",
   "execution_count": 44,
   "id": "83fffa85",
   "metadata": {
    "id": "83fffa85"
   },
   "outputs": [
    {
     "data": {
      "text/plain": [
       "array([0, 9, 1, 6, 8])"
      ]
     },
     "execution_count": 44,
     "metadata": {},
     "output_type": "execute_result"
    }
   ],
   "source": [
    "#array[first_element:fifth_element]\n",
    "x[:5]"
   ]
  },
  {
   "cell_type": "code",
   "execution_count": 45,
   "id": "140246ea",
   "metadata": {
    "id": "140246ea"
   },
   "outputs": [
    {
     "data": {
      "text/plain": [
       "array([[0, 0],\n",
       "       [3, 3]])"
      ]
     },
     "execution_count": 45,
     "metadata": {},
     "output_type": "execute_result"
    }
   ],
   "source": [
    "#used to display complete array\n",
    "a[:]\n"
   ]
  },
  {
   "cell_type": "code",
   "execution_count": 46,
   "id": "b385c751",
   "metadata": {
    "id": "b385c751",
    "outputId": "d48f3255-58f3-4389-9ce7-d4e0dfd7af72"
   },
   "outputs": [
    {
     "data": {
      "text/plain": [
       "array([[8, 2, 2],\n",
       "       [3, 3, 7],\n",
       "       [3, 8, 9],\n",
       "       [3, 8, 0]])"
      ]
     },
     "execution_count": 46,
     "metadata": {},
     "output_type": "execute_result"
    }
   ],
   "source": [
    "#creating a random array of 4x3\n",
    "y = np.random.randint(10,size=(4,3))\n",
    "y"
   ]
  },
  {
   "cell_type": "code",
   "execution_count": null,
   "id": "8258ef1b",
   "metadata": {
    "id": "8258ef1b",
    "outputId": "132d64de-62e8-4230-be74-45cc1a1e041d"
   },
   "outputs": [
    {
     "data": {
      "text/plain": [
       "array([[1, 9, 5],\n",
       "       [0, 9, 4]])"
      ]
     },
     "execution_count": 81,
     "metadata": {},
     "output_type": "execute_result"
    }
   ],
   "source": [
    "y[2:]"
   ]
  },
  {
   "cell_type": "code",
   "execution_count": 47,
   "id": "3b86a36d",
   "metadata": {
    "id": "3b86a36d"
   },
   "outputs": [
    {
     "data": {
      "text/plain": [
       "array([[8, 9],\n",
       "       [8, 0]])"
      ]
     },
     "execution_count": 47,
     "metadata": {},
     "output_type": "execute_result"
    }
   ],
   "source": [
    "#array[secondrow:lastrow,second_column:last_column]\n",
    "#here we sliced the rows first and then sliced the columns\n",
    "y[2:,1:]"
   ]
  },
  {
   "cell_type": "code",
   "execution_count": 48,
   "id": "755e70a3",
   "metadata": {
    "id": "755e70a3"
   },
   "outputs": [
    {
     "data": {
      "text/plain": [
       "array([[3, 8],\n",
       "       [3, 8]])"
      ]
     },
     "execution_count": 48,
     "metadata": {},
     "output_type": "execute_result"
    }
   ],
   "source": [
    "#array[Third_row:last_row,first_column_element:second_column_element]\n",
    "y[2:,0:2]"
   ]
  },
  {
   "cell_type": "code",
   "execution_count": null,
   "id": "dd573819",
   "metadata": {
    "id": "dd573819"
   },
   "outputs": [],
   "source": [
    "#array[full_array,second_column]\n",
    "y[:,1]"
   ]
  },
  {
   "cell_type": "code",
   "execution_count": null,
   "id": "1ba96a50",
   "metadata": {
    "id": "1ba96a50"
   },
   "outputs": [],
   "source": [
    "#array[3rd_row]\n",
    "y[2]"
   ]
  },
  {
   "cell_type": "markdown",
   "id": "e469649c",
   "metadata": {
    "id": "e469649c"
   },
   "source": [
    "# slicing and indexing"
   ]
  },
  {
   "cell_type": "code",
   "execution_count": 50,
   "id": "c6100977",
   "metadata": {
    "id": "c6100977"
   },
   "outputs": [
    {
     "data": {
      "text/plain": [
       "array([[[3, 8, 8],\n",
       "        [9, 6, 7],\n",
       "        [1, 6, 3]],\n",
       "\n",
       "       [[8, 4, 9],\n",
       "        [4, 0, 0],\n",
       "        [3, 2, 5]]])"
      ]
     },
     "execution_count": 50,
     "metadata": {},
     "output_type": "execute_result"
    }
   ],
   "source": [
    "#creating a 3 dimension matrix\n",
    "x = np.random.randint(10,size=(2,3,3))\n",
    "x"
   ]
  },
  {
   "cell_type": "code",
   "execution_count": 51,
   "id": "a6fe6bd6",
   "metadata": {
    "id": "a6fe6bd6"
   },
   "outputs": [
    {
     "data": {
      "text/plain": [
       "0"
      ]
     },
     "execution_count": 51,
     "metadata": {},
     "output_type": "execute_result"
    }
   ],
   "source": [
    "#array[second_layer,second_row,thrd_element]\n",
    "x[1,1,2]"
   ]
  },
  {
   "cell_type": "code",
   "execution_count": null,
   "id": "858f7709",
   "metadata": {
    "id": "858f7709"
   },
   "outputs": [],
   "source": [
    "#array[first_layer,second_row,first_element]\n",
    "x[0,1,1]"
   ]
  },
  {
   "cell_type": "code",
   "execution_count": 52,
   "id": "1d885016",
   "metadata": {
    "id": "1d885016"
   },
   "outputs": [
    {
     "data": {
      "text/plain": [
       "array([[[1, 0, 3],\n",
       "        [8, 6, 4],\n",
       "        [8, 4, 8]],\n",
       "\n",
       "       [[0, 9, 0],\n",
       "        [3, 2, 8],\n",
       "        [4, 1, 7]],\n",
       "\n",
       "       [[8, 4, 9],\n",
       "        [3, 6, 7],\n",
       "        [4, 1, 1]]])"
      ]
     },
     "execution_count": 52,
     "metadata": {},
     "output_type": "execute_result"
    }
   ],
   "source": [
    "# creating a random array 3x3x3\n",
    "import numpy as np\n",
    "x = np.random.randint(10,size=(3,3,3))\n",
    "x"
   ]
  },
  {
   "cell_type": "code",
   "execution_count": 53,
   "id": "5a62af6a",
   "metadata": {
    "id": "5a62af6a"
   },
   "outputs": [
    {
     "data": {
      "text/plain": [
       "array([9, 2, 1])"
      ]
     },
     "execution_count": 53,
     "metadata": {},
     "output_type": "execute_result"
    }
   ],
   "source": [
    "#array[first_layer,complete_first_array,second_element_or_column]\n",
    "x[1,:,1]"
   ]
  },
  {
   "cell_type": "code",
   "execution_count": 54,
   "id": "aee44221",
   "metadata": {
    "id": "aee44221"
   },
   "outputs": [
    {
     "data": {
      "text/plain": [
       "array([[6, 7],\n",
       "       [1, 1]])"
      ]
     },
     "execution_count": 54,
     "metadata": {},
     "output_type": "execute_result"
    }
   ],
   "source": [
    "#array[third_layer,second_row:last_row,second_column:last_column]\n",
    "x[2,1:,1:]"
   ]
  },
  {
   "cell_type": "code",
   "execution_count": 55,
   "id": "0d76981f",
   "metadata": {
    "id": "0d76981f"
   },
   "outputs": [
    {
     "data": {
      "text/plain": [
       "array([[8, 4, 9],\n",
       "       [3, 6, 7],\n",
       "       [4, 1, 1]])"
      ]
     },
     "execution_count": 55,
     "metadata": {},
     "output_type": "execute_result"
    }
   ],
   "source": [
    "#to display the second layer\n",
    "#array[layer_index_number]\n",
    "x[2]"
   ]
  },
  {
   "cell_type": "code",
   "execution_count": 57,
   "id": "12a148c5",
   "metadata": {
    "id": "12a148c5"
   },
   "outputs": [
    {
     "data": {
      "text/plain": [
       "array([[2, 7, 8],\n",
       "       [7, 4, 9],\n",
       "       [0, 9, 8]])"
      ]
     },
     "execution_count": 57,
     "metadata": {},
     "output_type": "execute_result"
    }
   ],
   "source": [
    "#creating a random 3x3 array\n",
    "x=np.random.randint(10,size=(3,3))\n",
    "x"
   ]
  },
  {
   "cell_type": "markdown",
   "id": "8f9bceb9",
   "metadata": {},
   "source": [
    "<span class=\"mark\">x[ [ rowa , rowb ],[ cola , colb ] ]</span>  2 values\n",
    "\n",
    "<span class=\"mark\">x[ [rowa, rowb , rowc ],[cola , colb , colc ] ]</span>  3 values\n",
    "\n",
    "used for indexing multiple values"
   ]
  },
  {
   "cell_type": "code",
   "execution_count": 58,
   "id": "c9fb3eec",
   "metadata": {
    "id": "c9fb3eec",
    "outputId": "c3618f4b-7685-4a3f-d262-1a8e457943ca"
   },
   "outputs": [
    {
     "data": {
      "text/plain": [
       "array([8, 0])"
      ]
     },
     "execution_count": 58,
     "metadata": {},
     "output_type": "execute_result"
    }
   ],
   "source": [
    "x[[0,-1],[2,0]]"
   ]
  },
  {
   "cell_type": "code",
   "execution_count": 60,
   "id": "85543539",
   "metadata": {
    "id": "85543539",
    "outputId": "071facd1-ab93-4bc9-89a9-c639d3a12edb"
   },
   "outputs": [
    {
     "data": {
      "text/plain": [
       "array([7, 4, 8])"
      ]
     },
     "execution_count": 60,
     "metadata": {},
     "output_type": "execute_result"
    }
   ],
   "source": [
    "#or\n",
    "x[[1,1,2],[0,1,2]]   #for indexing 3 values"
   ]
  },
  {
   "cell_type": "code",
   "execution_count": null,
   "id": "e3167f26",
   "metadata": {
    "id": "e3167f26",
    "outputId": "274f68e2-ee02-4ce6-b57c-e4cdf243cd8d"
   },
   "outputs": [
    {
     "data": {
      "text/plain": [
       "array([2, 9])"
      ]
     },
     "execution_count": 20,
     "metadata": {},
     "output_type": "execute_result"
    }
   ],
   "source": [
    "x[[1,0],[0,2]]"
   ]
  },
  {
   "cell_type": "code",
   "execution_count": null,
   "id": "f3b2fb35",
   "metadata": {
    "id": "f3b2fb35",
    "outputId": "3723243f-39de-45fd-b2a8-35ae93c5ee07"
   },
   "outputs": [
    {
     "data": {
      "text/plain": [
       "array([9, 9])"
      ]
     },
     "execution_count": 22,
     "metadata": {},
     "output_type": "execute_result"
    }
   ],
   "source": [
    "x[[0,0],[2,1]]  #first box column #second box row"
   ]
  },
  {
   "cell_type": "markdown",
   "id": "0dcec115",
   "metadata": {
    "id": "0dcec115"
   },
   "source": [
    "### reversed indexing"
   ]
  },
  {
   "cell_type": "markdown",
   "id": "16fff71c",
   "metadata": {
    "id": "19636a4f"
   },
   "source": [
    "#the first and the second rows got interchanged when reversed"
   ]
  },
  {
   "cell_type": "code",
   "execution_count": 13,
   "id": "262b9ccf",
   "metadata": {
    "id": "262b9ccf",
    "outputId": "3ab16381-8db1-4957-a2e0-4ea6ea627726"
   },
   "outputs": [
    {
     "data": {
      "text/plain": [
       "array([[91,  2,  3],\n",
       "       [ 2,  3,  4]])"
      ]
     },
     "execution_count": 13,
     "metadata": {},
     "output_type": "execute_result"
    }
   ],
   "source": [
    "import numpy as ne\n",
    "x = ne.array([[91,2,3,],[2,3,4,]])\n",
    "x"
   ]
  },
  {
   "cell_type": "code",
   "execution_count": 14,
   "id": "83337927",
   "metadata": {
    "id": "83337927",
    "outputId": "29737d12-bf4d-41a2-8620-2f0e5e94f651"
   },
   "outputs": [
    {
     "data": {
      "text/plain": [
       "array([[ 2,  3,  4],\n",
       "       [91,  2,  3]])"
      ]
     },
     "execution_count": 14,
     "metadata": {},
     "output_type": "execute_result"
    }
   ],
   "source": [
    "x[::-1]"
   ]
  },
  {
   "cell_type": "markdown",
   "id": "c4f4625b",
   "metadata": {
    "id": "c4f4625b"
   },
   "source": [
    "### Boolean indexing"
   ]
  },
  {
   "cell_type": "code",
   "execution_count": 62,
   "id": "b7014370",
   "metadata": {
    "id": "b7014370",
    "outputId": "33729a18-3fea-4cd8-d613-1b4de51e3d67"
   },
   "outputs": [
    {
     "data": {
      "text/plain": [
       "array([[[1, 2, 3, 4],\n",
       "        [5, 6, 7, 8]],\n",
       "\n",
       "       [[1, 3, 5, 7],\n",
       "        [2, 4, 6, 8]],\n",
       "\n",
       "       [[1, 2, 3, 4],\n",
       "        [4, 5, 6, 7]]])"
      ]
     },
     "execution_count": 62,
     "metadata": {},
     "output_type": "execute_result"
    }
   ],
   "source": [
    "#created the array of (3,2,4)\n",
    "import numpy as np\n",
    "\n",
    "x= np.array([[[1,2,3,4],[5,6,7,8]],[[1,3,5,7],[2,4,6,8]],[[1,2,3,4],[4,5,6,7]]])\n",
    "x"
   ]
  },
  {
   "cell_type": "code",
   "execution_count": 63,
   "id": "13c078dc",
   "metadata": {
    "id": "13c078dc"
   },
   "outputs": [
    {
     "data": {
      "text/plain": [
       "array([[[False, False, False,  True],\n",
       "        [ True,  True,  True,  True]],\n",
       "\n",
       "       [[False, False,  True,  True],\n",
       "        [False,  True,  True,  True]],\n",
       "\n",
       "       [[False, False, False,  True],\n",
       "        [ True,  True,  True,  True]]])"
      ]
     },
     "execution_count": 63,
     "metadata": {},
     "output_type": "execute_result"
    }
   ],
   "source": [
    "d=x>3 #passing the condition through the created array\n",
    "d"
   ]
  },
  {
   "cell_type": "code",
   "execution_count": null,
   "id": "180163b2",
   "metadata": {
    "id": "180163b2",
    "outputId": "b8328045-4e4f-4503-823b-89c2ba7deb3c"
   },
   "outputs": [
    {
     "data": {
      "text/plain": [
       "'If the condition satisfies then the out will be returen true throgh the elements that satisfies\\nthe condition'"
      ]
     },
     "execution_count": 17,
     "metadata": {},
     "output_type": "execute_result"
    }
   ],
   "source": [
    "'''If the condition satisfies then the out will be return true throgh the elements that satisfies\n",
    "the condition'''"
   ]
  },
  {
   "cell_type": "code",
   "execution_count": 64,
   "id": "63ef7caa",
   "metadata": {
    "id": "63ef7caa"
   },
   "outputs": [
    {
     "data": {
      "text/plain": [
       "array([[[False, False,  True, False],\n",
       "        [False, False, False, False]],\n",
       "\n",
       "       [[False,  True, False, False],\n",
       "        [False, False, False, False]],\n",
       "\n",
       "       [[False, False,  True, False],\n",
       "        [False, False, False, False]]])"
      ]
     },
     "execution_count": 64,
     "metadata": {},
     "output_type": "execute_result"
    }
   ],
   "source": [
    "d= x==3 #will retuen true whereever in the array that satisfies the condition\n",
    "d"
   ]
  },
  {
   "cell_type": "markdown",
   "id": "902ff2be",
   "metadata": {
    "id": "902ff2be"
   },
   "source": [
    "### Fancy indexing"
   ]
  },
  {
   "cell_type": "markdown",
   "id": "dd53bc9e",
   "metadata": {},
   "source": [
    "<span class=\"mark\">x[ [ rowa , rowb ],[ cola , colb ] ]</span>  2 values\n",
    "\n",
    "<span class=\"mark\">x[ [rowa, rowb , rowc ],[cola , colb , colc ] ]</span>  3 values\n",
    "\n",
    "<span class=\"mark\">x[ [ dima, dimb, dimc] , [ rowa, rowb , rowc ] , [cola , colb , colc ] ]</span> 3d\n",
    "\n",
    "used for indexing multiple values"
   ]
  },
  {
   "cell_type": "code",
   "execution_count": null,
   "id": "112ba82f",
   "metadata": {
    "id": "112ba82f"
   },
   "outputs": [],
   "source": [
    "# creating an array of 3x3"
   ]
  },
  {
   "cell_type": "code",
   "execution_count": 15,
   "id": "34e61fbb",
   "metadata": {
    "id": "34e61fbb"
   },
   "outputs": [],
   "source": [
    "x = np.random.randint(10,high=50,size=(3,3))"
   ]
  },
  {
   "cell_type": "code",
   "execution_count": 16,
   "id": "0cfa2887",
   "metadata": {
    "id": "0cfa2887",
    "outputId": "e9dfd4e4-54e1-4125-fc1a-bee2486a0b66"
   },
   "outputs": [
    {
     "data": {
      "text/plain": [
       "array([[45, 41, 37],\n",
       "       [24, 16, 25],\n",
       "       [34, 22, 20]])"
      ]
     },
     "execution_count": 16,
     "metadata": {},
     "output_type": "execute_result"
    }
   ],
   "source": [
    "x"
   ]
  },
  {
   "cell_type": "code",
   "execution_count": 17,
   "id": "7298c05a",
   "metadata": {
    "id": "7298c05a",
    "outputId": "ae9338d7-1ced-4c77-bb37-bc8ac5b20f18"
   },
   "outputs": [
    {
     "data": {
      "text/plain": [
       "array([24, 22])"
      ]
     },
     "execution_count": 17,
     "metadata": {},
     "output_type": "execute_result"
    }
   ],
   "source": [
    "x[[1,2],[0,1]]             #firsr bracket==row second bracket==column"
   ]
  },
  {
   "cell_type": "code",
   "execution_count": null,
   "id": "2c12c91a",
   "metadata": {
    "id": "2c12c91a"
   },
   "outputs": [],
   "source": [
    "#to find 3 different"
   ]
  },
  {
   "cell_type": "code",
   "execution_count": null,
   "id": "39ed4fe9",
   "metadata": {
    "id": "39ed4fe9",
    "outputId": "c6b52d8b-e32c-4497-a0ad-8676b39d2d8c"
   },
   "outputs": [
    {
     "data": {
      "text/plain": [
       "array([30, 11, 22])"
      ]
     },
     "execution_count": 26,
     "metadata": {},
     "output_type": "execute_result"
    }
   ],
   "source": [
    "x[[1,0,2],[1,2,0]]"
   ]
  },
  {
   "cell_type": "code",
   "execution_count": null,
   "id": "ee38c695",
   "metadata": {
    "id": "ee38c695"
   },
   "outputs": [],
   "source": [
    "#creating a 2x3x3 array\n",
    "x= np.array([[[1,2,3],[5,6,7],[1,2,3]],[[1,3,5],[2,4,6],[1,2,3]]])"
   ]
  },
  {
   "cell_type": "code",
   "execution_count": null,
   "id": "4a590a81",
   "metadata": {
    "id": "4a590a81",
    "outputId": "a8409d6a-eafe-44d5-e28c-8abae18d94cb"
   },
   "outputs": [
    {
     "data": {
      "text/plain": [
       "array([[[1, 2, 3],\n",
       "        [5, 6, 7],\n",
       "        [1, 2, 3]],\n",
       "\n",
       "       [[1, 3, 5],\n",
       "        [2, 4, 6],\n",
       "        [1, 2, 3]]])"
      ]
     },
     "execution_count": 29,
     "metadata": {},
     "output_type": "execute_result"
    }
   ],
   "source": [
    "x"
   ]
  },
  {
   "cell_type": "code",
   "execution_count": null,
   "id": "fed26f9a",
   "metadata": {
    "id": "fed26f9a"
   },
   "outputs": [],
   "source": [
    "# select 1,7,3,2,4,5,2,1"
   ]
  },
  {
   "cell_type": "code",
   "execution_count": null,
   "id": "3a54d1f9",
   "metadata": {
    "id": "3a54d1f9",
    "outputId": "0a8a5afb-34a9-4031-acdc-961a4a868c64"
   },
   "outputs": [
    {
     "data": {
      "text/plain": [
       "array([1, 7, 3, 2, 4, 5, 2, 1])"
      ]
     },
     "execution_count": 31,
     "metadata": {},
     "output_type": "execute_result"
    }
   ],
   "source": [
    "x[[0,0,0,0,1,1,1,1],[0,1,2,2,1,0,2,2],[0,2,2,1,1,2,1,0]]"
   ]
  },
  {
   "cell_type": "markdown",
   "id": "5b851e86",
   "metadata": {
    "id": "5b851e86"
   },
   "source": [
    "### sorting"
   ]
  },
  {
   "cell_type": "code",
   "execution_count": null,
   "id": "64c806fe",
   "metadata": {
    "id": "64c806fe"
   },
   "outputs": [],
   "source": [
    "#to arrange in ascending order of row"
   ]
  },
  {
   "cell_type": "code",
   "execution_count": null,
   "id": "53e86559",
   "metadata": {
    "id": "53e86559"
   },
   "outputs": [],
   "source": [
    "x = np.random.randint(10,high=50,size=10)"
   ]
  },
  {
   "cell_type": "code",
   "execution_count": null,
   "id": "2aa41fce",
   "metadata": {
    "id": "2aa41fce",
    "outputId": "ff6b5d78-5e6b-47e5-a5cd-f336f85e4176"
   },
   "outputs": [
    {
     "data": {
      "text/plain": [
       "array([10, 14, 44, 35, 37, 12, 35, 13, 15, 23])"
      ]
     },
     "execution_count": 34,
     "metadata": {},
     "output_type": "execute_result"
    }
   ],
   "source": [
    "x #before sorting"
   ]
  },
  {
   "cell_type": "code",
   "execution_count": null,
   "id": "aaceef44",
   "metadata": {
    "id": "aaceef44"
   },
   "outputs": [],
   "source": [
    "x.sort()"
   ]
  },
  {
   "cell_type": "code",
   "execution_count": null,
   "id": "c91df480",
   "metadata": {
    "id": "c91df480",
    "outputId": "5c21508b-4b85-4665-ecaa-4ed4dcc71082"
   },
   "outputs": [
    {
     "data": {
      "text/plain": [
       "array([10, 12, 13, 14, 15, 23, 35, 35, 37, 44])"
      ]
     },
     "execution_count": 36,
     "metadata": {},
     "output_type": "execute_result"
    }
   ],
   "source": [
    "x  #after sorting"
   ]
  },
  {
   "cell_type": "code",
   "execution_count": null,
   "id": "e82a5ad7",
   "metadata": {
    "id": "e82a5ad7"
   },
   "outputs": [],
   "source": [
    "#for the descending sort we have to reverse the sorted array"
   ]
  },
  {
   "cell_type": "code",
   "execution_count": null,
   "id": "2f288c66",
   "metadata": {
    "id": "2f288c66",
    "outputId": "304b510f-684c-4010-da5c-7778ab785f8c"
   },
   "outputs": [
    {
     "data": {
      "text/plain": [
       "array([44, 37, 35, 35, 23, 15, 14, 13, 12, 10])"
      ]
     },
     "execution_count": 41,
     "metadata": {},
     "output_type": "execute_result"
    }
   ],
   "source": [
    "x[::-1]    #sorted the array in desc oredr"
   ]
  },
  {
   "cell_type": "code",
   "execution_count": null,
   "id": "1db2f5f6",
   "metadata": {
    "id": "1db2f5f6"
   },
   "outputs": [],
   "source": [
    "#creating a 2x3 array and sorting the same"
   ]
  },
  {
   "cell_type": "code",
   "execution_count": 18,
   "id": "7c2f0bdd",
   "metadata": {
    "id": "7c2f0bdd"
   },
   "outputs": [],
   "source": [
    "x= np.array([[5,1,3],[2,1,4]])"
   ]
  },
  {
   "cell_type": "code",
   "execution_count": 19,
   "id": "b4d7855a",
   "metadata": {
    "id": "b4d7855a",
    "outputId": "953ad20e-3401-4df2-f54f-7980a41954e0"
   },
   "outputs": [
    {
     "data": {
      "text/plain": [
       "array([[5, 1, 3],\n",
       "       [2, 1, 4]])"
      ]
     },
     "execution_count": 19,
     "metadata": {},
     "output_type": "execute_result"
    }
   ],
   "source": [
    "x"
   ]
  },
  {
   "cell_type": "code",
   "execution_count": 20,
   "id": "b6736707",
   "metadata": {
    "id": "b6736707"
   },
   "outputs": [],
   "source": [
    "x.sort()"
   ]
  },
  {
   "cell_type": "code",
   "execution_count": 21,
   "id": "623ccf6e",
   "metadata": {
    "id": "623ccf6e",
    "outputId": "0f7c1c1d-4267-405f-8707-612647960935"
   },
   "outputs": [
    {
     "data": {
      "text/plain": [
       "array([[1, 3, 5],\n",
       "       [1, 2, 4]])"
      ]
     },
     "execution_count": 21,
     "metadata": {},
     "output_type": "execute_result"
    }
   ],
   "source": [
    "x #sorting will take place in each rows"
   ]
  },
  {
   "cell_type": "markdown",
   "id": "81e946a5",
   "metadata": {
    "id": "06f1c826"
   },
   "source": [
    "##### column sorting"
   ]
  },
  {
   "cell_type": "markdown",
   "id": "5bbaca3d",
   "metadata": {},
   "source": [
    "<span class=\"burk\">for sort column wise, axis = 0</span>"
   ]
  },
  {
   "cell_type": "code",
   "execution_count": null,
   "id": "e678c2c9",
   "metadata": {
    "id": "e678c2c9"
   },
   "outputs": [],
   "source": [
    "x.sort(axis=0)    #colum sort orders the element in asc order of the column"
   ]
  },
  {
   "cell_type": "code",
   "execution_count": null,
   "id": "d7548204",
   "metadata": {
    "id": "d7548204",
    "outputId": "0a6c99f6-a23b-4add-f0b3-735b65c085b1"
   },
   "outputs": [
    {
     "data": {
      "text/plain": [
       "array([[2, 1, 3],\n",
       "       [5, 1, 4]])"
      ]
     },
     "execution_count": 72,
     "metadata": {},
     "output_type": "execute_result"
    }
   ],
   "source": [
    "x"
   ]
  },
  {
   "cell_type": "code",
   "execution_count": null,
   "id": "0f3d77fd",
   "metadata": {
    "id": "0f3d77fd"
   },
   "outputs": [],
   "source": [
    "x.sort(axis=1)  #row sorting =  x.sort() this is default"
   ]
  },
  {
   "cell_type": "code",
   "execution_count": null,
   "id": "dca9b71e",
   "metadata": {
    "id": "dca9b71e",
    "outputId": "91902f0f-5f7a-4766-f6c7-8ff800ae9aa2"
   },
   "outputs": [
    {
     "data": {
      "text/plain": [
       "array([[1, 3, 5],\n",
       "       [1, 2, 4]])"
      ]
     },
     "execution_count": 75,
     "metadata": {},
     "output_type": "execute_result"
    }
   ],
   "source": [
    "x"
   ]
  },
  {
   "cell_type": "code",
   "execution_count": null,
   "id": "4a7d9d43",
   "metadata": {
    "id": "4a7d9d43"
   },
   "outputs": [],
   "source": [
    "#sorting of a 3x4 array"
   ]
  },
  {
   "cell_type": "code",
   "execution_count": null,
   "id": "f5cd2f40",
   "metadata": {
    "id": "f5cd2f40"
   },
   "outputs": [],
   "source": [
    "x= np.array([[5,1,3,4],[2,1,4,3],[7,3,8,6]])"
   ]
  },
  {
   "cell_type": "code",
   "execution_count": null,
   "id": "f4865cf8",
   "metadata": {
    "id": "f4865cf8",
    "outputId": "2f9c59b8-c694-4df5-d7d0-e7838737106b"
   },
   "outputs": [
    {
     "data": {
      "text/plain": [
       "array([[5, 1, 3, 4],\n",
       "       [2, 1, 4, 3],\n",
       "       [7, 3, 8, 6]])"
      ]
     },
     "execution_count": 86,
     "metadata": {},
     "output_type": "execute_result"
    }
   ],
   "source": [
    "x"
   ]
  },
  {
   "cell_type": "code",
   "execution_count": null,
   "id": "d4bc7e3b",
   "metadata": {
    "id": "d4bc7e3b"
   },
   "outputs": [],
   "source": [
    "x.sort(axis=1)"
   ]
  },
  {
   "cell_type": "markdown",
   "id": "31cb336a",
   "metadata": {
    "id": "d7e9780f",
    "outputId": "2b05a69c-271a-4624-f04b-f34397c7b608"
   },
   "source": [
    "##### x  #row sorting"
   ]
  },
  {
   "cell_type": "code",
   "execution_count": null,
   "id": "2fe93e06",
   "metadata": {
    "id": "2fe93e06"
   },
   "outputs": [],
   "source": [
    "#re running the array x created to default the sort"
   ]
  },
  {
   "cell_type": "code",
   "execution_count": null,
   "id": "67644e7a",
   "metadata": {
    "id": "67644e7a",
    "outputId": "43977403-8f95-45e2-9e54-91dc866a9424"
   },
   "outputs": [
    {
     "data": {
      "text/plain": [
       "array([[5, 1, 3, 4],\n",
       "       [2, 1, 4, 3],\n",
       "       [7, 3, 8, 6]])"
      ]
     },
     "execution_count": 98,
     "metadata": {},
     "output_type": "execute_result"
    }
   ],
   "source": [
    "x   #to save the chages we have to save it to a var"
   ]
  },
  {
   "cell_type": "code",
   "execution_count": null,
   "id": "9822432d",
   "metadata": {
    "id": "9822432d"
   },
   "outputs": [],
   "source": [
    "x.sort(axis=0)"
   ]
  },
  {
   "cell_type": "code",
   "execution_count": null,
   "id": "a1366bc9",
   "metadata": {
    "id": "a1366bc9",
    "outputId": "27ca188b-89b5-490f-feac-902fbdae5298"
   },
   "outputs": [
    {
     "data": {
      "text/plain": [
       "array([[2, 1, 3, 3],\n",
       "       [5, 1, 4, 4],\n",
       "       [7, 3, 8, 6]])"
      ]
     },
     "execution_count": 93,
     "metadata": {},
     "output_type": "execute_result"
    }
   ],
   "source": [
    "x"
   ]
  },
  {
   "cell_type": "code",
   "execution_count": null,
   "id": "c42dd7f2",
   "metadata": {
    "id": "c42dd7f2"
   },
   "outputs": [],
   "source": [
    "#creating a 3 dimensin array"
   ]
  },
  {
   "cell_type": "code",
   "execution_count": 22,
   "id": "83f313a1",
   "metadata": {
    "id": "83f313a1"
   },
   "outputs": [],
   "source": [
    "x = np.array([[[20,5, 45, 40], [10, 4, 33, 30]],[[12, 5, 2, 13], [21, 19, 20, 7]]])"
   ]
  },
  {
   "cell_type": "code",
   "execution_count": 23,
   "id": "182f9502",
   "metadata": {
    "id": "182f9502",
    "outputId": "9d27837c-7476-4566-e856-c295c8a04716"
   },
   "outputs": [
    {
     "data": {
      "text/plain": [
       "array([[[20,  5, 45, 40],\n",
       "        [10,  4, 33, 30]],\n",
       "\n",
       "       [[12,  5,  2, 13],\n",
       "        [21, 19, 20,  7]]])"
      ]
     },
     "execution_count": 23,
     "metadata": {},
     "output_type": "execute_result"
    }
   ],
   "source": [
    "x"
   ]
  },
  {
   "cell_type": "code",
   "execution_count": 24,
   "id": "95344d1d",
   "metadata": {
    "id": "95344d1d"
   },
   "outputs": [],
   "source": [
    "#row sorting"
   ]
  },
  {
   "cell_type": "code",
   "execution_count": 25,
   "id": "9f7ce3a9",
   "metadata": {
    "id": "9f7ce3a9"
   },
   "outputs": [],
   "source": [
    "x.sort()"
   ]
  },
  {
   "cell_type": "code",
   "execution_count": 26,
   "id": "f7f74ce5",
   "metadata": {
    "id": "f7f74ce5",
    "outputId": "1b01eeee-eb85-4372-893c-06c1b55dfdd7"
   },
   "outputs": [
    {
     "data": {
      "text/plain": [
       "array([[[ 5, 20, 40, 45],\n",
       "        [ 4, 10, 30, 33]],\n",
       "\n",
       "       [[ 2,  5, 12, 13],\n",
       "        [ 7, 19, 20, 21]]])"
      ]
     },
     "execution_count": 26,
     "metadata": {},
     "output_type": "execute_result"
    }
   ],
   "source": [
    "x"
   ]
  },
  {
   "cell_type": "code",
   "execution_count": null,
   "id": "9ece0016",
   "metadata": {
    "id": "9ece0016"
   },
   "outputs": [],
   "source": [
    "#column sorting"
   ]
  },
  {
   "cell_type": "code",
   "execution_count": null,
   "id": "fd5da7d4",
   "metadata": {
    "id": "fd5da7d4",
    "outputId": "33bd2717-2207-495b-fa6e-d8516a2243ae"
   },
   "outputs": [
    {
     "data": {
      "text/plain": [
       "array([[[20,  5, 45, 40],\n",
       "        [10,  4, 33, 30]],\n",
       "\n",
       "       [[12,  5,  2, 13],\n",
       "        [21, 19, 20,  7]]])"
      ]
     },
     "execution_count": 124,
     "metadata": {},
     "output_type": "execute_result"
    }
   ],
   "source": [
    "x"
   ]
  },
  {
   "cell_type": "markdown",
   "id": "08f31d30",
   "metadata": {},
   "source": [
    "<span class=\"mark\">in 3 dimension array axis=1 is column sort where as in 2d it is row sort remember</span>"
   ]
  },
  {
   "cell_type": "code",
   "execution_count": null,
   "id": "7bc01c1e",
   "metadata": {
    "id": "7bc01c1e"
   },
   "outputs": [],
   "source": [
    "x.sort(axis=1)   "
   ]
  },
  {
   "cell_type": "code",
   "execution_count": null,
   "id": "0cb53bff",
   "metadata": {
    "id": "0cb53bff",
    "outputId": "7454ad02-40d0-4991-fd5e-4fb2a15cf66e"
   },
   "outputs": [
    {
     "data": {
      "text/plain": [
       "array([[[10,  4, 33, 30],\n",
       "        [20,  5, 45, 40]],\n",
       "\n",
       "       [[12,  5,  2,  7],\n",
       "        [21, 19, 20, 13]]])"
      ]
     },
     "execution_count": 121,
     "metadata": {},
     "output_type": "execute_result"
    }
   ],
   "source": [
    "x"
   ]
  },
  {
   "cell_type": "markdown",
   "id": "08042e65",
   "metadata": {
    "id": "410cc39f"
   },
   "source": [
    "##### dimension sort"
   ]
  },
  {
   "cell_type": "code",
   "execution_count": null,
   "id": "ddbed6ea",
   "metadata": {
    "id": "ddbed6ea",
    "outputId": "cfef3156-54d2-4f67-b3d6-16cd55fa411b"
   },
   "outputs": [
    {
     "data": {
      "text/plain": [
       "array([[[20,  5, 45, 40],\n",
       "        [10,  4, 33, 30]],\n",
       "\n",
       "       [[12,  5,  2, 13],\n",
       "        [21, 19, 20,  7]]])"
      ]
     },
     "execution_count": 128,
     "metadata": {},
     "output_type": "execute_result"
    }
   ],
   "source": [
    "x"
   ]
  },
  {
   "cell_type": "code",
   "execution_count": null,
   "id": "85891cc4",
   "metadata": {
    "id": "85891cc4"
   },
   "outputs": [],
   "source": [
    "''' in a 3 dimension array\n",
    "The first row is above the third row\n",
    "second row above the fourth row'''"
   ]
  },
  {
   "cell_type": "code",
   "execution_count": null,
   "id": "aecdeee0",
   "metadata": {
    "id": "aecdeee0",
    "outputId": "4e7874b3-37bb-42f1-9a6b-4a3db97d2159"
   },
   "outputs": [
    {
     "data": {
      "text/plain": [
       "'The dimension sort arranges the element in the first row and third row column vise\\nand similar goes to second and fourth'"
      ]
     },
     "execution_count": 131,
     "metadata": {},
     "output_type": "execute_result"
    }
   ],
   "source": [
    "'''The dimension sort arranges the element in the first row and third row column vise\n",
    "and similar goes to second and fourth'''"
   ]
  },
  {
   "cell_type": "code",
   "execution_count": null,
   "id": "14093688",
   "metadata": {
    "id": "14093688"
   },
   "outputs": [],
   "source": [
    "x.sort(axis=0)"
   ]
  },
  {
   "cell_type": "code",
   "execution_count": null,
   "id": "fbe551e2",
   "metadata": {
    "id": "fbe551e2",
    "outputId": "aa19c71b-7f25-4355-beb0-4663a4832948"
   },
   "outputs": [
    {
     "data": {
      "text/plain": [
       "array([[[12,  5,  2, 13],\n",
       "        [10,  4, 20,  7]],\n",
       "\n",
       "       [[20,  5, 45, 40],\n",
       "        [21, 19, 33, 30]]])"
      ]
     },
     "execution_count": 133,
     "metadata": {},
     "output_type": "execute_result"
    }
   ],
   "source": [
    "x"
   ]
  },
  {
   "cell_type": "code",
   "execution_count": null,
   "id": "a0d820c2",
   "metadata": {
    "id": "a0d820c2"
   },
   "outputs": [],
   "source": [
    "#to find the reverse"
   ]
  },
  {
   "cell_type": "code",
   "execution_count": null,
   "id": "f6d9aad1",
   "metadata": {
    "id": "f6d9aad1",
    "outputId": "2871c55c-959e-4049-98ec-ff1fcdf58b4b"
   },
   "outputs": [
    {
     "data": {
      "text/plain": [
       "array([[[20,  5, 45, 40],\n",
       "        [21, 19, 33, 30]],\n",
       "\n",
       "       [[12,  5,  2, 13],\n",
       "        [10,  4, 20,  7]]])"
      ]
     },
     "execution_count": 135,
     "metadata": {},
     "output_type": "execute_result"
    }
   ],
   "source": [
    "x[::-1]"
   ]
  },
  {
   "cell_type": "code",
   "execution_count": null,
   "id": "a58f5df4",
   "metadata": {
    "id": "a58f5df4"
   },
   "outputs": [],
   "source": [
    "'''The reveseing of array in 3 dimension takes place by interchanging the position of layers'''"
   ]
  },
  {
   "cell_type": "markdown",
   "id": "27930e4f",
   "metadata": {
    "id": "27930e4f"
   },
   "source": [
    "### Copy and view"
   ]
  },
  {
   "cell_type": "code",
   "execution_count": null,
   "id": "e045b7f2",
   "metadata": {
    "id": "e045b7f2",
    "outputId": "33b65d15-988b-4dde-df1e-6586e60b4aa0"
   },
   "outputs": [
    {
     "data": {
      "text/plain": [
       "'View imports a shotcut-like feature, while copy creates a duplicate'"
      ]
     },
     "execution_count": 1,
     "metadata": {},
     "output_type": "execute_result"
    }
   ],
   "source": [
    "'''View imports a shotcut-like feature, while copy creates a duplicate'''"
   ]
  },
  {
   "cell_type": "code",
   "execution_count": null,
   "id": "f13d74e6",
   "metadata": {
    "id": "f13d74e6",
    "outputId": "16379ad4-c5b5-438f-b218-62eb0a9a7b00"
   },
   "outputs": [
    {
     "data": {
      "text/plain": [
       "'any changes in the orginal file does not affect hthe duplicate\\nwhere as any changes in the original file affects the view file also'"
      ]
     },
     "execution_count": 2,
     "metadata": {},
     "output_type": "execute_result"
    }
   ],
   "source": [
    "'''any changes in the orginal file does not affect hthe duplicate\n",
    "where as any changes in the original file affects the view file also'''"
   ]
  },
  {
   "cell_type": "code",
   "execution_count": 1,
   "id": "3161b50b",
   "metadata": {
    "id": "3161b50b"
   },
   "outputs": [
    {
     "data": {
      "text/plain": [
       "array([0, 1, 2, 3, 4, 5, 6, 7, 8, 9])"
      ]
     },
     "execution_count": 1,
     "metadata": {},
     "output_type": "execute_result"
    }
   ],
   "source": [
    "import numpy as np\n",
    "x = np.arange(10)\n",
    "x"
   ]
  },
  {
   "cell_type": "code",
   "execution_count": 2,
   "id": "85082f28",
   "metadata": {
    "id": "85082f28"
   },
   "outputs": [],
   "source": [
    "#view shallow copy #copy is deep copy"
   ]
  },
  {
   "cell_type": "code",
   "execution_count": 3,
   "id": "a51a4d4c",
   "metadata": {
    "id": "a51a4d4c"
   },
   "outputs": [
    {
     "data": {
      "text/plain": [
       "array([0, 1, 2, 3, 4, 5, 6, 7, 8, 9])"
      ]
     },
     "execution_count": 3,
     "metadata": {},
     "output_type": "execute_result"
    }
   ],
   "source": [
    "y=x.copy()\n",
    "y"
   ]
  },
  {
   "cell_type": "code",
   "execution_count": 4,
   "id": "2508562c",
   "metadata": {
    "id": "2508562c"
   },
   "outputs": [
    {
     "data": {
      "text/plain": [
       "array([0, 1, 2, 3, 4, 5, 6, 7, 8, 9])"
      ]
     },
     "execution_count": 4,
     "metadata": {},
     "output_type": "execute_result"
    }
   ],
   "source": [
    "z=x.view()\n",
    "z"
   ]
  },
  {
   "cell_type": "code",
   "execution_count": 5,
   "id": "8ea35987",
   "metadata": {
    "id": "8ea35987"
   },
   "outputs": [],
   "source": [
    "x[2]=5"
   ]
  },
  {
   "cell_type": "code",
   "execution_count": 6,
   "id": "71a552de",
   "metadata": {
    "id": "71a552de",
    "outputId": "a4b31f00-09fb-4ee1-dace-73005aa6ee4f"
   },
   "outputs": [
    {
     "data": {
      "text/plain": [
       "array([0, 1, 5, 3, 4, 5, 6, 7, 8, 9])"
      ]
     },
     "execution_count": 6,
     "metadata": {},
     "output_type": "execute_result"
    }
   ],
   "source": [
    "x #second index position value replaced by 5"
   ]
  },
  {
   "cell_type": "code",
   "execution_count": 7,
   "id": "947d4ecc",
   "metadata": {
    "id": "947d4ecc",
    "outputId": "917db8bb-db82-44ec-f90f-47a7282c1e5f"
   },
   "outputs": [
    {
     "name": "stdout",
     "output_type": "stream",
     "text": [
      "[0 1 5 3 4 5 6 7 8 9]\n",
      "[0 1 2 3 4 5 6 7 8 9]\n",
      "[0 1 5 3 4 5 6 7 8 9]\n"
     ]
    }
   ],
   "source": [
    "#copy creates a duplicate file and view is the same file\n",
    "print(x)\n",
    "print(y)\n",
    "print(z)"
   ]
  },
  {
   "cell_type": "code",
   "execution_count": 8,
   "id": "0fa61166",
   "metadata": {
    "id": "0fa61166"
   },
   "outputs": [],
   "source": [
    "x = np.random.randint(10,size=(2,3))"
   ]
  },
  {
   "cell_type": "code",
   "execution_count": 9,
   "id": "9272f077",
   "metadata": {
    "id": "9272f077",
    "outputId": "46795c9c-94d9-4d45-aaea-7258fbf71316"
   },
   "outputs": [
    {
     "data": {
      "text/plain": [
       "array([[5, 8, 9],\n",
       "       [2, 7, 2]])"
      ]
     },
     "execution_count": 9,
     "metadata": {},
     "output_type": "execute_result"
    }
   ],
   "source": [
    "x"
   ]
  },
  {
   "cell_type": "code",
   "execution_count": 10,
   "id": "6a23cac1",
   "metadata": {
    "id": "6a23cac1"
   },
   "outputs": [],
   "source": [
    "y=x.copy()\n"
   ]
  },
  {
   "cell_type": "code",
   "execution_count": 11,
   "id": "d978330c",
   "metadata": {
    "id": "d978330c",
    "outputId": "e2e21219-d521-40b1-ab79-531ff9533d82"
   },
   "outputs": [
    {
     "data": {
      "text/plain": [
       "array([[5, 8, 9],\n",
       "       [2, 7, 2]])"
      ]
     },
     "execution_count": 11,
     "metadata": {},
     "output_type": "execute_result"
    }
   ],
   "source": [
    "y"
   ]
  },
  {
   "cell_type": "code",
   "execution_count": 12,
   "id": "6e8babe2",
   "metadata": {
    "id": "6e8babe2",
    "outputId": "a7ea2be9-0cdf-4940-e6a4-37ff0b55d561"
   },
   "outputs": [],
   "source": [
    "c=x.view()"
   ]
  },
  {
   "cell_type": "code",
   "execution_count": 13,
   "id": "f51533a4",
   "metadata": {
    "id": "f51533a4"
   },
   "outputs": [],
   "source": [
    "x[1,1]=8"
   ]
  },
  {
   "cell_type": "code",
   "execution_count": 14,
   "id": "df7ad0cc",
   "metadata": {
    "id": "df7ad0cc",
    "outputId": "abaa052d-877d-41ba-beda-49c9287ca50d"
   },
   "outputs": [
    {
     "data": {
      "text/plain": [
       "array([[5, 8, 9],\n",
       "       [2, 8, 2]])"
      ]
     },
     "execution_count": 14,
     "metadata": {},
     "output_type": "execute_result"
    }
   ],
   "source": [
    "x"
   ]
  },
  {
   "cell_type": "code",
   "execution_count": 16,
   "id": "06265dc9",
   "metadata": {
    "id": "06265dc9",
    "outputId": "dd166b4a-e5f1-4dcc-b94d-8d7492a7db9e"
   },
   "outputs": [
    {
     "name": "stdout",
     "output_type": "stream",
     "text": [
      "[[5 8 9]\n",
      " [2 8 2]]\n",
      "********************\n",
      "[[5 8 9]\n",
      " [2 8 2]]\n"
     ]
    }
   ],
   "source": [
    "print(x)\n",
    "print(20*\"*\")\n",
    "print(c)"
   ]
  },
  {
   "cell_type": "markdown",
   "id": "e31a8da4",
   "metadata": {
    "id": "e31a8da4"
   },
   "source": [
    "### reshape and flatten"
   ]
  },
  {
   "cell_type": "markdown",
   "id": "2fc7a376",
   "metadata": {
    "id": "2fc7a376"
   },
   "source": [
    "####reshape to change the shape of the array \n",
    ":ex 2x3 to 3x2\n",
    "in reshape we can the total number of elements in the array must be equal to the order of the array"
   ]
  },
  {
   "cell_type": "markdown",
   "id": "6d6efae2",
   "metadata": {
    "id": "6d6efae2"
   },
   "source": [
    " flatten to change any dimension array to one dimension array"
   ]
  },
  {
   "cell_type": "code",
   "execution_count": 17,
   "id": "fb28d334",
   "metadata": {
    "id": "fb28d334"
   },
   "outputs": [],
   "source": [
    "x = np.arange(0,21)"
   ]
  },
  {
   "cell_type": "code",
   "execution_count": 18,
   "id": "db6511c3",
   "metadata": {
    "id": "db6511c3",
    "outputId": "424f9fdf-b440-4c9b-dfe1-dc19b9a8f4da"
   },
   "outputs": [
    {
     "data": {
      "text/plain": [
       "array([ 0,  1,  2,  3,  4,  5,  6,  7,  8,  9, 10, 11, 12, 13, 14, 15, 16,\n",
       "       17, 18, 19, 20])"
      ]
     },
     "execution_count": 18,
     "metadata": {},
     "output_type": "execute_result"
    }
   ],
   "source": [
    "x"
   ]
  },
  {
   "cell_type": "code",
   "execution_count": 19,
   "id": "3599d0b4",
   "metadata": {
    "id": "3599d0b4"
   },
   "outputs": [],
   "source": [
    "b=x.reshape(7,3)"
   ]
  },
  {
   "cell_type": "code",
   "execution_count": null,
   "id": "af27debc",
   "metadata": {
    "id": "af27debc",
    "outputId": "c7c408b0-0a27-4240-994d-d3133c4bc7e7"
   },
   "outputs": [
    {
     "data": {
      "text/plain": [
       "array([[ 0,  1,  2],\n",
       "       [ 3,  4,  5],\n",
       "       [ 6,  7,  8],\n",
       "       [ 9, 10, 11],\n",
       "       [12, 13, 14],\n",
       "       [15, 16, 17],\n",
       "       [18, 19, 20]])"
      ]
     },
     "execution_count": 64,
     "metadata": {},
     "output_type": "execute_result"
    }
   ],
   "source": [
    "b"
   ]
  },
  {
   "cell_type": "code",
   "execution_count": null,
   "id": "ffecf9e3",
   "metadata": {
    "id": "ffecf9e3"
   },
   "outputs": [],
   "source": [
    "c=x.reshape(3,7)"
   ]
  },
  {
   "cell_type": "code",
   "execution_count": null,
   "id": "98613e60",
   "metadata": {
    "id": "98613e60",
    "outputId": "f2b770b9-85df-4eee-d7c9-cb59a2a97776"
   },
   "outputs": [
    {
     "data": {
      "text/plain": [
       "array([[ 0,  1,  2,  3,  4,  5,  6],\n",
       "       [ 7,  8,  9, 10, 11, 12, 13],\n",
       "       [14, 15, 16, 17, 18, 19, 20]])"
      ]
     },
     "execution_count": 68,
     "metadata": {},
     "output_type": "execute_result"
    }
   ],
   "source": [
    "c"
   ]
  },
  {
   "cell_type": "code",
   "execution_count": null,
   "id": "b4c8e121",
   "metadata": {
    "id": "b4c8e121"
   },
   "outputs": [],
   "source": [
    "#create a 3x4 matrix  and convert it to 2x6"
   ]
  },
  {
   "cell_type": "code",
   "execution_count": null,
   "id": "a6f7fc39",
   "metadata": {
    "id": "a6f7fc39"
   },
   "outputs": [],
   "source": [
    "x = np.arange(12).reshape(3,4)"
   ]
  },
  {
   "cell_type": "code",
   "execution_count": null,
   "id": "2558d35a",
   "metadata": {
    "id": "2558d35a",
    "outputId": "10570c40-3f4c-4afe-ed9c-0848d57263d3"
   },
   "outputs": [
    {
     "data": {
      "text/plain": [
       "array([[ 0,  1,  2,  3],\n",
       "       [ 4,  5,  6,  7],\n",
       "       [ 8,  9, 10, 11]])"
      ]
     },
     "execution_count": 71,
     "metadata": {},
     "output_type": "execute_result"
    }
   ],
   "source": [
    "x"
   ]
  },
  {
   "cell_type": "code",
   "execution_count": null,
   "id": "32ffda7f",
   "metadata": {
    "id": "32ffda7f"
   },
   "outputs": [],
   "source": [
    "b = x.reshape(2,6)"
   ]
  },
  {
   "cell_type": "code",
   "execution_count": null,
   "id": "0258dd5c",
   "metadata": {
    "id": "0258dd5c",
    "outputId": "7fb63aae-a7fa-445a-9f83-929a988d125e"
   },
   "outputs": [
    {
     "data": {
      "text/plain": [
       "array([[ 0,  1,  2,  3,  4,  5],\n",
       "       [ 6,  7,  8,  9, 10, 11]])"
      ]
     },
     "execution_count": 74,
     "metadata": {},
     "output_type": "execute_result"
    }
   ],
   "source": [
    "b"
   ]
  },
  {
   "cell_type": "code",
   "execution_count": null,
   "id": "3b428374",
   "metadata": {
    "id": "3b428374"
   },
   "outputs": [],
   "source": [
    "#create array between 1 to 10"
   ]
  },
  {
   "cell_type": "code",
   "execution_count": null,
   "id": "dd8cc05a",
   "metadata": {
    "id": "dd8cc05a"
   },
   "outputs": [],
   "source": [
    "x = np.arange(1,11)"
   ]
  },
  {
   "cell_type": "code",
   "execution_count": null,
   "id": "b434ece6",
   "metadata": {
    "id": "b434ece6",
    "outputId": "3c402338-783d-443e-e3a5-239ad70cf240"
   },
   "outputs": [
    {
     "data": {
      "text/plain": [
       "array([ 1,  2,  3,  4,  5,  6,  7,  8,  9, 10])"
      ]
     },
     "execution_count": 77,
     "metadata": {},
     "output_type": "execute_result"
    }
   ],
   "source": [
    "x"
   ]
  },
  {
   "cell_type": "code",
   "execution_count": null,
   "id": "041fe980",
   "metadata": {
    "id": "041fe980"
   },
   "outputs": [],
   "source": [
    "c = x.reshape(2,5)"
   ]
  },
  {
   "cell_type": "code",
   "execution_count": null,
   "id": "286c7230",
   "metadata": {
    "id": "286c7230",
    "outputId": "c4b505e5-a4db-4522-e4a0-fd2e568226bb"
   },
   "outputs": [
    {
     "data": {
      "text/plain": [
       "array([[ 1,  2,  3,  4,  5],\n",
       "       [ 6,  7,  8,  9, 10]])"
      ]
     },
     "execution_count": 79,
     "metadata": {},
     "output_type": "execute_result"
    }
   ],
   "source": [
    "c"
   ]
  },
  {
   "cell_type": "code",
   "execution_count": null,
   "id": "9d6acca4",
   "metadata": {
    "id": "9d6acca4"
   },
   "outputs": [],
   "source": [
    "b = c.flatten()   #to convert to one dimension"
   ]
  },
  {
   "cell_type": "code",
   "execution_count": null,
   "id": "b39e290f",
   "metadata": {
    "id": "b39e290f",
    "outputId": "15df7931-dcca-4ee8-977d-b262bb9688fe"
   },
   "outputs": [
    {
     "data": {
      "text/plain": [
       "array([ 1,  2,  3,  4,  5,  6,  7,  8,  9, 10])"
      ]
     },
     "execution_count": 83,
     "metadata": {},
     "output_type": "execute_result"
    }
   ],
   "source": [
    "b"
   ]
  },
  {
   "cell_type": "code",
   "execution_count": null,
   "id": "bdf8763a",
   "metadata": {
    "id": "bdf8763a"
   },
   "outputs": [],
   "source": [
    "#creating a 4x5 array"
   ]
  },
  {
   "cell_type": "code",
   "execution_count": null,
   "id": "053c4bdf",
   "metadata": {
    "id": "053c4bdf"
   },
   "outputs": [],
   "source": [
    "x = np.random.randint(10,size=(4,5))"
   ]
  },
  {
   "cell_type": "code",
   "execution_count": null,
   "id": "cf24331f",
   "metadata": {
    "id": "cf24331f",
    "outputId": "3b6f906d-45e2-4e2f-8ff8-7db7d6a6230e"
   },
   "outputs": [
    {
     "data": {
      "text/plain": [
       "array([[5, 5, 5, 3, 7],\n",
       "       [9, 8, 1, 9, 4],\n",
       "       [3, 3, 8, 7, 0],\n",
       "       [9, 4, 9, 1, 4]])"
      ]
     },
     "execution_count": 89,
     "metadata": {},
     "output_type": "execute_result"
    }
   ],
   "source": [
    "x"
   ]
  },
  {
   "cell_type": "code",
   "execution_count": null,
   "id": "b5018901",
   "metadata": {
    "id": "b5018901"
   },
   "outputs": [],
   "source": [
    "b=x.reshape(2,5,2)\n",
    "c = x.reshape(5,2,2)\n",
    "d = x.reshape(2,2,5)"
   ]
  },
  {
   "cell_type": "code",
   "execution_count": null,
   "id": "cc8ff243",
   "metadata": {
    "id": "cc8ff243"
   },
   "outputs": [],
   "source": [
    "print(b)"
   ]
  },
  {
   "cell_type": "markdown",
   "id": "6f0f0370",
   "metadata": {
    "id": "6f0f0370"
   },
   "source": [
    "### resize\n",
    "\n",
    "In reshape, we can only arrange arrays\n",
    "in order of no. of elements\n",
    "present, while in resize, the elements are repeated once the order above\n",
    "the element size is exceeded."
   ]
  },
  {
   "cell_type": "code",
   "execution_count": null,
   "id": "5bf19e97",
   "metadata": {
    "id": "5bf19e97"
   },
   "outputs": [],
   "source": [
    "x = np.arange(10)"
   ]
  },
  {
   "cell_type": "code",
   "execution_count": null,
   "id": "a8d49586",
   "metadata": {
    "id": "a8d49586",
    "outputId": "efca832b-64b1-40c6-e4a9-18936232c4ec"
   },
   "outputs": [
    {
     "data": {
      "text/plain": [
       "array([0, 1, 2, 3, 4, 5, 6, 7, 8, 9])"
      ]
     },
     "execution_count": 96,
     "metadata": {},
     "output_type": "execute_result"
    }
   ],
   "source": [
    "x"
   ]
  },
  {
   "cell_type": "code",
   "execution_count": null,
   "id": "0b80219e",
   "metadata": {
    "id": "0b80219e"
   },
   "outputs": [],
   "source": [
    "b=np.resize(x,(3,7,3))    #resizing using np"
   ]
  },
  {
   "cell_type": "code",
   "execution_count": null,
   "id": "a693d2ad",
   "metadata": {
    "id": "a693d2ad",
    "outputId": "7eb27f25-3396-419a-b6ed-35d7a42f9b1e"
   },
   "outputs": [
    {
     "data": {
      "text/plain": [
       "array([[[0, 1, 2],\n",
       "        [3, 4, 5],\n",
       "        [6, 7, 8],\n",
       "        [9, 0, 1],\n",
       "        [2, 3, 4],\n",
       "        [5, 6, 7],\n",
       "        [8, 9, 0]],\n",
       "\n",
       "       [[1, 2, 3],\n",
       "        [4, 5, 6],\n",
       "        [7, 8, 9],\n",
       "        [0, 1, 2],\n",
       "        [3, 4, 5],\n",
       "        [6, 7, 8],\n",
       "        [9, 0, 1]],\n",
       "\n",
       "       [[2, 3, 4],\n",
       "        [5, 6, 7],\n",
       "        [8, 9, 0],\n",
       "        [1, 2, 3],\n",
       "        [4, 5, 6],\n",
       "        [7, 8, 9],\n",
       "        [0, 1, 2]]])"
      ]
     },
     "execution_count": 109,
     "metadata": {},
     "output_type": "execute_result"
    }
   ],
   "source": [
    "b"
   ]
  },
  {
   "cell_type": "code",
   "execution_count": null,
   "id": "26fe2398",
   "metadata": {
    "id": "26fe2398",
    "outputId": "1b41a737-a43a-44af-9349-67c564f8b87f"
   },
   "outputs": [
    {
     "data": {
      "text/plain": [
       "array([0, 1, 2, 3, 4, 5, 6, 7, 8, 9])"
      ]
     },
     "execution_count": 106,
     "metadata": {},
     "output_type": "execute_result"
    }
   ],
   "source": [
    "c = x.resize()"
   ]
  },
  {
   "cell_type": "code",
   "execution_count": null,
   "id": "cded0cd5",
   "metadata": {
    "id": "cded0cd5"
   },
   "outputs": [],
   "source": [
    "#change 3x4 to 3x4x6"
   ]
  },
  {
   "cell_type": "code",
   "execution_count": null,
   "id": "243e87e9",
   "metadata": {
    "id": "243e87e9"
   },
   "outputs": [],
   "source": [
    "x = np.random.randint(10,size=(3,4))"
   ]
  },
  {
   "cell_type": "code",
   "execution_count": null,
   "id": "a1d72892",
   "metadata": {
    "id": "a1d72892"
   },
   "outputs": [],
   "source": [
    "y = np.resize(x,(3,4,6))"
   ]
  },
  {
   "cell_type": "code",
   "execution_count": null,
   "id": "af8b76a1",
   "metadata": {
    "id": "af8b76a1",
    "outputId": "83909ae9-8967-4e30-b7a2-bec0c4946046"
   },
   "outputs": [
    {
     "data": {
      "text/plain": [
       "array([[[0, 2, 5, 1, 6, 6],\n",
       "        [1, 7, 3, 9, 9, 0],\n",
       "        [0, 2, 5, 1, 6, 6],\n",
       "        [1, 7, 3, 9, 9, 0]],\n",
       "\n",
       "       [[0, 2, 5, 1, 6, 6],\n",
       "        [1, 7, 3, 9, 9, 0],\n",
       "        [0, 2, 5, 1, 6, 6],\n",
       "        [1, 7, 3, 9, 9, 0]],\n",
       "\n",
       "       [[0, 2, 5, 1, 6, 6],\n",
       "        [1, 7, 3, 9, 9, 0],\n",
       "        [0, 2, 5, 1, 6, 6],\n",
       "        [1, 7, 3, 9, 9, 0]]])"
      ]
     },
     "execution_count": 114,
     "metadata": {},
     "output_type": "execute_result"
    }
   ],
   "source": [
    "y"
   ]
  },
  {
   "cell_type": "markdown",
   "id": "3816cf05",
   "metadata": {
    "id": "3816cf05"
   },
   "source": [
    "### dot product \n",
    "same as matrix multiplication"
   ]
  },
  {
   "cell_type": "code",
   "execution_count": null,
   "id": "dadef622",
   "metadata": {
    "id": "dadef622"
   },
   "outputs": [],
   "source": [
    "x=np.random.randint(10,size=(2,2))\n",
    "y=np.random.randint(10,size=(2,2))"
   ]
  },
  {
   "cell_type": "code",
   "execution_count": null,
   "id": "2ca9c4c7",
   "metadata": {
    "id": "2ca9c4c7",
    "outputId": "18d8f778-69f0-4d28-fdd5-9937e03b5a89"
   },
   "outputs": [
    {
     "data": {
      "text/plain": [
       "array([[5, 6],\n",
       "       [0, 6]])"
      ]
     },
     "execution_count": 128,
     "metadata": {},
     "output_type": "execute_result"
    }
   ],
   "source": [
    "x"
   ]
  },
  {
   "cell_type": "code",
   "execution_count": null,
   "id": "ffb5f067",
   "metadata": {
    "id": "ffb5f067",
    "outputId": "bace8b9b-bece-43ef-824b-b0316f73dbcd"
   },
   "outputs": [
    {
     "data": {
      "text/plain": [
       "array([[5, 1],\n",
       "       [7, 0]])"
      ]
     },
     "execution_count": 129,
     "metadata": {},
     "output_type": "execute_result"
    }
   ],
   "source": [
    "y"
   ]
  },
  {
   "cell_type": "code",
   "execution_count": null,
   "id": "345d7af8",
   "metadata": {
    "id": "345d7af8",
    "outputId": "ef610190-c05e-4d5d-f0e2-ac803cdd4537"
   },
   "outputs": [
    {
     "data": {
      "text/plain": [
       "array([[67,  5],\n",
       "       [42,  0]])"
      ]
     },
     "execution_count": 131,
     "metadata": {},
     "output_type": "execute_result"
    }
   ],
   "source": [
    "np.dot(x,y)    #to find the dot product of two matrices, row of 1st matrix * column of 2nd matrix"
   ]
  },
  {
   "cell_type": "code",
   "execution_count": null,
   "id": "5a541b8c",
   "metadata": {
    "id": "5a541b8c"
   },
   "outputs": [],
   "source": [
    "x = np.array([[2,3],[3,4]])\n",
    "y = np.array([[1,5],[3,2]])"
   ]
  },
  {
   "cell_type": "code",
   "execution_count": null,
   "id": "021582c2",
   "metadata": {
    "id": "021582c2",
    "outputId": "31133ea1-7b9c-4c6a-f2f0-e9f01564482a"
   },
   "outputs": [
    {
     "data": {
      "text/plain": [
       "array([[2, 3],\n",
       "       [3, 4]])"
      ]
     },
     "execution_count": 137,
     "metadata": {},
     "output_type": "execute_result"
    }
   ],
   "source": [
    "x"
   ]
  },
  {
   "cell_type": "code",
   "execution_count": null,
   "id": "75b4a5cd",
   "metadata": {
    "id": "75b4a5cd",
    "outputId": "0c79db35-6275-4d32-a675-e0f31a653534"
   },
   "outputs": [
    {
     "data": {
      "text/plain": [
       "array([[1, 5],\n",
       "       [3, 2]])"
      ]
     },
     "execution_count": 138,
     "metadata": {},
     "output_type": "execute_result"
    }
   ],
   "source": [
    "y"
   ]
  },
  {
   "cell_type": "code",
   "execution_count": null,
   "id": "c24f22a8",
   "metadata": {
    "id": "c24f22a8",
    "outputId": "9f133be6-e9f6-4c10-f204-8309414f618a"
   },
   "outputs": [
    {
     "data": {
      "text/plain": [
       "array([[11, 16],\n",
       "       [15, 23]])"
      ]
     },
     "execution_count": 135,
     "metadata": {},
     "output_type": "execute_result"
    }
   ],
   "source": [
    "np.dot(x,y)"
   ]
  },
  {
   "cell_type": "code",
   "execution_count": null,
   "id": "0df93453",
   "metadata": {
    "id": "0df93453"
   },
   "outputs": [],
   "source": [
    "#creating a 3x3 matrix"
   ]
  },
  {
   "cell_type": "code",
   "execution_count": null,
   "id": "ad735fc4",
   "metadata": {
    "id": "ad735fc4"
   },
   "outputs": [],
   "source": [
    "x = np.random.randint(10,size=(3,3))"
   ]
  },
  {
   "cell_type": "code",
   "execution_count": null,
   "id": "72533bd7",
   "metadata": {
    "id": "72533bd7",
    "outputId": "78566513-09e6-483b-ccd0-ec338af1aba0"
   },
   "outputs": [
    {
     "data": {
      "text/plain": [
       "array([[1, 5, 3],\n",
       "       [8, 9, 3],\n",
       "       [6, 6, 6]])"
      ]
     },
     "execution_count": 142,
     "metadata": {},
     "output_type": "execute_result"
    }
   ],
   "source": [
    "x"
   ]
  },
  {
   "cell_type": "markdown",
   "id": "5fc7aa0f",
   "metadata": {
    "id": "5fc7aa0f"
   },
   "source": [
    "##### min value in array\n",
    "numpy.min(array)"
   ]
  },
  {
   "cell_type": "code",
   "execution_count": null,
   "id": "eac2c10d",
   "metadata": {
    "id": "eac2c10d",
    "outputId": "63d7216f-584d-44f4-d482-e485f7c28751"
   },
   "outputs": [
    {
     "data": {
      "text/plain": [
       "1"
      ]
     },
     "execution_count": 146,
     "metadata": {},
     "output_type": "execute_result"
    }
   ],
   "source": [
    "np.min(x)    # to find the minimum value in the array"
   ]
  },
  {
   "cell_type": "markdown",
   "id": "d3851be7",
   "metadata": {
    "id": "d3851be7"
   },
   "source": [
    "##### minimum of values in every row\n",
    "in 2dimension array \n",
    "\n",
    "axis = 1 is row-axis,\n",
    "\n",
    "axis = 0 is column-axis"
   ]
  },
  {
   "cell_type": "code",
   "execution_count": null,
   "id": "e6ae9361",
   "metadata": {
    "id": "e6ae9361",
    "outputId": "254e358a-09bf-4297-8570-65c6b21b0af3"
   },
   "outputs": [
    {
     "data": {
      "text/plain": [
       "array([1, 3, 6])"
      ]
     },
     "execution_count": 152,
     "metadata": {},
     "output_type": "execute_result"
    }
   ],
   "source": [
    "np.min(x,axis=1)   #to find the minimum of every values in every row #row axis default in 2d"
   ]
  },
  {
   "cell_type": "markdown",
   "id": "721bc142",
   "metadata": {
    "id": "721bc142"
   },
   "source": [
    "##### maximum value in array\n",
    "numpy.max(array_name)"
   ]
  },
  {
   "cell_type": "code",
   "execution_count": null,
   "id": "231a4e49",
   "metadata": {
    "id": "231a4e49",
    "outputId": "4aa90955-ec05-4559-a70c-318b5de3625c"
   },
   "outputs": [
    {
     "data": {
      "text/plain": [
       "9"
      ]
     },
     "execution_count": 149,
     "metadata": {},
     "output_type": "execute_result"
    }
   ],
   "source": [
    "np.max(x)"
   ]
  },
  {
   "cell_type": "code",
   "execution_count": null,
   "id": "318a3e44",
   "metadata": {
    "id": "318a3e44",
    "outputId": "4e05237e-78f1-48ed-c3de-ea13915b3b75"
   },
   "outputs": [
    {
     "data": {
      "text/plain": [
       "array([5, 9, 6])"
      ]
     },
     "execution_count": 154,
     "metadata": {},
     "output_type": "execute_result"
    }
   ],
   "source": [
    "np.max(x,axis=1) #to find the max of every values in every row #axis=1 is row axis,defaut"
   ]
  },
  {
   "cell_type": "code",
   "execution_count": null,
   "id": "cc59b55d",
   "metadata": {
    "id": "cc59b55d"
   },
   "outputs": [],
   "source": [
    "#columnvise #axis=0"
   ]
  },
  {
   "cell_type": "code",
   "execution_count": null,
   "id": "196f4779",
   "metadata": {
    "id": "196f4779",
    "outputId": "72d7193a-a6d6-42c9-8a41-5fc05d5d62f2"
   },
   "outputs": [
    {
     "data": {
      "text/plain": [
       "array([8, 9, 6])"
      ]
     },
     "execution_count": 156,
     "metadata": {},
     "output_type": "execute_result"
    }
   ],
   "source": [
    "np.max(x,axis=0)"
   ]
  },
  {
   "cell_type": "code",
   "execution_count": null,
   "id": "28f47fbd",
   "metadata": {
    "id": "28f47fbd",
    "outputId": "d2e7b4ea-71b1-4119-a264-ee0514480e6d"
   },
   "outputs": [
    {
     "data": {
      "text/plain": [
       "'numpy.max(array_name[index],axis=1)'"
      ]
     },
     "execution_count": 7,
     "metadata": {},
     "output_type": "execute_result"
    }
   ],
   "source": [
    "#to find the the min or max of particular row of an array\n",
    "\n",
    "'''numpy.max(array_name[index],axis=1)'''"
   ]
  },
  {
   "cell_type": "code",
   "execution_count": null,
   "id": "d7089bc0",
   "metadata": {
    "id": "d7089bc0",
    "outputId": "462cd152-0e26-4397-a5d5-813189e45262"
   },
   "outputs": [
    {
     "data": {
      "text/plain": [
       "6"
      ]
     },
     "execution_count": 158,
     "metadata": {},
     "output_type": "execute_result"
    }
   ],
   "source": [
    "np.min(x[2])"
   ]
  },
  {
   "cell_type": "code",
   "execution_count": null,
   "id": "b88db64d",
   "metadata": {
    "id": "b88db64d",
    "outputId": "4233c102-8cb6-46a1-8934-53fb0da0980e"
   },
   "outputs": [
    {
     "data": {
      "text/plain": [
       "9"
      ]
     },
     "execution_count": 159,
     "metadata": {},
     "output_type": "execute_result"
    }
   ],
   "source": [
    "np.max(x[1])"
   ]
  },
  {
   "cell_type": "code",
   "execution_count": null,
   "id": "d5cd3859",
   "metadata": {
    "id": "d5cd3859",
    "outputId": "74437a4a-f5ec-4959-c213-1f9239d73fd6"
   },
   "outputs": [
    {
     "data": {
      "text/plain": [
       "'numpy.max(array_name[index],axis=0)'"
      ]
     },
     "execution_count": 6,
     "metadata": {},
     "output_type": "execute_result"
    }
   ],
   "source": [
    "#to find the same for column we use axis = 0 \n",
    "'''numpy.max(array_name[index],axis=0)'''"
   ]
  },
  {
   "cell_type": "markdown",
   "id": "de7a9291",
   "metadata": {
    "id": "de7a9291"
   },
   "source": [
    "### mean,median"
   ]
  },
  {
   "cell_type": "code",
   "execution_count": null,
   "id": "b04905f7",
   "metadata": {
    "id": "b04905f7"
   },
   "outputs": [],
   "source": [
    "#mean also known as average"
   ]
  },
  {
   "cell_type": "code",
   "execution_count": null,
   "id": "8e092662",
   "metadata": {
    "id": "8e092662"
   },
   "outputs": [],
   "source": [
    "x = np.random.randint(10,size=(3,3))"
   ]
  },
  {
   "cell_type": "code",
   "execution_count": null,
   "id": "a45b7d4b",
   "metadata": {
    "id": "a45b7d4b",
    "outputId": "5c63ba00-4906-484b-c4f9-8da1468260a1"
   },
   "outputs": [
    {
     "data": {
      "text/plain": [
       "array([[4, 1, 0],\n",
       "       [5, 9, 5],\n",
       "       [4, 6, 4]])"
      ]
     },
     "execution_count": 166,
     "metadata": {},
     "output_type": "execute_result"
    }
   ],
   "source": [
    "x"
   ]
  },
  {
   "cell_type": "code",
   "execution_count": null,
   "id": "178fd6d7",
   "metadata": {
    "id": "178fd6d7",
    "outputId": "cf5d7047-1520-4e0e-bff9-e3ed3497c9e6"
   },
   "outputs": [
    {
     "data": {
      "text/plain": [
       "'numpy.mean(array_name)'"
      ]
     },
     "execution_count": 8,
     "metadata": {},
     "output_type": "execute_result"
    }
   ],
   "source": [
    "'''numpy.mean(array_name)'''"
   ]
  },
  {
   "cell_type": "code",
   "execution_count": null,
   "id": "0727e29d",
   "metadata": {
    "id": "0727e29d",
    "outputId": "69affbeb-5d4b-4038-85ce-d2c9b8914c7f"
   },
   "outputs": [
    {
     "data": {
      "text/plain": [
       "4.222222222222222"
      ]
     },
     "execution_count": 167,
     "metadata": {},
     "output_type": "execute_result"
    }
   ],
   "source": [
    "np.mean(x)"
   ]
  },
  {
   "cell_type": "code",
   "execution_count": null,
   "id": "a72c40a4",
   "metadata": {
    "id": "a72c40a4"
   },
   "outputs": [],
   "source": [
    "'''numpy.median(array_name)'''"
   ]
  },
  {
   "cell_type": "code",
   "execution_count": null,
   "id": "1d57a270",
   "metadata": {
    "id": "1d57a270"
   },
   "outputs": [],
   "source": [
    "b = np.median(x)"
   ]
  },
  {
   "cell_type": "code",
   "execution_count": null,
   "id": "20c06bb7",
   "metadata": {
    "id": "20c06bb7",
    "outputId": "128ecb8d-e35a-479d-b8ae-a07f7b21e3b7"
   },
   "outputs": [
    {
     "data": {
      "text/plain": [
       "4.0"
      ]
     },
     "execution_count": 173,
     "metadata": {},
     "output_type": "execute_result"
    }
   ],
   "source": [
    "np.median(x)"
   ]
  },
  {
   "cell_type": "code",
   "execution_count": null,
   "id": "e1889447",
   "metadata": {
    "id": "e1889447",
    "outputId": "85b3605e-3b0a-4b4e-8e8a-5fd1a768138a"
   },
   "outputs": [
    {
     "data": {
      "text/plain": [
       "array([[0, 1, 4],\n",
       "       [5, 5, 9],\n",
       "       [4, 4, 6]])"
      ]
     },
     "execution_count": 170,
     "metadata": {},
     "output_type": "execute_result"
    }
   ],
   "source": [
    "x"
   ]
  },
  {
   "cell_type": "code",
   "execution_count": null,
   "id": "f5ad0456",
   "metadata": {
    "id": "f5ad0456"
   },
   "outputs": [],
   "source": [
    "#to find mean and median axis wie"
   ]
  },
  {
   "cell_type": "code",
   "execution_count": null,
   "id": "8888ea1d",
   "metadata": {
    "id": "8888ea1d",
    "outputId": "4ef68b4f-eddc-4247-8a72-7881b8909e6a"
   },
   "outputs": [
    {
     "data": {
      "text/plain": [
       "array([1., 5., 4.])"
      ]
     },
     "execution_count": 175,
     "metadata": {},
     "output_type": "execute_result"
    }
   ],
   "source": [
    "np.median(x,axis=1) #for 2 dimension array axis=1==row"
   ]
  },
  {
   "cell_type": "code",
   "execution_count": null,
   "id": "0c424211",
   "metadata": {
    "id": "0c424211",
    "outputId": "f0d02956-26a3-436d-edcc-71f22ec7e6cb"
   },
   "outputs": [
    {
     "data": {
      "text/plain": [
       "array([4., 4., 6.])"
      ]
     },
     "execution_count": 176,
     "metadata": {},
     "output_type": "execute_result"
    }
   ],
   "source": [
    "np.median(x,axis=0)    #column wise median of 2 dimension array"
   ]
  },
  {
   "cell_type": "code",
   "execution_count": null,
   "id": "78bc6653",
   "metadata": {
    "id": "78bc6653",
    "outputId": "ab2693f0-067a-4e9f-cc27-f759088406a2"
   },
   "outputs": [
    {
     "data": {
      "text/plain": [
       "5.0"
      ]
     },
     "execution_count": 177,
     "metadata": {},
     "output_type": "execute_result"
    }
   ],
   "source": [
    "np.median(x[1])   #to find mean of perticular row of an array"
   ]
  },
  {
   "cell_type": "code",
   "execution_count": null,
   "id": "7916c935",
   "metadata": {
    "id": "7916c935",
    "outputId": "ce767eff-f7b0-4aa8-e204-2090c36e33b8"
   },
   "outputs": [
    {
     "data": {
      "text/plain": [
       "5.0"
      ]
     },
     "execution_count": 178,
     "metadata": {},
     "output_type": "execute_result"
    }
   ],
   "source": [
    "np.median(x[1],axis=0)  "
   ]
  },
  {
   "cell_type": "code",
   "execution_count": null,
   "id": "b2bf5376",
   "metadata": {
    "id": "b2bf5376",
    "outputId": "ef7747e4-b36a-4221-bd6b-89abc5a2dd45"
   },
   "outputs": [
    {
     "data": {
      "text/plain": [
       "4.0"
      ]
     },
     "execution_count": 179,
     "metadata": {},
     "output_type": "execute_result"
    }
   ],
   "source": [
    "np.median(x[2],axis=0)   "
   ]
  },
  {
   "cell_type": "code",
   "execution_count": null,
   "id": "6474eaf8",
   "metadata": {
    "id": "6474eaf8"
   },
   "outputs": [],
   "source": [
    "#creating a 3 dimension array"
   ]
  },
  {
   "cell_type": "code",
   "execution_count": null,
   "id": "0c539d32",
   "metadata": {
    "id": "0c539d32"
   },
   "outputs": [],
   "source": [
    "x = np.random.randint(10,size=(2,3,3))"
   ]
  },
  {
   "cell_type": "code",
   "execution_count": null,
   "id": "e404f103",
   "metadata": {
    "id": "e404f103",
    "outputId": "2be60339-7251-414b-b678-f0fd504d10cc"
   },
   "outputs": [
    {
     "data": {
      "text/plain": [
       "array([[[7, 9, 5],\n",
       "        [1, 2, 4],\n",
       "        [9, 3, 2]],\n",
       "\n",
       "       [[0, 6, 3],\n",
       "        [6, 7, 3],\n",
       "        [0, 8, 5]]])"
      ]
     },
     "execution_count": 183,
     "metadata": {},
     "output_type": "execute_result"
    }
   ],
   "source": [
    "x"
   ]
  },
  {
   "cell_type": "code",
   "execution_count": null,
   "id": "8038b564",
   "metadata": {
    "id": "8038b564",
    "outputId": "24d87d21-dcb3-4198-996f-12ca299aff82"
   },
   "outputs": [
    {
     "data": {
      "text/plain": [
       "4.444444444444445"
      ]
     },
     "execution_count": 184,
     "metadata": {},
     "output_type": "execute_result"
    }
   ],
   "source": [
    "np.mean(x)"
   ]
  },
  {
   "cell_type": "code",
   "execution_count": null,
   "id": "6bbcec94",
   "metadata": {
    "id": "6bbcec94",
    "outputId": "199f6309-626b-49ef-c751-102537435235"
   },
   "outputs": [
    {
     "data": {
      "text/plain": [
       "4.5"
      ]
     },
     "execution_count": 185,
     "metadata": {},
     "output_type": "execute_result"
    }
   ],
   "source": [
    "np.median(x)"
   ]
  },
  {
   "cell_type": "markdown",
   "id": "9bef35f3",
   "metadata": {
    "id": "9bef35f3"
   },
   "source": [
    "##### In a 3 dimension array,the zeroth axis is layer axis\n",
    "column =1\n",
    "row=2 default"
   ]
  },
  {
   "cell_type": "code",
   "execution_count": null,
   "id": "0eddc8e9",
   "metadata": {
    "id": "0eddc8e9",
    "outputId": "64e571b9-059e-4f07-ccec-b9dbf2b2320f"
   },
   "outputs": [
    {
     "data": {
      "text/plain": [
       "array([[3.5, 7.5, 4. ],\n",
       "       [3.5, 4.5, 3.5],\n",
       "       [4.5, 5.5, 3.5]])"
      ]
     },
     "execution_count": 186,
     "metadata": {},
     "output_type": "execute_result"
    }
   ],
   "source": [
    "np.median(x,axis=0)    #layer wise"
   ]
  },
  {
   "cell_type": "code",
   "execution_count": null,
   "id": "c6964da1",
   "metadata": {
    "id": "c6964da1",
    "outputId": "50f748bd-51c5-49d4-9b58-c0ae598afc3d"
   },
   "outputs": [
    {
     "data": {
      "text/plain": [
       "'when axis = o  the nedian will compare the elementd one above another in the layer and return the 2 dimension median array'"
      ]
     },
     "execution_count": 9,
     "metadata": {},
     "output_type": "execute_result"
    }
   ],
   "source": [
    "'''when axis = o  the nedian will compare the elementd one above another in the layer and return the 2 dimension median array'''"
   ]
  },
  {
   "cell_type": "code",
   "execution_count": null,
   "id": "3684dedb",
   "metadata": {
    "id": "3684dedb",
    "outputId": "a51ed76e-5a5c-4893-f6f5-c6ad2b55215c"
   },
   "outputs": [
    {
     "data": {
      "text/plain": [
       "array([[0, 6, 3],\n",
       "       [1, 2, 3],\n",
       "       [0, 3, 2]])"
      ]
     },
     "execution_count": 187,
     "metadata": {},
     "output_type": "execute_result"
    }
   ],
   "source": [
    "np.min(x,axis=0)   #axis = 0  min of layer1 and corresponding element in layer 2"
   ]
  },
  {
   "cell_type": "code",
   "execution_count": null,
   "id": "0070f7a5",
   "metadata": {
    "id": "0070f7a5",
    "outputId": "601a7a4a-0b53-40e9-9278-ab67471178ee"
   },
   "outputs": [
    {
     "data": {
      "text/plain": [
       "array([[7, 9, 5],\n",
       "       [6, 7, 4],\n",
       "       [9, 8, 5]])"
      ]
     },
     "execution_count": 188,
     "metadata": {},
     "output_type": "execute_result"
    }
   ],
   "source": [
    "np.max(x,axis=0) "
   ]
  },
  {
   "cell_type": "code",
   "execution_count": null,
   "id": "22436311",
   "metadata": {
    "id": "22436311"
   },
   "outputs": [],
   "source": [
    "#axis = 1 column wise"
   ]
  },
  {
   "cell_type": "code",
   "execution_count": null,
   "id": "1396fe33",
   "metadata": {
    "id": "1396fe33",
    "outputId": "6649992b-e739-4499-9fe9-47bda7f6c299"
   },
   "outputs": [
    {
     "data": {
      "text/plain": [
       "array([[1, 2, 2],\n",
       "       [0, 6, 3]])"
      ]
     },
     "execution_count": 190,
     "metadata": {},
     "output_type": "execute_result"
    }
   ],
   "source": [
    "np.min(x,axis=1) "
   ]
  },
  {
   "cell_type": "code",
   "execution_count": null,
   "id": "4399b621",
   "metadata": {
    "id": "4399b621",
    "outputId": "4abca5e6-307a-4a33-a9d5-3279635b1b31"
   },
   "outputs": [
    {
     "data": {
      "text/plain": [
       "array([[9, 9, 5],\n",
       "       [6, 8, 5]])"
      ]
     },
     "execution_count": 191,
     "metadata": {},
     "output_type": "execute_result"
    }
   ],
   "source": [
    "np.max(x,axis=1) "
   ]
  },
  {
   "cell_type": "code",
   "execution_count": null,
   "id": "f23042d7",
   "metadata": {
    "id": "f23042d7"
   },
   "outputs": [],
   "source": [
    "#row wise axis=2"
   ]
  },
  {
   "cell_type": "code",
   "execution_count": null,
   "id": "2b165a19",
   "metadata": {
    "id": "2b165a19",
    "outputId": "29024e7c-cc73-44da-c1fd-b3a5560abcf8"
   },
   "outputs": [
    {
     "data": {
      "text/plain": [
       "array([[5, 1, 2],\n",
       "       [0, 3, 0]])"
      ]
     },
     "execution_count": 193,
     "metadata": {},
     "output_type": "execute_result"
    }
   ],
   "source": [
    "np.min(x,axis=2) "
   ]
  },
  {
   "cell_type": "code",
   "execution_count": null,
   "id": "4646e364",
   "metadata": {
    "id": "4646e364",
    "outputId": "e40b3bae-44b6-4861-b785-502f72c63685"
   },
   "outputs": [
    {
     "data": {
      "text/plain": [
       "array([[9, 4, 9],\n",
       "       [6, 7, 8]])"
      ]
     },
     "execution_count": 194,
     "metadata": {},
     "output_type": "execute_result"
    }
   ],
   "source": [
    "np.max(x,axis=2) "
   ]
  },
  {
   "cell_type": "code",
   "execution_count": null,
   "id": "b41eef2b",
   "metadata": {
    "id": "b41eef2b"
   },
   "outputs": [],
   "source": [
    "#first layer 1 st row ewan and media"
   ]
  },
  {
   "cell_type": "code",
   "execution_count": null,
   "id": "ff40e513",
   "metadata": {
    "id": "ff40e513",
    "outputId": "4d792daa-ec42-4348-975b-f38e296f540e"
   },
   "outputs": [
    {
     "data": {
      "text/plain": [
       "7.0"
      ]
     },
     "execution_count": 196,
     "metadata": {},
     "output_type": "execute_result"
    }
   ],
   "source": [
    "np.median(x[0,0])"
   ]
  },
  {
   "cell_type": "code",
   "execution_count": null,
   "id": "777b61a4",
   "metadata": {
    "id": "777b61a4",
    "outputId": "1b67af4f-9b49-4205-bf9c-3b459798fc15"
   },
   "outputs": [
    {
     "data": {
      "text/plain": [
       "3.0"
      ]
     },
     "execution_count": 198,
     "metadata": {},
     "output_type": "execute_result"
    }
   ],
   "source": [
    "np.mean(x[1,0]) "
   ]
  },
  {
   "cell_type": "code",
   "execution_count": null,
   "id": "e7194b51",
   "metadata": {
    "id": "e7194b51",
    "outputId": "8fe302a7-23d1-4150-f4b4-72497e6e157a"
   },
   "outputs": [
    {
     "data": {
      "text/plain": [
       "3.0"
      ]
     },
     "execution_count": 199,
     "metadata": {},
     "output_type": "execute_result"
    }
   ],
   "source": [
    "np.median(x[1,0])"
   ]
  },
  {
   "cell_type": "code",
   "execution_count": null,
   "id": "272ea7c0",
   "metadata": {
    "id": "272ea7c0"
   },
   "outputs": [],
   "source": [
    "#do the same with column axis"
   ]
  },
  {
   "cell_type": "markdown",
   "id": "05cd9f11",
   "metadata": {
    "id": "05cd9f11"
   },
   "source": [
    "### vstack,hstack\n",
    "\n",
    "both functions similarly, they join the two arrays one above another in a row wise manner"
   ]
  },
  {
   "cell_type": "code",
   "execution_count": null,
   "id": "ec2d1cc5",
   "metadata": {
    "id": "ec2d1cc5"
   },
   "outputs": [],
   "source": [
    "#create 2 2x2 array"
   ]
  },
  {
   "cell_type": "code",
   "execution_count": null,
   "id": "fbad3440",
   "metadata": {
    "id": "fbad3440"
   },
   "outputs": [],
   "source": [
    "#vstack and row stack are same"
   ]
  },
  {
   "cell_type": "code",
   "execution_count": 74,
   "id": "919221dc",
   "metadata": {
    "id": "919221dc"
   },
   "outputs": [
    {
     "data": {
      "text/plain": [
       "array([[0, 1],\n",
       "       [2, 3]])"
      ]
     },
     "execution_count": 74,
     "metadata": {},
     "output_type": "execute_result"
    }
   ],
   "source": [
    "x = np.arange(4).reshape(2,2)\n",
    "x"
   ]
  },
  {
   "cell_type": "code",
   "execution_count": 75,
   "id": "9a1afb06",
   "metadata": {
    "id": "9a1afb06"
   },
   "outputs": [
    {
     "data": {
      "text/plain": [
       "array([[0, 1],\n",
       "       [2, 3]])"
      ]
     },
     "execution_count": 75,
     "metadata": {},
     "output_type": "execute_result"
    }
   ],
   "source": [
    "y = np.arange(4).reshape(2,2)\n",
    "y"
   ]
  },
  {
   "cell_type": "code",
   "execution_count": 76,
   "id": "1dab555d",
   "metadata": {
    "id": "1dab555d"
   },
   "outputs": [
    {
     "data": {
      "text/plain": [
       "array([[0, 1],\n",
       "       [2, 3],\n",
       "       [0, 1],\n",
       "       [2, 3]])"
      ]
     },
     "execution_count": 76,
     "metadata": {},
     "output_type": "execute_result"
    }
   ],
   "source": [
    "c = np.vstack((x,y))\n",
    "c"
   ]
  },
  {
   "cell_type": "code",
   "execution_count": 77,
   "id": "3ac39386",
   "metadata": {
    "id": "3ac39386"
   },
   "outputs": [
    {
     "data": {
      "text/plain": [
       "array([[0, 1],\n",
       "       [2, 3],\n",
       "       [0, 1],\n",
       "       [2, 3]])"
      ]
     },
     "execution_count": 77,
     "metadata": {},
     "output_type": "execute_result"
    }
   ],
   "source": [
    "#row stacks\n",
    "d = np.row_stack((x,y))\n",
    "d"
   ]
  },
  {
   "cell_type": "markdown",
   "id": "105bd231",
   "metadata": {
    "id": "105bd231"
   },
   "source": [
    "##### hstack,column_stack\n",
    "Similar to each other, both functions join the two arrays column by\n",
    "column"
   ]
  },
  {
   "cell_type": "code",
   "execution_count": null,
   "id": "d281997c",
   "metadata": {
    "id": "d281997c"
   },
   "outputs": [],
   "source": [
    "e = np.hstack((x,y))  #horizontal stacking"
   ]
  },
  {
   "cell_type": "code",
   "execution_count": null,
   "id": "116f4bd0",
   "metadata": {
    "id": "116f4bd0",
    "outputId": "7248f667-6c47-4d9d-dc2d-0b8fee7025d4"
   },
   "outputs": [
    {
     "data": {
      "text/plain": [
       "array([[0, 1, 0, 1],\n",
       "       [2, 3, 2, 3]])"
      ]
     },
     "execution_count": 214,
     "metadata": {},
     "output_type": "execute_result"
    }
   ],
   "source": [
    "e"
   ]
  },
  {
   "cell_type": "code",
   "execution_count": null,
   "id": "95d79cb8",
   "metadata": {
    "id": "95d79cb8"
   },
   "outputs": [],
   "source": [
    "f = np.column_stack((x,y))  #horizontal and column stack are same"
   ]
  },
  {
   "cell_type": "code",
   "execution_count": null,
   "id": "61e8b8ce",
   "metadata": {
    "id": "61e8b8ce"
   },
   "outputs": [],
   "source": [
    "#create a 3x3 matrix and apply vstack,hstact,roestack,colstack"
   ]
  },
  {
   "cell_type": "code",
   "execution_count": null,
   "id": "6e37efdc",
   "metadata": {
    "id": "6e37efdc"
   },
   "outputs": [],
   "source": [
    "x = np.random.randint(10,size=(3,3))"
   ]
  },
  {
   "cell_type": "code",
   "execution_count": null,
   "id": "fa437158",
   "metadata": {
    "id": "fa437158"
   },
   "outputs": [],
   "source": [
    "y = np.random.randint(10,size=(3,3))"
   ]
  },
  {
   "cell_type": "code",
   "execution_count": null,
   "id": "05b3791e",
   "metadata": {
    "id": "05b3791e",
    "outputId": "1738d184-3d8e-4b4a-98b7-5a80723f3018"
   },
   "outputs": [
    {
     "data": {
      "text/plain": [
       "array([[2, 9, 0],\n",
       "       [0, 1, 6],\n",
       "       [0, 6, 9]])"
      ]
     },
     "execution_count": 221,
     "metadata": {},
     "output_type": "execute_result"
    }
   ],
   "source": [
    "x"
   ]
  },
  {
   "cell_type": "code",
   "execution_count": null,
   "id": "083900c0",
   "metadata": {
    "id": "083900c0",
    "outputId": "74f4fa26-a6ef-43ca-d3ce-3dfebeb270fb"
   },
   "outputs": [
    {
     "data": {
      "text/plain": [
       "array([[9, 2, 6],\n",
       "       [2, 8, 6],\n",
       "       [3, 0, 7]])"
      ]
     },
     "execution_count": 222,
     "metadata": {},
     "output_type": "execute_result"
    }
   ],
   "source": [
    "y"
   ]
  },
  {
   "cell_type": "code",
   "execution_count": null,
   "id": "24f25986",
   "metadata": {
    "id": "24f25986"
   },
   "outputs": [],
   "source": [
    "c = np.vstack((x,y))"
   ]
  },
  {
   "cell_type": "code",
   "execution_count": null,
   "id": "c2a5ff56",
   "metadata": {
    "id": "c2a5ff56"
   },
   "outputs": [],
   "source": [
    "d = np.row_stack((x,y))"
   ]
  },
  {
   "cell_type": "code",
   "execution_count": null,
   "id": "29c2d37e",
   "metadata": {
    "id": "29c2d37e"
   },
   "outputs": [],
   "source": [
    "e = np.hstack((x,y))"
   ]
  },
  {
   "cell_type": "code",
   "execution_count": null,
   "id": "01df792f",
   "metadata": {
    "id": "01df792f"
   },
   "outputs": [],
   "source": [
    "f = np.column_stack((x,y))"
   ]
  },
  {
   "cell_type": "code",
   "execution_count": null,
   "id": "ed123bec",
   "metadata": {
    "id": "ed123bec",
    "outputId": "5e830436-fd33-4c90-cbe0-8a2d52892bc6"
   },
   "outputs": [
    {
     "data": {
      "text/plain": [
       "array([[2, 9, 0],\n",
       "       [0, 1, 6],\n",
       "       [0, 6, 9],\n",
       "       [9, 2, 6],\n",
       "       [2, 8, 6],\n",
       "       [3, 0, 7]])"
      ]
     },
     "execution_count": 227,
     "metadata": {},
     "output_type": "execute_result"
    }
   ],
   "source": [
    "c"
   ]
  },
  {
   "cell_type": "code",
   "execution_count": null,
   "id": "f585ef43",
   "metadata": {
    "id": "f585ef43",
    "outputId": "fa213049-519e-46fe-cad4-616a6072a57b"
   },
   "outputs": [
    {
     "data": {
      "text/plain": [
       "array([[2, 9, 0],\n",
       "       [0, 1, 6],\n",
       "       [0, 6, 9],\n",
       "       [9, 2, 6],\n",
       "       [2, 8, 6],\n",
       "       [3, 0, 7]])"
      ]
     },
     "execution_count": 228,
     "metadata": {},
     "output_type": "execute_result"
    }
   ],
   "source": [
    "d"
   ]
  },
  {
   "cell_type": "code",
   "execution_count": null,
   "id": "0f4986ba",
   "metadata": {
    "id": "0f4986ba",
    "outputId": "7be6a371-6477-49c0-d294-6590f033950e"
   },
   "outputs": [
    {
     "data": {
      "text/plain": [
       "array([[2, 9, 0, 9, 2, 6],\n",
       "       [0, 1, 6, 2, 8, 6],\n",
       "       [0, 6, 9, 3, 0, 7]])"
      ]
     },
     "execution_count": 229,
     "metadata": {},
     "output_type": "execute_result"
    }
   ],
   "source": [
    "f"
   ]
  }
 ],
 "metadata": {
  "colab": {
   "collapsed_sections": [
    "d3919641",
    "89f6f358",
    "e4431e29",
    "f33bcc94",
    "ad7d61bc",
    "a4142028",
    "4534f653",
    "d20b602d",
    "19d10466",
    "1bfd336d",
    "4c417dd0",
    "b267d7eb",
    "f75a3128",
    "2b30227f",
    "13ec7732",
    "efbf4237",
    "c049677d",
    "e1529d7f",
    "b6094de2",
    "cd2c1353",
    "3b9e4423",
    "0dcec115",
    "c4f4625b",
    "902ff2be",
    "5b851e86",
    "27930e4f",
    "3f65d809",
    "e31a8da4",
    "2fc7a376",
    "6f0f0370",
    "3816cf05",
    "de7a9291"
   ],
   "provenance": []
  },
  "kernelspec": {
   "display_name": "base",
   "language": "python",
   "name": "python3"
  },
  "language_info": {
   "codemirror_mode": {
    "name": "ipython",
    "version": 3
   },
   "file_extension": ".py",
   "mimetype": "text/x-python",
   "name": "python",
   "nbconvert_exporter": "python",
   "pygments_lexer": "ipython3",
   "version": "3.9.13"
  },
  "toc": {
   "base_numbering": 1,
   "nav_menu": {},
   "number_sections": true,
   "sideBar": true,
   "skip_h1_title": false,
   "title_cell": "Table of Contents",
   "title_sidebar": "Contents",
   "toc_cell": false,
   "toc_position": {
    "height": "calc(100% - 180px)",
    "left": "10px",
    "top": "150px",
    "width": "273.188px"
   },
   "toc_section_display": true,
   "toc_window_display": true
  },
  "vscode": {
   "interpreter": {
    "hash": "c213c822b40b31ef05da7d1841bb66206194530b4216931cc1247b83b936d372"
   }
  }
 },
 "nbformat": 4,
 "nbformat_minor": 5
}

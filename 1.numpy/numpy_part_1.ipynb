{
 "cells": [
  {
   "cell_type": "markdown",
   "id": "0163bdea",
   "metadata": {},
   "source": [
    "numpy array is collection of homogenous data"
   ]
  },
  {
   "cell_type": "raw",
   "id": "e13ae2c3",
   "metadata": {},
   "source": [
    "#how to create an empty array"
   ]
  },
  {
   "cell_type": "code",
   "execution_count": 1,
   "id": "8e715552",
   "metadata": {},
   "outputs": [
    {
     "data": {
      "text/plain": [
       "array([1, 2, 3, 4])"
      ]
     },
     "execution_count": 1,
     "metadata": {},
     "output_type": "execute_result"
    }
   ],
   "source": [
    "import numpy as np\n",
    "x = np.array([1,2,3,4])\n",
    "x"
   ]
  },
  {
   "cell_type": "markdown",
   "id": "08844225",
   "metadata": {},
   "source": [
    "Basic properties of array"
   ]
  },
  {
   "cell_type": "code",
   "execution_count": 4,
   "id": "79ace19b",
   "metadata": {},
   "outputs": [
    {
     "data": {
      "text/plain": [
       "numpy.ndarray"
      ]
     },
     "execution_count": 4,
     "metadata": {},
     "output_type": "execute_result"
    }
   ],
   "source": [
    "type(x)"
   ]
  },
  {
   "cell_type": "code",
   "execution_count": 5,
   "id": "137d13a4",
   "metadata": {},
   "outputs": [
    {
     "data": {
      "text/plain": [
       "(4,)"
      ]
     },
     "execution_count": 5,
     "metadata": {},
     "output_type": "execute_result"
    }
   ],
   "source": [
    "x.shape "
   ]
  },
  {
   "cell_type": "code",
   "execution_count": 6,
   "id": "ff2261a7",
   "metadata": {},
   "outputs": [
    {
     "data": {
      "text/plain": [
       "1"
      ]
     },
     "execution_count": 6,
     "metadata": {},
     "output_type": "execute_result"
    }
   ],
   "source": [
    "x.ndim #dimension of the array"
   ]
  },
  {
   "cell_type": "code",
   "execution_count": 8,
   "id": "fbd3e5bd",
   "metadata": {},
   "outputs": [
    {
     "data": {
      "text/plain": [
       "dtype('int32')"
      ]
     },
     "execution_count": 8,
     "metadata": {},
     "output_type": "execute_result"
    }
   ],
   "source": [
    "x.dtype #datatype of the elements with array"
   ]
  },
  {
   "cell_type": "code",
   "execution_count": 9,
   "id": "699bb3d3",
   "metadata": {},
   "outputs": [],
   "source": [
    "#This is an example for creating a 5x4 array"
   ]
  },
  {
   "cell_type": "markdown",
   "id": "6f2787c5",
   "metadata": {},
   "source": [
    "Creating a 2d array"
   ]
  },
  {
   "cell_type": "code",
   "execution_count": 11,
   "id": "2e6a064e",
   "metadata": {},
   "outputs": [
    {
     "data": {
      "text/plain": [
       "array([[1, 2, 3, 4],\n",
       "       [1, 2, 3, 4],\n",
       "       [1, 2, 3, 4],\n",
       "       [1, 2, 3, 4]])"
      ]
     },
     "execution_count": 11,
     "metadata": {},
     "output_type": "execute_result"
    }
   ],
   "source": [
    "x=np.array([[1,2,3,4],[1,2,3,4],[1,2,3,4],[1,2,3,4]])\n",
    "x"
   ]
  },
  {
   "cell_type": "code",
   "execution_count": 12,
   "id": "40cf03f3",
   "metadata": {},
   "outputs": [],
   "source": [
    "#this same array can be created using shortmodules"
   ]
  },
  {
   "cell_type": "code",
   "execution_count": 2,
   "id": "198150ca",
   "metadata": {},
   "outputs": [
    {
     "data": {
      "text/plain": [
       "array([[ 0,  1,  2,  3],\n",
       "       [ 4,  5,  6,  7],\n",
       "       [ 8,  9, 10, 11],\n",
       "       [12, 13, 14, 15],\n",
       "       [16, 17, 18, 19]])"
      ]
     },
     "execution_count": 2,
     "metadata": {},
     "output_type": "execute_result"
    }
   ],
   "source": [
    "# this will create an array of 5x4 size with range of 0-19\n",
    "x=np.arange(20).reshape(5,4)\n",
    "x"
   ]
  },
  {
   "cell_type": "code",
   "execution_count": 3,
   "id": "93ba61aa",
   "metadata": {},
   "outputs": [
    {
     "data": {
      "text/plain": [
       "array([[16, 13, 19, 17],\n",
       "       [19, 17, 10, 12],\n",
       "       [18, 12, 13, 17],\n",
       "       [10, 16, 19, 12],\n",
       "       [14, 18, 16, 14]])"
      ]
     },
     "execution_count": 3,
     "metadata": {},
     "output_type": "execute_result"
    }
   ],
   "source": [
    "# will create an array of 20 elements with random numbers between 10 - 20\n",
    "x=np.random.randint(10,high=20,size=(5,4))\n",
    "x"
   ]
  },
  {
   "cell_type": "code",
   "execution_count": 4,
   "id": "973336ec",
   "metadata": {},
   "outputs": [],
   "source": [
    "#creating a 2x2x4 array from 2 arrays\n",
    "x=np.arange(8).reshape(2,4)\n",
    "y=np.arange(8,16).reshape(2,4)\n"
   ]
  },
  {
   "cell_type": "code",
   "execution_count": 5,
   "id": "db693793",
   "metadata": {},
   "outputs": [
    {
     "data": {
      "text/plain": [
       "array([[[ 0,  1,  2,  3],\n",
       "        [ 4,  5,  6,  7]],\n",
       "\n",
       "       [[ 8,  9, 10, 11],\n",
       "        [12, 13, 14, 15]]])"
      ]
     },
     "execution_count": 5,
     "metadata": {},
     "output_type": "execute_result"
    }
   ],
   "source": [
    "z=np.stack((x,y))   #stack is used to join two similar arrays on z axis\n",
    "z"
   ]
  },
  {
   "cell_type": "code",
   "execution_count": 24,
   "id": "f85bd1b7",
   "metadata": {},
   "outputs": [
    {
     "data": {
      "text/plain": [
       "(2, 2, 4)"
      ]
     },
     "execution_count": 24,
     "metadata": {},
     "output_type": "execute_result"
    }
   ],
   "source": [
    "z.shape"
   ]
  },
  {
   "cell_type": "code",
   "execution_count": 6,
   "id": "9847b649",
   "metadata": {},
   "outputs": [],
   "source": [
    "#creating a 5x4 array different method"
   ]
  },
  {
   "cell_type": "code",
   "execution_count": 7,
   "id": "4f614e8e",
   "metadata": {},
   "outputs": [
    {
     "data": {
      "text/plain": [
       "array([[ 0, 14, 18,  0],\n",
       "       [14, 18, 13, 18],\n",
       "       [ 5,  8, 13,  7],\n",
       "       [ 8, 16,  0,  4],\n",
       "       [ 4,  4, 13,  5]])"
      ]
     },
     "execution_count": 7,
     "metadata": {},
     "output_type": "execute_result"
    }
   ],
   "source": [
    "x = np.random.randint(20,size=(5,4))\n",
    "x"
   ]
  },
  {
   "cell_type": "code",
   "execution_count": 8,
   "id": "2b286d95",
   "metadata": {},
   "outputs": [],
   "source": [
    "#creatin an array with 3x2x5"
   ]
  },
  {
   "cell_type": "code",
   "execution_count": 9,
   "id": "ac406b2f",
   "metadata": {},
   "outputs": [
    {
     "data": {
      "text/plain": [
       "array([[[15, 12, 12, 15, 18],\n",
       "        [12, 21, 21, 20, 22]],\n",
       "\n",
       "       [[29,  7,  1,  5, 10],\n",
       "        [23, 16, 26, 24, 16]],\n",
       "\n",
       "       [[ 0,  6, 12, 18, 13],\n",
       "        [ 0, 17, 26, 10, 14]]])"
      ]
     },
     "execution_count": 9,
     "metadata": {},
     "output_type": "execute_result"
    }
   ],
   "source": [
    "x = np.random.randint(30,size=(3,2,5))\n",
    "x"
   ]
  },
  {
   "cell_type": "code",
   "execution_count": 10,
   "id": "309c537f",
   "metadata": {},
   "outputs": [],
   "source": [
    "# stacking of 3 arrays\n",
    "x = np.arange(10).reshape(2,5)\n",
    "y = np.arange(10,20).reshape(2,5)\n",
    "w = np.arange(20,30).reshape(2,5)"
   ]
  },
  {
   "cell_type": "code",
   "execution_count": 11,
   "id": "730c59a1",
   "metadata": {},
   "outputs": [],
   "source": [
    "z = np.stack((x,y,w))"
   ]
  },
  {
   "cell_type": "code",
   "execution_count": 12,
   "id": "32286214",
   "metadata": {},
   "outputs": [
    {
     "data": {
      "text/plain": [
       "(3, 2, 5)"
      ]
     },
     "execution_count": 12,
     "metadata": {},
     "output_type": "execute_result"
    }
   ],
   "source": [
    "z\n",
    "z.shape"
   ]
  },
  {
   "cell_type": "code",
   "execution_count": 50,
   "id": "3274187d",
   "metadata": {},
   "outputs": [
    {
     "data": {
      "text/plain": [
       "[array([[[0, 1, 2, 3, 4],\n",
       "         [5, 6, 7, 8, 9]]]),\n",
       " array([[[10, 11, 12, 13, 14],\n",
       "         [15, 16, 17, 18, 19]]]),\n",
       " array([[[20, 21, 22, 23, 24],\n",
       "         [25, 26, 27, 28, 29]]])]"
      ]
     },
     "execution_count": 50,
     "metadata": {},
     "output_type": "execute_result"
    }
   ],
   "source": [
    "b=np.array_split(z,3)\n",
    "b"
   ]
  },
  {
   "attachments": {},
   "cell_type": "markdown",
   "id": "3f92a61f",
   "metadata": {},
   "source": [
    "### Zero array\n",
    "creating an array of zeros"
   ]
  },
  {
   "cell_type": "code",
   "execution_count": 2,
   "id": "8d8f927d",
   "metadata": {},
   "outputs": [
    {
     "name": "stdout",
     "output_type": "stream",
     "text": [
      "[[[0. 0. 0. 0. 0.]\n",
      "  [0. 0. 0. 0. 0.]\n",
      "  [0. 0. 0. 0. 0.]\n",
      "  [0. 0. 0. 0. 0.]]\n",
      "\n",
      " [[0. 0. 0. 0. 0.]\n",
      "  [0. 0. 0. 0. 0.]\n",
      "  [0. 0. 0. 0. 0.]\n",
      "  [0. 0. 0. 0. 0.]]\n",
      "\n",
      " [[0. 0. 0. 0. 0.]\n",
      "  [0. 0. 0. 0. 0.]\n",
      "  [0. 0. 0. 0. 0.]\n",
      "  [0. 0. 0. 0. 0.]]]\n"
     ]
    }
   ],
   "source": [
    "import numpy as np\n",
    "x=np.zeros((3,4,5))\n",
    "print(x)"
   ]
  },
  {
   "cell_type": "markdown",
   "id": "b05a7208",
   "metadata": {
    "heading_collapsed": true
   },
   "source": [
    "#### zero array of 2x3"
   ]
  },
  {
   "cell_type": "code",
   "execution_count": 3,
   "id": "ec62d2aa",
   "metadata": {
    "hidden": true
   },
   "outputs": [
    {
     "name": "stdout",
     "output_type": "stream",
     "text": [
      "[[0 0 0]\n",
      " [0 0 0]]\n"
     ]
    }
   ],
   "source": [
    "x=np.zeros((2,3),dtype=int)\n",
    "print(x)"
   ]
  },
  {
   "attachments": {},
   "cell_type": "markdown",
   "id": "79675003",
   "metadata": {
    "hidden": true
   },
   "source": [
    "# change data type of array"
   ]
  },
  {
   "cell_type": "markdown",
   "id": "3e083874",
   "metadata": {
    "heading_collapsed": true
   },
   "source": [
    "### Creating array of ones"
   ]
  },
  {
   "cell_type": "code",
   "execution_count": 13,
   "id": "04b976e1",
   "metadata": {
    "hidden": true
   },
   "outputs": [
    {
     "name": "stdout",
     "output_type": "stream",
     "text": [
      "[[[1 1 1]\n",
      "  [1 1 1]\n",
      "  [1 1 1]]\n",
      "\n",
      " [[1 1 1]\n",
      "  [1 1 1]\n",
      "  [1 1 1]]]\n"
     ]
    }
   ],
   "source": [
    "x=np.ones((2,3,3),dtype=int)\n",
    "print(x)"
   ]
  },
  {
   "cell_type": "code",
   "execution_count": 14,
   "id": "43c43efd",
   "metadata": {
    "hidden": true
   },
   "outputs": [
    {
     "name": "stdout",
     "output_type": "stream",
     "text": [
      "[[[3 3 3]\n",
      "  [3 3 3]\n",
      "  [3 3 3]]\n",
      "\n",
      " [[3 3 3]\n",
      "  [3 3 3]\n",
      "  [3 3 3]]]\n"
     ]
    }
   ],
   "source": [
    "# matrix multiplication\n",
    "x=np.ones((2,3,3),dtype=int)*3\n",
    "print(x)"
   ]
  },
  {
   "cell_type": "markdown",
   "id": "10dffcdb",
   "metadata": {
    "heading_collapsed": true
   },
   "source": [
    "### create an array of evenly placed"
   ]
  },
  {
   "cell_type": "code",
   "execution_count": 15,
   "id": "db9abc83",
   "metadata": {
    "hidden": true
   },
   "outputs": [
    {
     "data": {
      "text/plain": [
       "array([ 2,  7, 12, 17, 22, 27, 32, 37, 42, 47])"
      ]
     },
     "execution_count": 15,
     "metadata": {},
     "output_type": "execute_result"
    }
   ],
   "source": [
    "import numpy as np\n",
    "x=np.arange(2,50,5)    #arange instead of range a-array range\n",
    "x\n"
   ]
  },
  {
   "cell_type": "markdown",
   "id": "1b125d2a",
   "metadata": {},
   "source": [
    "### Line space"
   ]
  },
  {
   "cell_type": "code",
   "execution_count": 16,
   "id": "dcce4f78",
   "metadata": {},
   "outputs": [
    {
     "name": "stdout",
     "output_type": "stream",
     "text": [
      "[  1.  12.  23.  34.  45.  56.  67.  78.  89. 100.]\n"
     ]
    }
   ],
   "source": [
    "#used to split\n",
    "# used to create bins\n",
    "x=np.linspace(1,100,10)   #it splits 1,100 in 10 splits with same difference\n",
    "print(x)"
   ]
  },
  {
   "cell_type": "code",
   "execution_count": 17,
   "id": "7284a2de",
   "metadata": {},
   "outputs": [
    {
     "name": "stdout",
     "output_type": "stream",
     "text": [
      "[  0.           2.04081633   4.08163265   6.12244898   8.16326531\n",
      "  10.20408163  12.24489796  14.28571429  16.32653061  18.36734694\n",
      "  20.40816327  22.44897959  24.48979592  26.53061224  28.57142857\n",
      "  30.6122449   32.65306122  34.69387755  36.73469388  38.7755102\n",
      "  40.81632653  42.85714286  44.89795918  46.93877551  48.97959184\n",
      "  51.02040816  53.06122449  55.10204082  57.14285714  59.18367347\n",
      "  61.2244898   63.26530612  65.30612245  67.34693878  69.3877551\n",
      "  71.42857143  73.46938776  75.51020408  77.55102041  79.59183673\n",
      "  81.63265306  83.67346939  85.71428571  87.75510204  89.79591837\n",
      "  91.83673469  93.87755102  95.91836735  97.95918367 100.        ]\n"
     ]
    }
   ],
   "source": [
    "x=np.linspace(0,100)    #the default sep value is 50 ie the fuction splits the arange into 50 parts as default if not provided with step value\n",
    "print(x)"
   ]
  },
  {
   "cell_type": "code",
   "execution_count": 11,
   "id": "a3a4814a",
   "metadata": {},
   "outputs": [
    {
     "name": "stdout",
     "output_type": "stream",
     "text": [
      "[  1.           3.04081633   5.08163265   7.12244898   9.16326531\n",
      "  11.20408163  13.24489796  15.28571429  17.32653061  19.36734694\n",
      "  21.40816327  23.44897959  25.48979592  27.53061224  29.57142857\n",
      "  31.6122449   33.65306122  35.69387755  37.73469388  39.7755102\n",
      "  41.81632653  43.85714286  45.89795918  47.93877551  49.97959184\n",
      "  52.02040816  54.06122449  56.10204082  58.14285714  60.18367347\n",
      "  62.2244898   64.26530612  66.30612245  68.34693878  70.3877551\n",
      "  72.42857143  74.46938776  76.51020408  78.55102041  80.59183673\n",
      "  82.63265306  84.67346939  86.71428571  88.75510204  90.79591837\n",
      "  92.83673469  94.87755102  96.91836735  98.95918367 101.        ]\n"
     ]
    }
   ],
   "source": [
    "x=np.linspace(1,101)\n",
    "print(x)"
   ]
  },
  {
   "cell_type": "markdown",
   "id": "bb27566c",
   "metadata": {},
   "source": [
    "# creating an array of constants"
   ]
  },
  {
   "cell_type": "code",
   "execution_count": 18,
   "id": "f9fed16c",
   "metadata": {},
   "outputs": [
    {
     "data": {
      "text/plain": [
       "array([[6, 6, 6],\n",
       "       [6, 6, 6]])"
      ]
     },
     "execution_count": 18,
     "metadata": {},
     "output_type": "execute_result"
    }
   ],
   "source": [
    "import numpy as np\n",
    "x = np.full((2,3),6)   #in this way we can create a matrix of 6\n",
    "x"
   ]
  },
  {
   "cell_type": "markdown",
   "id": "28dea24b",
   "metadata": {},
   "source": [
    "## creating a matrix array by taking input from user"
   ]
  },
  {
   "cell_type": "code",
   "execution_count": 19,
   "id": "bd336653",
   "metadata": {},
   "outputs": [
    {
     "data": {
      "text/plain": [
       "array([[2, 2, 2],\n",
       "       [2, 2, 2]])"
      ]
     },
     "execution_count": 19,
     "metadata": {},
     "output_type": "execute_result"
    }
   ],
   "source": [
    "a = int(input(\"enter the number: \"))\n",
    "x = np.full((2,3),a)\n",
    "x"
   ]
  },
  {
   "cell_type": "markdown",
   "id": "a0335af2",
   "metadata": {},
   "source": [
    "# create an identity matrix"
   ]
  },
  {
   "cell_type": "code",
   "execution_count": 20,
   "id": "576f4ab7",
   "metadata": {},
   "outputs": [
    {
     "data": {
      "text/plain": [
       "array([[1., 0., 0., 0., 0.],\n",
       "       [0., 1., 0., 0., 0.],\n",
       "       [0., 0., 1., 0., 0.],\n",
       "       [0., 0., 0., 1., 0.],\n",
       "       [0., 0., 0., 0., 1.]])"
      ]
     },
     "execution_count": 20,
     "metadata": {},
     "output_type": "execute_result"
    }
   ],
   "source": [
    "x = np.eye(5,5)  #eye is used to create identity matrix\n",
    "x"
   ]
  },
  {
   "cell_type": "code",
   "execution_count": 21,
   "id": "a9c97079",
   "metadata": {},
   "outputs": [
    {
     "data": {
      "text/plain": [
       "array([[1, 0],\n",
       "       [0, 1]])"
      ]
     },
     "execution_count": 21,
     "metadata": {},
     "output_type": "execute_result"
    }
   ],
   "source": [
    "#to change dtype\n",
    "x = np.eye(2,2,dtype=int)\n",
    "x"
   ]
  },
  {
   "cell_type": "markdown",
   "id": "ff263851",
   "metadata": {},
   "source": [
    "# introduction to random library in python"
   ]
  },
  {
   "cell_type": "code",
   "execution_count": 22,
   "id": "d07be041",
   "metadata": {},
   "outputs": [
    {
     "data": {
      "text/plain": [
       "array([[[0.32506883, 0.4767059 , 0.76340124],\n",
       "        [0.16016178, 0.33796403, 0.95364867]],\n",
       "\n",
       "       [[0.43185627, 0.63822536, 0.11090792],\n",
       "        [0.90249047, 0.4743616 , 0.35216892]]])"
      ]
     },
     "execution_count": 22,
     "metadata": {},
     "output_type": "execute_result"
    }
   ],
   "source": [
    "x = np.random.random((2,2,3))\n",
    "x    # this will create a matrix/array whose values ly between 0 and 1"
   ]
  },
  {
   "cell_type": "markdown",
   "id": "ed01a90b",
   "metadata": {},
   "source": [
    "### example of random  module"
   ]
  },
  {
   "cell_type": "markdown",
   "id": "75f1a263",
   "metadata": {},
   "source": [
    "##### rand range  #will display any one element between the specified range"
   ]
  },
  {
   "cell_type": "code",
   "execution_count": null,
   "id": "7cd4b7c1",
   "metadata": {},
   "outputs": [],
   "source": [
    "import random as re"
   ]
  },
  {
   "cell_type": "code",
   "execution_count": null,
   "id": "925d459a",
   "metadata": {},
   "outputs": [
    {
     "data": {
      "text/plain": [
       "33"
      ]
     },
     "metadata": {},
     "output_type": "display_data"
    }
   ],
   "source": [
    "x = re.randrange(1,50)  #displays elements randomly within the range\n",
    "x"
   ]
  },
  {
   "cell_type": "code",
   "execution_count": null,
   "id": "9ddee25c",
   "metadata": {},
   "outputs": [
    {
     "data": {
      "text/plain": [
       "36"
      ]
     },
     "metadata": {},
     "output_type": "display_data"
    }
   ],
   "source": [
    "x = re.randint(1,50)\n",
    "x"
   ]
  },
  {
   "cell_type": "markdown",
   "id": "bfb739e4",
   "metadata": {},
   "source": [
    "<div class=\"mark\">\n",
    "<span class=\"mark\">rand int</span> will <span class=\"mark\">display</span> a <span class=\"mark\">random integer</span> between the specified range</div><i class=\"fa fa-lightbulb-o \"></i>"
   ]
  },
  {
   "cell_type": "markdown",
   "id": "a5c05287",
   "metadata": {},
   "source": [
    "### choice"
   ]
  },
  {
   "cell_type": "markdown",
   "id": "ec25bc0d",
   "metadata": {},
   "source": [
    "<span class=\"mark\">random.choice</span>(tuple)"
   ]
  },
  {
   "cell_type": "code",
   "execution_count": null,
   "id": "eb6b0abc",
   "metadata": {},
   "outputs": [
    {
     "data": {
      "text/plain": [
       "'here'"
      ]
     },
     "metadata": {},
     "output_type": "display_data"
    }
   ],
   "source": [
    "tup = (\"we\",\"are\",1,2,3,\"here\")\n",
    "re.choice(tup)  #choice is mostly used inside a tuple\n"
   ]
  },
  {
   "cell_type": "markdown",
   "id": "9e89a04f",
   "metadata": {},
   "source": [
    "### shuffle\n",
    "used to shuffle the list/tupple"
   ]
  },
  {
   "cell_type": "code",
   "execution_count": null,
   "id": "2ff9f2dd",
   "metadata": {},
   "outputs": [
    {
     "name": "stdout",
     "output_type": "stream",
     "text": [
      "None\n"
     ]
    }
   ],
   "source": [
    "import random as re\n",
    "lst=[1,2,3,4,5,6,7,8,\"hello\"]\n",
    "b=re.shuffle(lst)\n",
    "print(b)"
   ]
  },
  {
   "cell_type": "markdown",
   "id": "11d6977e",
   "metadata": {},
   "source": [
    "### sample"
   ]
  },
  {
   "cell_type": "code",
   "execution_count": null,
   "id": "1afe2d27",
   "metadata": {},
   "outputs": [],
   "source": [
    "lst=[1,2,3,4,5,6,7,8,\"hello\"]\n",
    "x = re.sample(lst,3)"
   ]
  },
  {
   "cell_type": "code",
   "execution_count": null,
   "id": "31ee9ca5",
   "metadata": {},
   "outputs": [
    {
     "data": {
      "text/plain": [
       "[4, 2, 'hello']"
      ]
     },
     "metadata": {},
     "output_type": "display_data"
    }
   ],
   "source": [
    "x  # prints the random 3 vars from the list"
   ]
  }
 ],
 "metadata": {
  "kernelspec": {
   "display_name": "base",
   "language": "python",
   "name": "python3"
  },
  "language_info": {
   "codemirror_mode": {
    "name": "ipython",
    "version": 3
   },
   "file_extension": ".py",
   "mimetype": "text/x-python",
   "name": "python",
   "nbconvert_exporter": "python",
   "pygments_lexer": "ipython3",
   "version": "3.9.13"
  },
  "toc": {
   "base_numbering": 1,
   "nav_menu": {},
   "number_sections": true,
   "sideBar": true,
   "skip_h1_title": false,
   "title_cell": "Table of Contents",
   "title_sidebar": "Contents",
   "toc_cell": false,
   "toc_position": {},
   "toc_section_display": true,
   "toc_window_display": true
  },
  "vscode": {
   "interpreter": {
    "hash": "c213c822b40b31ef05da7d1841bb66206194530b4216931cc1247b83b936d372"
   }
  }
 },
 "nbformat": 4,
 "nbformat_minor": 5
}

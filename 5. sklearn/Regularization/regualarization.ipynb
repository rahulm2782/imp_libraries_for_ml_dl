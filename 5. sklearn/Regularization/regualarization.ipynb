{
 "cells": [
  {
   "cell_type": "markdown",
   "id": "713587c2-d77e-4f7d-94b5-a28398e7ad36",
   "metadata": {},
   "source": [
    "# Example code"
   ]
  },
  {
   "cell_type": "code",
   "execution_count": 1,
   "id": "c743d7c7-ad4f-44ee-9d5d-bcf2b230c3e0",
   "metadata": {},
   "outputs": [
    {
     "name": "stdout",
     "output_type": "stream",
     "text": [
      "[0.4625 0.    ]\n"
     ]
    }
   ],
   "source": [
    "from sklearn.linear_model import Lasso, Ridge\n",
    "\n",
    "# Sample data\n",
    "X = [[1, 2], [3, 4], [5, 6]]\n",
    "y = [0, 1, 2]\n",
    "\n",
    "# Create the Lasso model\n",
    "lasso = Lasso(alpha=0.1)\n",
    "\n",
    "# Fit the Lasso model on the data\n",
    "lasso.fit(X, y)\n",
    "\n",
    "# Print the coefficients of the Lasso model\n",
    "print(lasso.coef_)\n",
    "\n",
    "# Create the Ridge model\n",
    "ridge = Ridge\n"
   ]
  }
 ],
 "metadata": {
  "kernelspec": {
   "display_name": "Python 3 (ipykernel)",
   "language": "python",
   "name": "python3"
  },
  "language_info": {
   "codemirror_mode": {
    "name": "ipython",
    "version": 3
   },
   "file_extension": ".py",
   "mimetype": "text/x-python",
   "name": "python",
   "nbconvert_exporter": "python",
   "pygments_lexer": "ipython3",
   "version": "3.9.13"
  }
 },
 "nbformat": 4,
 "nbformat_minor": 5
}

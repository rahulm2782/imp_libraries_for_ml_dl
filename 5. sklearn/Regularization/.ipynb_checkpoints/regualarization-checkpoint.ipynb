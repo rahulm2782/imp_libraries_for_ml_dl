{
 "cells": [
  {
   "cell_type": "markdown",
   "id": "171b67be-3671-4a0b-973a-95f46aa62975",
   "metadata": {},
   "source": [
    "# Lasso and Ridge Regularization"
   ]
  },
  {
   "cell_type": "markdown",
   "id": "868ad7a0-b73b-40b7-81d5-50c7acabab80",
   "metadata": {},
   "source": [
    "Lasso and Ridge regularization are techniques used to prevent overfitting in linear regression models. They add a regularization term to the loss function of the model, which penalizes large coefficients and helps to reduce the complexity of the model.\n",
    "\n",
    "Lasso (Least Absolute Shrinkage and Selection Operator) regularization is a linear model that uses L1 regularization. It adds a penalty term to the loss function that is equal to the absolute value of the coefficients multiplied by a hyperparameter alpha. Lasso regularization tends to drive the coefficients of unimportant features to zero, which can be useful for feature selection.\n",
    "\n",
    "Ridge (Tikhonov regularization) regularization is a linear model that uses L2 regularization. It adds a penalty term to the loss function that is equal to the square of the coefficients multiplied by a hyperparameter alpha. Ridge regularization tends to shrink the coefficients of all features towards zero, which can help to reduce the complexity of the model.\n",
    "\n",
    "Lasso and Ridge regularization can be used to improve the generalization performance of linear models by preventing overfitting and improving the interpretability of the model. The hyperparameter alpha controls the strength of the regularization, and it can be tuned using cross-validation or other hyperparameter optimization methods.\n",
    "\n",
    "Here is an example of how to use Lasso and Ridge regularization in scikit-learn:\n",
    "\n",
    "\n",
    "\n",
    "\n",
    "\n"
   ]
  },
  {
   "cell_type": "code",
   "execution_count": 1,
   "id": "c743d7c7-ad4f-44ee-9d5d-bcf2b230c3e0",
   "metadata": {},
   "outputs": [
    {
     "name": "stdout",
     "output_type": "stream",
     "text": [
      "[0.4625 0.    ]\n"
     ]
    }
   ],
   "source": [
    "from sklearn.linear_model import Lasso, Ridge\n",
    "\n",
    "# Sample data\n",
    "X = [[1, 2], [3, 4], [5, 6]]\n",
    "y = [0, 1, 2]\n",
    "\n",
    "# Create the Lasso model\n",
    "lasso = Lasso(alpha=0.1)\n",
    "\n",
    "# Fit the Lasso model on the data\n",
    "lasso.fit(X, y)\n",
    "\n",
    "# Print the coefficients of the Lasso model\n",
    "print(lasso.coef_)\n",
    "\n",
    "# Create the Ridge model\n",
    "ridge = Ridge\n"
   ]
  }
 ],
 "metadata": {
  "kernelspec": {
   "display_name": "Python 3 (ipykernel)",
   "language": "python",
   "name": "python3"
  },
  "language_info": {
   "codemirror_mode": {
    "name": "ipython",
    "version": 3
   },
   "file_extension": ".py",
   "mimetype": "text/x-python",
   "name": "python",
   "nbconvert_exporter": "python",
   "pygments_lexer": "ipython3",
   "version": "3.9.13"
  }
 },
 "nbformat": 4,
 "nbformat_minor": 5
}
